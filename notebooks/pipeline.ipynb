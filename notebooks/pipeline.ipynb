{
 "cells": [
  {
   "cell_type": "code",
   "execution_count": 6,
   "metadata": {},
   "outputs": [],
   "source": [
    "%load_ext autoreload\n",
    "%autoreload 2\n",
    "\n",
    "import os, sys\n",
    "\n",
    "sys.path.append(os.path.abspath(\"..\"))"
   ]
  },
  {
   "cell_type": "code",
   "execution_count": 7,
   "metadata": {},
   "outputs": [
    {
     "name": "stderr",
     "output_type": "stream",
     "text": [
      "c:\\Users\\ajcon\\Realtime_RAG\\realtime_rag\\Lib\\site-packages\\tqdm\\auto.py:21: TqdmWarning: IProgress not found. Please update jupyter and ipywidgets. See https://ipywidgets.readthedocs.io/en/stable/user_install.html\n",
      "  from .autonotebook import tqdm as notebook_tqdm\n"
     ]
    }
   ],
   "source": [
    "import logging\n",
    "\n",
    "from fire import Fire\n",
    "\n",
    "from streaming_pipeline import constants, initialize\n",
    "from streaming_pipeline.embeddings import EmbeddingModelSingleton\n",
    "from streaming_pipeline.qdrant import build_qdrant_client\n",
    "\n",
    "logger = logging.getLogger(__name__)\n",
    "\n",
    "\n",
    "def search(query_string: str):\n",
    "    \"\"\"\n",
    "    Searches for the closest points to the given query string in the vector database.\n",
    "\n",
    "    Args:\n",
    "        query_string (str): The query string to search for.\n",
    "\n",
    "    Returns:\n",
    "        None\n",
    "    \"\"\"\n",
    "\n",
    "    initialize()\n",
    "\n",
    "    client = build_qdrant_client()\n",
    "    model = EmbeddingModelSingleton()\n",
    "\n",
    "    query_embedding = model(query_string, to_list=True)\n",
    "\n",
    "    hits = client.search(\n",
    "        collection_name=constants.VECTOR_DB_OUTPUT_COLLECTION_NAME,\n",
    "        query_vector=query_embedding,\n",
    "        limit=2,  # Return 5 closest points\n",
    "    )\n",
    "    \n",
    "    for hit in hits:\n",
    "        logger.info(hit)\n"
   ]
  },
  {
   "cell_type": "code",
   "execution_count": 8,
   "metadata": {},
   "outputs": [
    {
     "name": "stderr",
     "output_type": "stream",
     "text": [
      "No logging configuration file found at: logging.yaml. Setting logging level to INFO.\n",
      "INFO:streaming_pipeline:Initializing env vars...\n",
      "INFO:streaming_pipeline:Loading environment variables from: .env\n",
      "INFO:dotenv.main:Python-dotenv could not find configuration file .env.\n",
      "INFO:httpx:HTTP Request: POST https://73bdd42b-86a7-49fc-bcf4-e6bf85cfca17.us-east4-0.gcp.cloud.qdrant.io:6333/collections/alpaca_financial_news/points/search \"HTTP/1.1 200 OK\"\n",
      "INFO:__main__:id='bf1b51d4-2187-6cbc-9217-e66e3555e459' version=6 score=0.8309769 payload={'headline': 'Sangamo Therapeutics Receives U.S. FDA Fast Track Designation For Isaralgagene Civaparvovec For The Treatment Of Fabry Disease', 'summary': 'Sangamo Therapeutics, Inc. (NASDAQ:SGMO), a genomic medicine company, today announced that the U.S. Food and Drug Administration (FDA) has granted Fast Track Designation to isaralgagene civaparvovec, or ST-920, a wholly', 'url': 'https://www.benzinga.com/general/biotech/23/05/32505835/sangamo-therapeutics-receives-u-s-fda-fast-track-designation-for-isaralgagene-civaparvovec-for-th', 'symbols': ['SGMO'], 'author': 'Benzinga Newsdesk', 'created_at': '2023-05-22T12:06:20Z', 'text': 'Sangamo Therapeutics, Inc. (NASDAQ:SGMO), a genomic medicine company, today announced that the U.S. Food and Drug Administration (FDA) has granted Fast Track Designation to isaralgagene civaparvovec, or ST-920, a wholly'} vector=None shard_key=None order_value=None\n",
      "INFO:__main__:id='40f5b90c-e31b-0e9d-feb5-04fcc98c331f' version=6 score=0.787354 payload={'headline': 'Sangamo Therapeutics Receives U.S. FDA Fast Track Designation For Isaralgagene Civaparvovec For The Treatment Of Fabry Disease', 'summary': 'Sangamo Therapeutics, Inc. (NASDAQ:SGMO), a genomic medicine company, today announced that the U.S. Food and Drug Administration (FDA) has granted Fast Track Designation to isaralgagene civaparvovec, or ST-920, a wholly', 'url': 'https://www.benzinga.com/general/biotech/23/05/32505835/sangamo-therapeutics-receives-u-s-fda-fast-track-designation-for-isaralgagene-civaparvovec-for-th', 'symbols': ['SGMO'], 'author': 'Benzinga Newsdesk', 'created_at': '2023-05-22T12:06:20Z', 'text': 'Sangamo Therapeutics Receives U.S. FDA Fast Track Designation For Isaralgagene Civaparvovec For The Treatment Of Fabry Disease'} vector=None shard_key=None order_value=None\n"
     ]
    }
   ],
   "source": [
    "search(\"What did Sangamo announced today?\")"
   ]
  },
  {
   "cell_type": "code",
   "execution_count": null,
   "metadata": {},
   "outputs": [],
   "source": [
    "import datetime\n",
    "from pathlib import Path\n",
    "from typing import List, Optional\n",
    "\n",
    "from bytewax.dataflow import Dataflow\n",
    "from bytewax.testing import TestingSource\n",
    "from pydantic import parse_obj_as\n",
    "from qdrant_client import QdrantClient\n",
    "\n",
    "from streaming_pipeline import mocked\n",
    "# from streaming_pipeline.alpaca_batch import AlpacaNewsBatchInput\n",
    "# from streaming_pipeline.alpaca_stream import AlpacaNewsStreamInput\n",
    "from streaming_pipeline.embeddings import EmbeddingModelSingleton\n",
    "from streaming_pipeline.models import NewsArticle, Document\n",
    "from streaming_pipeline.qdrant import QdrantVectorOutput\n",
    "\n",
    "from bytewax import operators as op\n",
    "\n",
    "model = EmbeddingModelSingleton(cache_dir=None)"
   ]
  },
  {
   "cell_type": "code",
   "execution_count": 3,
   "metadata": {},
   "outputs": [],
   "source": [
    "def build_input(is_input_mocked: bool = True,):\n",
    "    if is_input_mocked:\n",
    "        return TestingSource(mocked.financial_news)"
   ]
  },
  {
   "cell_type": "code",
   "execution_count": 4,
   "metadata": {},
   "outputs": [],
   "source": [
    "def build_output(model: EmbeddingModelSingleton, in_memory: bool = False):\n",
    "    if in_memory:\n",
    "        return QdrantVectorOutput(\n",
    "            vector_size=model.max_input_length,\n",
    "            client=QdrantClient(\":memory:\"),\n",
    "        )\n",
    "    else:\n",
    "        return QdrantVectorOutput(\n",
    "            vector_size=model.max_input_length,\n",
    "        )"
   ]
  },
  {
   "cell_type": "code",
   "execution_count": 5,
   "metadata": {},
   "outputs": [],
   "source": [
    "from pydantic import TypeAdapter\n",
    "\n",
    "article_adapter = TypeAdapter(List[NewsArticle])\n",
    "\n",
    "flow = Dataflow(\"alpaca_news_input\")\n",
    "\n",
    "alpaca_news_input = op.input(\"input\", flow, build_input())\n",
    "\n",
    "article_to_class = op.flat_map(\"class_to_article\", alpaca_news_input, lambda messages: article_adapter.validate_python(messages))\n",
    "_ = op.inspect(\"articles\", article_to_class)\n"
   ]
  },
  {
   "cell_type": "code",
   "execution_count": 6,
   "metadata": {},
   "outputs": [],
   "source": [
    "document = op.map(\"document\", article_to_class, lambda article: article.to_document())\n",
    "_ = op.inspect(\"inspect_document\", document)"
   ]
  },
  {
   "cell_type": "code",
   "execution_count": 7,
   "metadata": {},
   "outputs": [],
   "source": [
    "compute_chunks = op.map(\"chunks\", document, lambda document: document.compute_chunks(model))\n",
    "_ = op.inspect(\"inspect_chunks\", compute_chunks)"
   ]
  },
  {
   "cell_type": "code",
   "execution_count": 8,
   "metadata": {},
   "outputs": [],
   "source": [
    "compute_embeddings = op.map(\"embeddings\", compute_chunks, lambda document: document.compute_embeddings(model)) # flow.map(lambda document: document.compute_embeddings(model))\n",
    "_ = op.inspect(\"inspect_embeddings\", compute_embeddings)"
   ]
  },
  {
   "cell_type": "code",
   "execution_count": 9,
   "metadata": {},
   "outputs": [],
   "source": [
    "output = op.output(\"output\", compute_embeddings, build_output(model)) # flow.output(\"output\", _build_output(model, in_memory=debug))"
   ]
  },
  {
   "cell_type": "code",
   "execution_count": 10,
   "metadata": {},
   "outputs": [
    {
     "name": "stdout",
     "output_type": "stream",
     "text": [
      "Building QdrantVectorSink for worker: step_id alpaca_news_input.output worker_index 0 and worker_count 1\n",
      "alpaca_news_input.articles: NewsArticle(id=32505835, headline='Sangamo Therapeutics Receives U.S. FDA Fast Track Designation For Isaralgagene Civaparvovec For The Treatment Of Fabry Disease', summary='Sangamo Therapeutics, Inc. (NASDAQ:SGMO), a genomic medicine company, today announced that the U.S. Food and Drug Administration (FDA) has granted Fast Track Designation to isaralgagene civaparvovec, or ST-920, a wholly', author='Benzinga Newsdesk', created_at=datetime.datetime(2023, 5, 22, 12, 6, 20, tzinfo=TzInfo(UTC)), updated_at=datetime.datetime(2023, 5, 22, 12, 6, 21, tzinfo=TzInfo(UTC)), url='https://www.benzinga.com/general/biotech/23/05/32505835/sangamo-therapeutics-receives-u-s-fda-fast-track-designation-for-isaralgagene-civaparvovec-for-th', content='<p>Sangamo Therapeutics, Inc. (NASDAQ:<a class=\"ticker\" href=\"https://www.benzinga.com/stock/SGMO#NASDAQ\">SGMO</a>), a genomic medicine company, today announced that the U.S. Food and Drug Administration (FDA) has granted Fast Track Designation to isaralgagene civaparvovec, or ST-920, a wholly owned gene therapy product candidate for the treatment of Fabry disease.</p><p>Fast Track designation aims to facilitate the development and expedite the review of new therapeutics that are intended to treat serious or life-threatening conditions and that demonstrate the potential to address unmet medical needs. Companies granted this designation are given the opportunity for more frequent interactions with the FDA. These clinical programs may also be eligible to apply for Accelerated Approval and Priority Review if relevant criteria are met. The FDA has previously granted ST-920 Orphan Drug Designation.</p><p>\"We are thrilled with the FDA\\'s decision to grant Fast Track Designation for ST-920. Fabry is a debilitating disease with life-long impact,\" said Nathalie Dubois-Stringfellow, Ph.D, Sangamo\\'s Senior Vice President, Chief Development Officer. \"This decision from the FDA underscores the potential for ST-920 to address a serious unmet need and serve as a meaningful therapeutic option for patients with Fabry disease. We are highly encouraged by this promising development and look forward to our expected meeting with the FDA on Phase 3 trial design in the summer.\"</p><p>ST-920 is currently being evaluated in the Phase 1/2 STAAR study, with a total of 20 patients dosed to date. In February 2023, Sangamo announced promising results from the STAAR study via an oral presentation at the 19th Annual WORLD<i>Symposium, </i>showing sustained, elevated expression of alpha-galactosidase A (α-Gal A) activity in the 13 dosed patients as of the data cutoff, 78% globotriaosylceramide (Gb3) substrate clearance at 6-months and 77% reduction in urine podocyte loss in one of the first kidney biopsies, and a clinically meaningful and statistically significant increase in mean general health scores, as measured by the SF-36 General Health survey. A copy of the presentation is available in the <a href=\"https://cts.businesswire.com/ct/CT?id=smartlink&amp;url=https%3A%2F%2Finvestor.sangamo.com%2Fpresentations&amp;esheet=53403648&amp;newsitemid=20230522005108&amp;lan=en-US&amp;anchor=Presentations+section+of+the+Sangamo+website&amp;index=1&amp;md5=b8ed12a9ebf94820f3dec0b898757f74\">Presentations section of the Sangamo website</a>. Sangamo is currently preparing for a potential Phase 3 trial and plans to meet with the FDA on the proposed Phase 3 study design in the summer, with a trial start anticipated by the end of 2023, depending on regulatory interactions.</p><p><strong>About the STAAR Study</strong></p><p>The Phase 1/2 STAAR study is a global open-label, single-dose, dose-ranging, multicenter clinical study designed to evaluate the safety and tolerability of isaralgagene civaparvovec, or ST-920, a gene therapy product candidate in patients with Fabry disease. Isaralgagene civaparvovec requires a one-time infusion without preconditioning. The STAAR study is enrolling patients who are on ERT, are ERT pseudo-naïve (defined as having been off ERT for six or more months), or who are ERT-naïve. The U.S. Food and Drug Administration has granted Orphan Drug and Fast Track designation to isaralgagene civaparvovec, which has also received Orphan Medicinal Product designation from the European Medicines Agency.</p>', symbols=['SGMO'], source='benzinga')\n"
     ]
    },
    {
     "name": "stderr",
     "output_type": "stream",
     "text": [
      "\u001b[32m2024-11-17 03:28:32.021\u001b[0m | \u001b[1mINFO    \u001b[0m | \u001b[36mstreaming_pipeline.models\u001b[0m:\u001b[36mto_document\u001b[0m:\u001b[36m57\u001b[0m - \u001b[1mDocument ID: d1f408284595c367ea1bce5b365a7848\u001b[0m\n",
      "\u001b[32m2024-11-17 03:28:32.902\u001b[0m | \u001b[1mINFO    \u001b[0m | \u001b[36mstreaming_pipeline.models\u001b[0m:\u001b[36mto_document\u001b[0m:\u001b[36m62\u001b[0m - \u001b[1mNumber of article elements: 6\u001b[0m\n",
      "\u001b[32m2024-11-17 03:28:32.902\u001b[0m | \u001b[1mINFO    \u001b[0m | \u001b[36mstreaming_pipeline.models\u001b[0m:\u001b[36mto_document\u001b[0m:\u001b[36m67\u001b[0m - \u001b[1mCleaned content: Sangamo Therapeutics, Inc. (NASDAQ:SGMO), a genomic medicine company, today announced that the U.S. Food and Drug Administration (FDA) has granted Fast Track Designation to isaralgagene civaparvovec, or ST-920, a wholly owned gene therapy product candidate for the treatment of Fabry disease. Fast Track designation aims to facilitate the development and expedite the review of new therapeutics that are intended to treat serious or life-threatening conditions and that demonstrate the potential to address unmet medical needs. Companies granted this designation are given the opportunity for more frequent interactions with the FDA. These clinical programs may also be eligible to apply for Accelerated Approval and Priority Review if relevant criteria are met. The FDA has previously granted ST-920 Orphan Drug Designation. \"We are thrilled with the FDA's decision to grant Fast Track Designation for ST-920. Fabry is a debilitating disease with life-long impact,\" said Nathalie Dubois-Stringfellow, Ph.D, Sangamo's Senior Vice President, Chief Development Officer. \"This decision from the FDA underscores the potential for ST-920 to address a serious unmet need and serve as a meaningful therapeutic option for patients with Fabry disease. We are highly encouraged by this promising development and look forward to our expected meeting with the FDA on Phase 3 trial design in the summer.\" ST-920 is currently being evaluated in the Phase 1/2 STAAR study, with a total of 20 patients dosed to date. In February 2023, Sangamo announced promising results from the STAAR study via an oral presentation at the 19th Annual WORLDSymposium, showing sustained, elevated expression of alpha-galactosidase A (-Gal A) activity in the 13 dosed patients as of the data cutoff, 78% globotriaosylceramide (Gb3) substrate clearance at 6-months and 77% reduction in urine podocyte loss in one of the first kidney biopsies, and a clinically meaningful and statistically significant increase in mean general health scores, as measured by the SF-36 General Health survey. A copy of the presentation is available in the Presentations section of the Sangamo website. Sangamo is currently preparing for a potential Phase 3 trial and plans to meet with the FDA on the proposed Phase 3 study design in the summer, with a trial start anticipated by the end of 2023, depending on regulatory interactions. About the STAAR Study The Phase 1/2 STAAR study is a global open-label, single-dose, dose-ranging, multicenter clinical study designed to evaluate the safety and tolerability of isaralgagene civaparvovec, or ST-920, a gene therapy product candidate in patients with Fabry disease. Isaralgagene civaparvovec requires a one-time infusion without preconditioning. The STAAR study is enrolling patients who are on ERT, are ERT pseudo-nave (defined as having been off ERT for six or more months), or who are ERT-nave. The U.S. Food and Drug Administration has granted Orphan Drug and Fast Track designation to isaralgagene civaparvovec, which has also received Orphan Medicinal Product designation from the European Medicines Agency.\u001b[0m\n",
      "\u001b[32m2024-11-17 03:28:32.902\u001b[0m | \u001b[1mINFO    \u001b[0m | \u001b[36mstreaming_pipeline.models\u001b[0m:\u001b[36mto_document\u001b[0m:\u001b[36m72\u001b[0m - \u001b[1mCleaned headline: Sangamo Therapeutics Receives U.S. FDA Fast Track Designation For Isaralgagene Civaparvovec For The Treatment Of Fabry Disease\u001b[0m\n"
     ]
    },
    {
     "name": "stdout",
     "output_type": "stream",
     "text": [
      "alpaca_news_input.inspect_document: Document(id='d1f408284595c367ea1bce5b365a7848', group_key=None, metadata={'headline': 'Sangamo Therapeutics Receives U.S. FDA Fast Track Designation For Isaralgagene Civaparvovec For The Treatment Of Fabry Disease', 'summary': 'Sangamo Therapeutics, Inc. (NASDAQ:SGMO), a genomic medicine company, today announced that the U.S. Food and Drug Administration (FDA) has granted Fast Track Designation to isaralgagene civaparvovec, or ST-920, a wholly', 'url': 'https://www.benzinga.com/general/biotech/23/05/32505835/sangamo-therapeutics-receives-u-s-fda-fast-track-designation-for-isaralgagene-civaparvovec-for-th', 'symbols': ['SGMO'], 'author': 'Benzinga Newsdesk', 'created_at': datetime.datetime(2023, 5, 22, 12, 6, 20, tzinfo=TzInfo(UTC))}, text=['Sangamo Therapeutics Receives U.S. FDA Fast Track Designation For Isaralgagene Civaparvovec For The Treatment Of Fabry Disease', 'Sangamo Therapeutics, Inc. (NASDAQ:SGMO), a genomic medicine company, today announced that the U.S. Food and Drug Administration (FDA) has granted Fast Track Designation to isaralgagene civaparvovec, or ST-920, a wholly', 'Sangamo Therapeutics, Inc. (NASDAQ:SGMO), a genomic medicine company, today announced that the U.S. Food and Drug Administration (FDA) has granted Fast Track Designation to isaralgagene civaparvovec, or ST-920, a wholly owned gene therapy product candidate for the treatment of Fabry disease. Fast Track designation aims to facilitate the development and expedite the review of new therapeutics that are intended to treat serious or life-threatening conditions and that demonstrate the potential to address unmet medical needs. Companies granted this designation are given the opportunity for more frequent interactions with the FDA. These clinical programs may also be eligible to apply for Accelerated Approval and Priority Review if relevant criteria are met. The FDA has previously granted ST-920 Orphan Drug Designation. \"We are thrilled with the FDA\\'s decision to grant Fast Track Designation for ST-920. Fabry is a debilitating disease with life-long impact,\" said Nathalie Dubois-Stringfellow, Ph.D, Sangamo\\'s Senior Vice President, Chief Development Officer. \"This decision from the FDA underscores the potential for ST-920 to address a serious unmet need and serve as a meaningful therapeutic option for patients with Fabry disease. We are highly encouraged by this promising development and look forward to our expected meeting with the FDA on Phase 3 trial design in the summer.\" ST-920 is currently being evaluated in the Phase 1/2 STAAR study, with a total of 20 patients dosed to date. In February 2023, Sangamo announced promising results from the STAAR study via an oral presentation at the 19th Annual WORLDSymposium, showing sustained, elevated expression of alpha-galactosidase A (-Gal A) activity in the 13 dosed patients as of the data cutoff, 78% globotriaosylceramide (Gb3) substrate clearance at 6-months and 77% reduction in urine podocyte loss in one of the first kidney biopsies, and a clinically meaningful and statistically significant increase in mean general health scores, as measured by the SF-36 General Health survey. A copy of the presentation is available in the Presentations section of the Sangamo website. Sangamo is currently preparing for a potential Phase 3 trial and plans to meet with the FDA on the proposed Phase 3 study design in the summer, with a trial start anticipated by the end of 2023, depending on regulatory interactions. About the STAAR Study The Phase 1/2 STAAR study is a global open-label, single-dose, dose-ranging, multicenter clinical study designed to evaluate the safety and tolerability of isaralgagene civaparvovec, or ST-920, a gene therapy product candidate in patients with Fabry disease. Isaralgagene civaparvovec requires a one-time infusion without preconditioning. The STAAR study is enrolling patients who are on ERT, are ERT pseudo-nave (defined as having been off ERT for six or more months), or who are ERT-nave. The U.S. Food and Drug Administration has granted Orphan Drug and Fast Track designation to isaralgagene civaparvovec, which has also received Orphan Medicinal Product designation from the European Medicines Agency.'], chunks=[], embeddings=[])\n",
      "alpaca_news_input.inspect_chunks: Document(id='d1f408284595c367ea1bce5b365a7848', group_key=None, metadata={'headline': 'Sangamo Therapeutics Receives U.S. FDA Fast Track Designation For Isaralgagene Civaparvovec For The Treatment Of Fabry Disease', 'summary': 'Sangamo Therapeutics, Inc. (NASDAQ:SGMO), a genomic medicine company, today announced that the U.S. Food and Drug Administration (FDA) has granted Fast Track Designation to isaralgagene civaparvovec, or ST-920, a wholly', 'url': 'https://www.benzinga.com/general/biotech/23/05/32505835/sangamo-therapeutics-receives-u-s-fda-fast-track-designation-for-isaralgagene-civaparvovec-for-th', 'symbols': ['SGMO'], 'author': 'Benzinga Newsdesk', 'created_at': datetime.datetime(2023, 5, 22, 12, 6, 20, tzinfo=TzInfo(UTC))}, text=['Sangamo Therapeutics Receives U.S. FDA Fast Track Designation For Isaralgagene Civaparvovec For The Treatment Of Fabry Disease', 'Sangamo Therapeutics, Inc. (NASDAQ:SGMO), a genomic medicine company, today announced that the U.S. Food and Drug Administration (FDA) has granted Fast Track Designation to isaralgagene civaparvovec, or ST-920, a wholly', 'Sangamo Therapeutics, Inc. (NASDAQ:SGMO), a genomic medicine company, today announced that the U.S. Food and Drug Administration (FDA) has granted Fast Track Designation to isaralgagene civaparvovec, or ST-920, a wholly owned gene therapy product candidate for the treatment of Fabry disease. Fast Track designation aims to facilitate the development and expedite the review of new therapeutics that are intended to treat serious or life-threatening conditions and that demonstrate the potential to address unmet medical needs. Companies granted this designation are given the opportunity for more frequent interactions with the FDA. These clinical programs may also be eligible to apply for Accelerated Approval and Priority Review if relevant criteria are met. The FDA has previously granted ST-920 Orphan Drug Designation. \"We are thrilled with the FDA\\'s decision to grant Fast Track Designation for ST-920. Fabry is a debilitating disease with life-long impact,\" said Nathalie Dubois-Stringfellow, Ph.D, Sangamo\\'s Senior Vice President, Chief Development Officer. \"This decision from the FDA underscores the potential for ST-920 to address a serious unmet need and serve as a meaningful therapeutic option for patients with Fabry disease. We are highly encouraged by this promising development and look forward to our expected meeting with the FDA on Phase 3 trial design in the summer.\" ST-920 is currently being evaluated in the Phase 1/2 STAAR study, with a total of 20 patients dosed to date. In February 2023, Sangamo announced promising results from the STAAR study via an oral presentation at the 19th Annual WORLDSymposium, showing sustained, elevated expression of alpha-galactosidase A (-Gal A) activity in the 13 dosed patients as of the data cutoff, 78% globotriaosylceramide (Gb3) substrate clearance at 6-months and 77% reduction in urine podocyte loss in one of the first kidney biopsies, and a clinically meaningful and statistically significant increase in mean general health scores, as measured by the SF-36 General Health survey. A copy of the presentation is available in the Presentations section of the Sangamo website. Sangamo is currently preparing for a potential Phase 3 trial and plans to meet with the FDA on the proposed Phase 3 study design in the summer, with a trial start anticipated by the end of 2023, depending on regulatory interactions. About the STAAR Study The Phase 1/2 STAAR study is a global open-label, single-dose, dose-ranging, multicenter clinical study designed to evaluate the safety and tolerability of isaralgagene civaparvovec, or ST-920, a gene therapy product candidate in patients with Fabry disease. Isaralgagene civaparvovec requires a one-time infusion without preconditioning. The STAAR study is enrolling patients who are on ERT, are ERT pseudo-nave (defined as having been off ERT for six or more months), or who are ERT-nave. The U.S. Food and Drug Administration has granted Orphan Drug and Fast Track designation to isaralgagene civaparvovec, which has also received Orphan Medicinal Product designation from the European Medicines Agency.'], chunks=['Sangamo Therapeutics Receives U.S. FDA Fast Track Designation For Isaralgagene Civaparvovec For The Treatment Of Fabry Disease', 'Sangamo Therapeutics, Inc. (NASDAQ:SGMO), a genomic medicine company, today announced that the U.S. Food and Drug Administration (FDA) has granted Fast Track Designation to isaralgagene civaparvovec, or ST-920, a wholly', 'Sangamo Therapeutics, Inc. (NASDAQ:SGMO), a genomic medicine company, today announced that the U.S. Food and Drug Administration (FDA) has granted Fast Track Designation to isaralgagene civaparvovec, or ST-920, a wholly owned gene therapy product candidate for the treatment of Fabry disease. Fast Track designation aims to facilitate the development and expedite the review of new therapeutics that are intended to treat serious or life-threatening conditions and that demonstrate the potential to address unmet medical needs. Companies granted this designation are given the opportunity for more frequent interactions with the FDA. These clinical programs may also be eligible to apply for Accelerated Approval and Priority Review if relevant criteria are met. The FDA has previously granted ST-920 Orphan Drug Designation. \"We are thrilled with the FDA\\'s decision to grant Fast Track Designation for ST-920. Fabry is a debilitating disease with life-long impact,\" said Nathalie Dubois-Stringfellow, Ph.D, Sangamo\\'s Senior Vice President, Chief Development Officer. \"This decision from the FDA underscores the potential for ST-920 to address a serious unmet need and serve as a meaningful therapeutic option for patients with Fabry disease. We are highly encouraged by this promising development and look forward to our expected meeting with the FDA on Phase 3 trial design in the summer.\" ST-920 is currently being evaluated in the Phase 1/2 STAAR study, with a total of 20 patients dosed to date. In February 2023, Sangamo announced promising results from the STAAR study via an oral presentation at the 19th Annual WORLDSymposium, showing sustained, elevated expression of alpha-galactosidase A (-Gal A) activity in the 13 dosed patients as of the data', 'cutoff, 78% globotriaosylceramide (Gb3) substrate clearance at 6-months and 77% reduction in urine podocyte loss in one of the first kidney biopsies, and a clinically meaningful and statistically significant increase in mean general health scores, as measured by the SF-36 General Health survey. A copy of the presentation is available in the Presentations section of the Sangamo website. Sangamo is currently preparing for a potential Phase 3 trial and plans to meet with the FDA on the proposed Phase 3 study design in the summer, with a trial start anticipated by the end of 2023, depending on regulatory interactions. About the STAAR Study The Phase 1/2 STAAR study is a global open-label, single-dose, dose-ranging, multicenter clinical study designed to evaluate the safety and tolerability of isaralgagene civaparvovec, or ST-920, a gene therapy product candidate in patients with Fabry disease. Isaralgagene civaparvovec requires a one-time infusion without preconditioning. The STAAR study is enrolling patients who are on ERT, are ERT pseudo-nave (defined as having been off ERT for six or more months), or who are ERT-nave. The U.S. Food and Drug Administration has granted Orphan Drug and Fast Track designation to isaralgagene civaparvovec, which has also received Orphan Medicinal Product designation from the European Medicines Agency.'], embeddings=[])\n",
      "alpaca_news_input.inspect_embeddings: Document(id='d1f408284595c367ea1bce5b365a7848', group_key=None, metadata={'headline': 'Sangamo Therapeutics Receives U.S. FDA Fast Track Designation For Isaralgagene Civaparvovec For The Treatment Of Fabry Disease', 'summary': 'Sangamo Therapeutics, Inc. (NASDAQ:SGMO), a genomic medicine company, today announced that the U.S. Food and Drug Administration (FDA) has granted Fast Track Designation to isaralgagene civaparvovec, or ST-920, a wholly', 'url': 'https://www.benzinga.com/general/biotech/23/05/32505835/sangamo-therapeutics-receives-u-s-fda-fast-track-designation-for-isaralgagene-civaparvovec-for-th', 'symbols': ['SGMO'], 'author': 'Benzinga Newsdesk', 'created_at': datetime.datetime(2023, 5, 22, 12, 6, 20, tzinfo=TzInfo(UTC))}, text=['Sangamo Therapeutics Receives U.S. FDA Fast Track Designation For Isaralgagene Civaparvovec For The Treatment Of Fabry Disease', 'Sangamo Therapeutics, Inc. (NASDAQ:SGMO), a genomic medicine company, today announced that the U.S. Food and Drug Administration (FDA) has granted Fast Track Designation to isaralgagene civaparvovec, or ST-920, a wholly', 'Sangamo Therapeutics, Inc. (NASDAQ:SGMO), a genomic medicine company, today announced that the U.S. Food and Drug Administration (FDA) has granted Fast Track Designation to isaralgagene civaparvovec, or ST-920, a wholly owned gene therapy product candidate for the treatment of Fabry disease. Fast Track designation aims to facilitate the development and expedite the review of new therapeutics that are intended to treat serious or life-threatening conditions and that demonstrate the potential to address unmet medical needs. Companies granted this designation are given the opportunity for more frequent interactions with the FDA. These clinical programs may also be eligible to apply for Accelerated Approval and Priority Review if relevant criteria are met. The FDA has previously granted ST-920 Orphan Drug Designation. \"We are thrilled with the FDA\\'s decision to grant Fast Track Designation for ST-920. Fabry is a debilitating disease with life-long impact,\" said Nathalie Dubois-Stringfellow, Ph.D, Sangamo\\'s Senior Vice President, Chief Development Officer. \"This decision from the FDA underscores the potential for ST-920 to address a serious unmet need and serve as a meaningful therapeutic option for patients with Fabry disease. We are highly encouraged by this promising development and look forward to our expected meeting with the FDA on Phase 3 trial design in the summer.\" ST-920 is currently being evaluated in the Phase 1/2 STAAR study, with a total of 20 patients dosed to date. In February 2023, Sangamo announced promising results from the STAAR study via an oral presentation at the 19th Annual WORLDSymposium, showing sustained, elevated expression of alpha-galactosidase A (-Gal A) activity in the 13 dosed patients as of the data cutoff, 78% globotriaosylceramide (Gb3) substrate clearance at 6-months and 77% reduction in urine podocyte loss in one of the first kidney biopsies, and a clinically meaningful and statistically significant increase in mean general health scores, as measured by the SF-36 General Health survey. A copy of the presentation is available in the Presentations section of the Sangamo website. Sangamo is currently preparing for a potential Phase 3 trial and plans to meet with the FDA on the proposed Phase 3 study design in the summer, with a trial start anticipated by the end of 2023, depending on regulatory interactions. About the STAAR Study The Phase 1/2 STAAR study is a global open-label, single-dose, dose-ranging, multicenter clinical study designed to evaluate the safety and tolerability of isaralgagene civaparvovec, or ST-920, a gene therapy product candidate in patients with Fabry disease. Isaralgagene civaparvovec requires a one-time infusion without preconditioning. The STAAR study is enrolling patients who are on ERT, are ERT pseudo-nave (defined as having been off ERT for six or more months), or who are ERT-nave. The U.S. Food and Drug Administration has granted Orphan Drug and Fast Track designation to isaralgagene civaparvovec, which has also received Orphan Medicinal Product designation from the European Medicines Agency.'], chunks=['Sangamo Therapeutics Receives U.S. FDA Fast Track Designation For Isaralgagene Civaparvovec For The Treatment Of Fabry Disease', 'Sangamo Therapeutics, Inc. (NASDAQ:SGMO), a genomic medicine company, today announced that the U.S. Food and Drug Administration (FDA) has granted Fast Track Designation to isaralgagene civaparvovec, or ST-920, a wholly', 'Sangamo Therapeutics, Inc. (NASDAQ:SGMO), a genomic medicine company, today announced that the U.S. Food and Drug Administration (FDA) has granted Fast Track Designation to isaralgagene civaparvovec, or ST-920, a wholly owned gene therapy product candidate for the treatment of Fabry disease. Fast Track designation aims to facilitate the development and expedite the review of new therapeutics that are intended to treat serious or life-threatening conditions and that demonstrate the potential to address unmet medical needs. Companies granted this designation are given the opportunity for more frequent interactions with the FDA. These clinical programs may also be eligible to apply for Accelerated Approval and Priority Review if relevant criteria are met. The FDA has previously granted ST-920 Orphan Drug Designation. \"We are thrilled with the FDA\\'s decision to grant Fast Track Designation for ST-920. Fabry is a debilitating disease with life-long impact,\" said Nathalie Dubois-Stringfellow, Ph.D, Sangamo\\'s Senior Vice President, Chief Development Officer. \"This decision from the FDA underscores the potential for ST-920 to address a serious unmet need and serve as a meaningful therapeutic option for patients with Fabry disease. We are highly encouraged by this promising development and look forward to our expected meeting with the FDA on Phase 3 trial design in the summer.\" ST-920 is currently being evaluated in the Phase 1/2 STAAR study, with a total of 20 patients dosed to date. In February 2023, Sangamo announced promising results from the STAAR study via an oral presentation at the 19th Annual WORLDSymposium, showing sustained, elevated expression of alpha-galactosidase A (-Gal A) activity in the 13 dosed patients as of the data', 'cutoff, 78% globotriaosylceramide (Gb3) substrate clearance at 6-months and 77% reduction in urine podocyte loss in one of the first kidney biopsies, and a clinically meaningful and statistically significant increase in mean general health scores, as measured by the SF-36 General Health survey. A copy of the presentation is available in the Presentations section of the Sangamo website. Sangamo is currently preparing for a potential Phase 3 trial and plans to meet with the FDA on the proposed Phase 3 study design in the summer, with a trial start anticipated by the end of 2023, depending on regulatory interactions. About the STAAR Study The Phase 1/2 STAAR study is a global open-label, single-dose, dose-ranging, multicenter clinical study designed to evaluate the safety and tolerability of isaralgagene civaparvovec, or ST-920, a gene therapy product candidate in patients with Fabry disease. Isaralgagene civaparvovec requires a one-time infusion without preconditioning. The STAAR study is enrolling patients who are on ERT, are ERT pseudo-nave (defined as having been off ERT for six or more months), or who are ERT-nave. The U.S. Food and Drug Administration has granted Orphan Drug and Fast Track designation to isaralgagene civaparvovec, which has also received Orphan Medicinal Product designation from the European Medicines Agency.'], embeddings=[[-0.46419379115104675, -0.3741167187690735, -0.19557084143161774, 0.04230986535549164, -0.11152341961860657, 0.13780519366264343, -0.030629130080342293, 0.32327327132225037, -0.020856119692325592, -0.165744349360466, -0.144208163022995, -0.21294118463993073, -0.5004569888114929, -0.02590077742934227, -0.2793430685997009, 0.007361822761595249, -0.004273143131285906, -0.3205272853374481, -0.10850560665130615, 0.1982852667570114, 0.10472512990236282, -0.1521645039319992, -0.16333578526973724, 0.11658622324466705, 0.04643953591585159, 0.18062013387680054, -0.26744338870048523, -0.09705689549446106, 0.2624960243701935, -0.8078455328941345, 0.09018212556838989, 0.14032495021820068, 0.43570905923843384, -0.1905214488506317, -0.2820780873298645, 0.19736646115779877, 0.01577940583229065, 0.02147260680794716, -0.08501148223876953, -0.07155587524175644, 0.06085550785064697, -0.15878289937973022, 0.2009153962135315, 0.33997073769569397, 0.018718434497714043, -0.6952375769615173, -0.2640899419784546, 0.37480589747428894, -0.02669868990778923, 0.13183549046516418, -0.5573017597198486, -0.21623021364212036, -0.07003087550401688, 0.3088511824607849, 0.018203523010015488, 0.15963393449783325, 0.17779569327831268, 0.029301879927515984, 0.13140790164470673, 0.3089604079723358, 0.04588788375258446, 0.23210586607456207, -0.4238964319229126, 0.13567475974559784, -0.2926604747772217, 0.09538495540618896, 0.04044404625892639, -0.14828099310398102, 0.0746861919760704, 0.23194392025470734, 0.21985183656215668, -0.0038347579538822174, 0.06561484187841415, 0.05085945501923561, 0.26528239250183105, -0.18058890104293823, 0.30879366397857666, -0.010516226291656494, 0.2909531891345978, 0.29880133271217346, -0.46713605523109436, 0.31469854712486267, 0.12292207032442093, -0.28283974528312683, 0.2218622863292694, 0.041365846991539, -0.22598868608474731, 0.06550563871860504, 0.26632338762283325, -0.044339507818222046, 0.17913232743740082, 0.3157837986946106, -0.25728917121887207, -0.1640479564666748, -0.3738615810871124, 0.36571311950683594, 0.1458522230386734, -0.2836078405380249, -0.046836502850055695, 5.831515789031982, -0.1112716794013977, 0.19970083236694336, -0.22266989946365356, 0.024713562801480293, -0.0039405617862939835, -0.4131363034248352, 0.4815129041671753, 0.18343305587768555, -0.29903683066368103, 0.06520487368106842, -0.18768319487571716, 0.21583786606788635, 0.23845824599266052, 0.2525593638420105, -0.376603364944458, -0.2678518295288086, -0.06179081276059151, -0.18180954456329346, 0.2850806415081024, 0.0051336027681827545, -0.07821796834468842, 0.12793214619159698, -0.2583097517490387, -0.025042198598384857, 0.3291032612323761, -1.0568903684616089, -0.2633027732372284, -4.477465916868961e-32, -0.09968076646327972, -0.26070135831832886, 0.2771725058555603, 0.08477378636598587, 0.1781923472881317, 0.13974951207637787, -0.21211613714694977, -0.06489547342061996, -0.3628354072570801, -0.5031578540802002, 0.09809288382530212, -0.38561683893203735, -0.23689495027065277, 0.24210092425346375, 0.2203955352306366, 0.16450323164463043, 0.16766178607940674, -0.12113784998655319, 0.0161189753562212, -0.08651566505432129, 0.27066004276275635, 0.05786530673503876, -0.07900893688201904, -0.007129952311515808, -0.12554237246513367, 0.46449607610702515, -0.1573406159877777, 0.27857187390327454, 0.1288284957408905, -0.21985258162021637, -0.06968957930803299, 0.15752974152565002, 0.13912060856819153, -0.5310825705528259, -0.3867728114128113, 0.08371121436357498, -0.3475218713283539, -0.1312101185321808, -0.3834820091724396, 0.38570767641067505, 0.07056406885385513, 0.28115373849868774, -0.4595533311367035, -0.006530283018946648, 0.11969415843486786, -0.30508628487586975, -0.27160483598709106, 0.13365401327610016, -0.08215346932411194, -0.10997534543275833, -0.1033189445734024, 0.021554745733737946, 0.09346964955329895, 0.29430657625198364, -0.06836911290884018, 0.27713629603385925, -0.4266267716884613, 0.21053262054920197, -0.03993227332830429, 0.005647422280162573, 0.01200896967202425, -0.3307579457759857, 0.008497891947627068, 0.17188683152198792, 0.1766289919614792, -0.22145280241966248, -0.08366116881370544, -0.2348964363336563, -0.24127577245235443, 0.026118779554963112, -0.47428926825523376, -0.08017133921384811, -0.19424200057983398, -0.03662841022014618, -0.0507424920797348, -0.10357196629047394, 0.2280486822128296, 0.1018190085887909, -0.06033056974411011, 0.2087976485490799, 0.09755852818489075, 0.048414766788482666, 0.4077996611595154, 0.553666353225708, -0.14450979232788086, -0.36249008774757385, -0.13517645001411438, 0.06523662060499191, -0.23222625255584717, -0.002822842448949814, 0.014509882777929306, 0.07034596800804138, 0.06583254039287567, -0.03132937476038933, 0.10580398142337799, 3.862204826808883e-32, 0.07701607048511505, 0.16519592702388763, 0.3451618254184723, -0.01990898698568344, -0.10598347336053848, 0.03322230279445648, 0.08275124430656433, -0.26496243476867676, -0.1746743619441986, 0.03436478227376938, 0.04467673599720001, 0.09935986995697021, -0.2772447466850281, 0.011619088239967823, 0.04033367335796356, -0.03597130626440048, 0.38920584321022034, -0.15742972493171692, 0.13382121920585632, 0.1156139224767685, 0.1566360592842102, 0.14705790579319, 0.18308568000793457, 0.22996240854263306, 0.12340296804904938, -0.03614671528339386, 0.10640282928943634, 0.1529420018196106, -0.35833245515823364, -0.42872127890586853, 0.018743781372904778, -0.09279996156692505, -0.3185661733150482, -0.20151746273040771, -0.30503764748573303, 0.09040869772434235, 0.04926443099975586, 0.06315966695547104, 0.14389030635356903, 0.32836979627609253, 0.528898298740387, -0.22813564538955688, -0.14635813236236572, 0.11195312440395355, -0.06517411023378372, 0.36284786462783813, 0.22526496648788452, -0.014988591894507408, 0.06216195225715637, 0.06678593903779984, -0.159348264336586, -0.10595975816249847, 0.04072416573762894, 0.3099600374698639, 0.22601637244224548, -0.46380648016929626, 0.17417481541633606, -0.22768977284431458, 0.14299172163009644, -0.13237401843070984, -0.08324767649173737, 0.23809880018234253, -0.12216339260339737, -0.013209279626607895, 0.11582650244235992, -0.026072045788168907, 0.2306513786315918, 0.36161157488822937, -0.20560261607170105, 0.06306910514831543, -0.07635028660297394, -0.059521861374378204, -0.36658042669296265, 0.5504310131072998, -0.10388322174549103, -0.22377023100852966, -0.4295279383659363, -0.4367251396179199, -0.20878781378269196, -0.17528179287910461, 0.2730551064014435, -0.3910352885723114, -0.06806628406047821, 0.05453280359506607, 0.25373581051826477, 0.30694836378097534, 0.15271863341331482, 0.006193400360643864, 0.23970545828342438, 0.2820485234260559, -0.4067206382751465, 0.10717306286096573, -0.019431475549936295, -0.3316042125225067, 0.1852896809577942, -8.900384074195244e-08, 0.31826791167259216, -0.5003200173377991, -0.09413785487413406, -0.24815978109836578, -0.1693350374698639, 0.2369672656059265, -0.40256133675575256, 0.06417016685009003, -0.05758071690797806, 0.2735847234725952, -0.41378965973854065, 0.025546636432409286, 0.2671326696872711, 0.11321230232715607, -0.09238005429506302, -0.33953872323036194, -0.05755864828824997, 0.024527136236429214, 0.14461876451969147, -0.3579493463039398, -0.20369775593280792, 0.4146002531051636, 0.1573643535375595, -0.129066601395607, 0.03573528304696083, -0.23218435049057007, 0.20148617029190063, -0.42273449897766113, -0.1909359097480774, -0.11510248482227325, -0.14605161547660828, 0.40170687437057495, 0.11415799707174301, 0.3843432664871216, -0.3119373321533203, -0.05240418761968613, 0.4765843152999878, -0.25074005126953125, -0.013725019991397858, -0.22092032432556152, 0.19048871099948883, 0.2518509030342102, 0.020121561363339424, -0.25680941343307495, 0.13273996114730835, 0.01478331908583641, 0.3494850993156433, 0.3054769039154053, 0.5606437921524048, -0.14908979833126068, 0.45922744274139404, 0.17581340670585632, -0.058935217559337616, 0.1579762101173401, -0.1274556666612625, -0.13183319568634033, -0.06980746984481812, -0.2956618666648865, 0.3844379186630249, 0.02469010092318058, 0.14804355800151825, -0.5222727060317993, -0.2248806655406952, -0.25774985551834106], [-0.2459833323955536, -0.2851579189300537, -0.3082544505596161, 0.08250711113214493, 0.03315054252743721, 0.2627098262310028, -0.24446332454681396, 0.326683908700943, -0.33258548378944397, -0.2991349399089813, 0.06958968192338943, -0.22832845151424408, -0.19859564304351807, -0.1866551786661148, 0.05243303254246712, -0.47381454706192017, 0.24518965184688568, 0.21347305178642273, 0.11251875758171082, 0.03457722067832947, 0.08728496730327606, 0.13961125910282135, -0.035773780196905136, -0.061540912836790085, 0.07052848488092422, 0.18957793712615967, -0.0962357446551323, -0.15475347638130188, 0.1879778802394867, -0.9395559430122375, 0.15437045693397522, 0.24191756546497345, 0.24267949163913727, -0.26582765579223633, -0.22838707268238068, 0.28859657049179077, -0.29123324155807495, 0.10373668372631073, 0.09346058964729309, -0.22482098639011383, 0.2546931207180023, -0.3563636243343353, 0.22782212495803833, 0.005878955125808716, 0.03529774397611618, -0.6722362637519836, -0.3544293940067291, 0.29631975293159485, 0.07537397742271423, -0.04299282282590866, -0.4126569628715515, -0.2869125008583069, 0.049426477402448654, 0.3114755153656006, 0.1842203587293625, -0.11303692311048508, 0.006714973598718643, 0.019207017496228218, 0.2358965128660202, 0.11752799898386002, 0.08551540225744247, 0.0794944316148758, 0.07307131588459015, -0.0910274088382721, 0.15591919422149658, 0.05959906429052353, 0.37106719613075256, -0.1371161937713623, -0.043852902948856354, 0.16726039350032806, 0.20505207777023315, 0.480228066444397, 0.1264970898628235, 0.3501420319080353, -0.050265680998563766, 0.15304000675678253, 0.16722378134727478, -0.08414077013731003, 0.09045171737670898, 0.12743403017520905, -0.1587308794260025, 0.31871387362480164, 0.0045347195118665695, -0.2086181789636612, 0.14587706327438354, 0.14114539325237274, -0.18735696375370026, 0.2553398907184601, 0.14250272512435913, -0.161527618765831, 0.19793887436389923, 0.03946910798549652, -0.28922560811042786, -0.32976844906806946, -0.42583519220352173, 0.07434166967868805, -0.3475582003593445, -0.15763376653194427, -0.10425157845020294, 5.987806797027588, 0.07987892627716064, 0.2262163609266281, -0.35538944602012634, 0.3042795956134796, 0.1566350758075714, -0.3531329333782196, 0.4855363368988037, 0.06809455901384354, -0.1538083851337433, 0.35710057616233826, -0.36420950293540955, 0.46223920583724976, 0.05288530886173248, 0.16015760600566864, -0.4487040340900421, -0.12547536194324493, 0.1431926190853119, -0.09516719728708267, -0.0680740624666214, 0.2749638557434082, -0.06218117102980614, 0.11523118615150452, -0.3846607208251953, -0.42007318139076233, 0.3866662383079529, -0.9971393942832947, -0.35786890983581543, -4.129402921211245e-32, -0.2130536437034607, -0.30669695138931274, 0.47190698981285095, -0.06113313138484955, 0.10884317755699158, 0.3605388104915619, -0.39099735021591187, -0.2329251766204834, -0.4837489128112793, -0.3331240713596344, -0.21447044610977173, -0.34206894040107727, -0.028545362874865532, 0.39940932393074036, 0.15406693518161774, -0.08103294670581818, -0.020702607929706573, 0.008411906659603119, 0.04428774118423462, -0.4703308939933777, -0.05742163583636284, -0.07009810209274292, -0.10391245782375336, 0.008935730904340744, 0.10225850343704224, 0.5883702635765076, -0.06137285754084587, 0.015207182615995407, 0.15916869044303894, -0.22042487561702728, -0.2727441191673279, 0.20734058320522308, -0.1299864798784256, -0.5201511383056641, 0.22310292720794678, -0.2305886596441269, -0.21968752145767212, -0.32230880856513977, -0.18500171601772308, -0.02299511432647705, 0.13184604048728943, 0.24542109668254852, -0.4616197347640991, 0.04904899746179581, -0.25656577944755554, -0.13767558336257935, -0.2932317554950714, 0.0471121184527874, -0.024967316538095474, -0.1214231476187706, 0.006689847446978092, 0.02908467687666416, -0.27063602209091187, -0.20482781529426575, 0.004318524152040482, -0.0643877387046814, -0.11954224109649658, 0.12535695731639862, -0.06270023435354233, 0.30454692244529724, 0.21670706570148468, -0.057178497314453125, -0.07840997725725174, 0.10714066028594971, 0.08401219546794891, -0.04492446407675743, -0.24280130863189697, -0.2561118006706238, -0.019794845953583717, -0.03168619051575661, -0.2701442241668701, -0.3128984570503235, -0.09733863174915314, 0.10601048171520233, -0.1448976695537567, 0.11102848500013351, 0.2784097194671631, 0.006329438649117947, 0.30821117758750916, 0.08096960186958313, 0.03448649123311043, -0.08136805891990662, -0.21457934379577637, 0.33319929242134094, -0.35197457671165466, -0.16945597529411316, -0.44934386014938354, -0.2253580093383789, -0.17906005680561066, -0.14719270169734955, 0.17808662354946136, 0.1492588073015213, -0.12881623208522797, -0.06774555891752243, -0.3335745334625244, 3.3061566198091887e-32, 0.09660909324884415, 0.2715297043323517, 0.4018177390098572, 0.0812702402472496, 0.012301357463002205, 0.003105741925537586, -0.028371334075927734, -0.2894001007080078, -0.3524174988269806, 0.07161729782819748, 0.10222211480140686, 0.021345093846321106, -0.3566999137401581, 0.0028288867324590683, 0.34227198362350464, 0.1348467618227005, 0.6141401529312134, 0.0015695709735155106, 0.12977434694766998, 0.07340344786643982, 0.10364881902933121, 0.36326321959495544, 0.12452403455972672, 0.4002656638622284, 0.21106180548667908, 0.12986363470554352, 0.21299365162849426, 0.3094758093357086, -0.3433172404766083, -0.2086031436920166, -0.21176648139953613, -0.15625853836536407, -0.5818626880645752, -0.08792063593864441, -0.13787850737571716, -0.033337727189064026, 0.08223850280046463, 0.14357852935791016, 0.34184956550598145, 0.032128989696502686, 0.4646442234516144, 0.21563616394996643, -0.20109334588050842, 0.31669843196868896, -0.03711193799972534, 0.006752794608473778, 0.2977331280708313, 0.2214413583278656, 0.2854641377925873, 0.23844225704669952, 0.012529135681688786, -0.02309301868081093, -0.04165394976735115, 0.16708916425704956, 0.03380228206515312, -0.5435716509819031, 0.0049567632377147675, -0.5872553586959839, -0.04877752810716629, -0.3007429838180542, -0.29035571217536926, 0.3034254014492035, -0.2801692485809326, 0.04465487226843834, -0.03282355144619942, -0.3071052134037018, 0.2911267876625061, -0.15591105818748474, 0.0013021677732467651, -0.1252879500389099, -0.011403657495975494, -0.13036639988422394, -0.18473848700523376, 0.6766186952590942, -0.265608549118042, -0.13149763643741608, -0.44573289155960083, -0.16480383276939392, -0.1375095099210739, -0.323253333568573, 0.08443757146596909, -0.16133716702461243, 0.028842207044363022, -0.0088264849036932, 0.23105943202972412, 0.26789772510528564, -0.06284987926483154, 0.1871265470981598, 0.6006486415863037, 0.35521548986434937, -0.26834747195243835, 0.06747105717658997, -0.03137978911399841, -0.06897073239088058, -0.040125880390405655, -8.920635252707143e-08, 0.5139833688735962, -0.5841525793075562, 0.13029780983924866, -0.10386776924133301, 0.22429333627223969, 0.1530500054359436, -0.4912865459918976, -0.1540413498878479, 0.3509935438632965, 0.2659129500389099, -0.19750535488128662, 0.11139742285013199, 0.1309533566236496, -0.031371913850307465, -0.023211192339658737, -0.09503482282161713, -0.039535194635391235, 0.24504640698432922, 0.15342217683792114, -0.13252152502536774, -0.21353130042552948, 0.3775753378868103, 0.13411246240139008, -0.28762921690940857, 0.22494493424892426, -0.12863627076148987, 0.27320587635040283, -0.4487694501876831, -0.08024909347295761, -0.0934690535068512, 0.15917371213436127, 0.1695529669523239, -0.2275237739086151, 0.11183416843414307, -0.267079621553421, -0.21513810753822327, 0.3781006634235382, 0.013674775138497353, 0.1444622278213501, -0.10721305012702942, 0.028116298839449883, 0.3833887279033661, 0.027324426919221878, -0.23521465063095093, -0.1964549869298935, 0.07632424682378769, -0.03469952195882797, 0.31156668066978455, 0.2051333785057068, -0.22287359833717346, 0.2727237641811371, 0.12910595536231995, -0.10972310602664948, 0.4222760796546936, 0.03466622158885002, -0.15816204249858856, -0.042868100106716156, -0.25272995233535767, 0.24115711450576782, -0.12319568544626236, 0.018191631883382797, -0.5497704744338989, -0.10498003661632538, -0.27991852164268494], [-0.023559752851724625, -0.2530711889266968, -0.1995772123336792, -0.05208484083414078, -0.011907130479812622, 0.13236206769943237, 0.029187291860580444, 0.33242174983024597, -0.12438926100730896, -0.36856594681739807, -0.028476983308792114, 0.04818341135978699, -0.4883711338043213, -0.05976727232336998, -0.10916884988546371, -0.44204649329185486, 0.3485678434371948, -0.16915565729141235, 0.10273446142673492, 0.20486301183700562, 0.0749596580862999, 0.13839343190193176, -0.14769992232322693, 0.024506332352757454, 0.05229391157627106, -0.0350448377430439, -0.15938009321689606, -0.1125640720129013, 0.32561203837394714, -0.8615140318870544, 0.14210456609725952, 0.041700802743434906, 0.24600914120674133, -0.03775012493133545, -0.15372030436992645, 0.06169591099023819, -0.12634769082069397, -0.006401104852557182, -0.038480013608932495, 0.05160960927605629, 0.07611341774463654, -0.19953568279743195, 0.09117003530263901, 0.27120187878608704, 0.07695800065994263, -0.5000357031822205, -0.1275351196527481, 0.284458190202713, -0.11455510556697845, -0.028390679508447647, -0.33190417289733887, -0.15623074769973755, -0.14015910029411316, 0.12783372402191162, 0.13962861895561218, 0.18901020288467407, -0.1219472885131836, -0.04688964784145355, 0.07863692194223404, 0.08792632818222046, -0.06063680350780487, 0.1020287573337555, -0.04278171807527542, -0.059841107577085495, 0.09017832577228546, 0.15381963551044464, -0.044792696833610535, -0.1215396374464035, -0.14441660046577454, 0.10594156384468079, 0.16047848761081696, 0.20621554553508759, -0.1422969251871109, 0.01937120594084263, -0.023136932402849197, 0.23787744343280792, 0.18748818337917328, 0.024677300825715065, 0.08620248734951019, 0.07458192855119705, -0.2552890181541443, 0.2526812255382538, -0.07377073168754578, 0.06365805119276047, 0.05973448604345322, 0.12592093646526337, -0.12030728161334991, 0.23158936202526093, 0.13156279921531677, -0.08565562963485718, 0.12718018889427185, 0.08142019063234329, -0.1608177125453949, -0.1990707814693451, -0.5491138696670532, 0.07224864512681961, -0.04396790266036987, -0.3961467444896698, -0.087994784116745, 5.655447006225586, 0.05488868057727814, 0.2420041263103485, -0.0451938658952713, 0.2794875204563141, 0.14514409005641937, -0.2424401491880417, 0.06982273608446121, -0.08746080100536346, 0.01179417036473751, 0.10683521628379822, -0.2199430763721466, 0.24274083971977234, 0.2272118330001831, 0.29121875762939453, -0.1669597029685974, -0.052603669464588165, 0.0034436024725437164, 0.02729831263422966, 0.11186061799526215, 0.09984874725341797, -0.021877678111195564, 0.14592674374580383, -0.2109927088022232, -0.1820659637451172, 0.25355732440948486, -0.9600400328636169, -0.12120523303747177, -5.354159301540617e-32, 0.02543335221707821, -0.11442449688911438, 0.31427839398384094, -0.0979846864938736, 0.21726840734481812, 0.21229739487171173, -0.2102758288383484, -0.04264102131128311, -0.16706760227680206, -0.29676148295402527, -0.12088839709758759, -0.20480602979660034, 0.06991451233625412, 0.07345891743898392, 0.273508220911026, 0.033580515533685684, 0.03613576292991638, 0.26893338561058044, -0.005170698277652264, 0.012297356501221657, -0.06950634717941284, -0.02938716858625412, -0.205878347158432, -0.03172608092427254, -0.02389211393892765, 0.32200852036476135, -0.2648123502731323, 0.35748711228370667, 0.11485901474952698, -0.2926396429538727, -0.3738557994365692, 0.28037452697753906, -0.12335674464702606, -0.462837278842926, -0.10259877890348434, -0.2615884840488434, -0.31175655126571655, -0.18584707379341125, 0.07171830534934998, 0.01631155051290989, 0.034201279282569885, 0.18388043344020844, -0.34619125723838806, -0.10804406553506851, -0.07976951450109482, -0.13658222556114197, -0.1374898999929428, 0.13402706384658813, -0.006057830527424812, -0.18684852123260498, 0.004644171334803104, -0.06259074807167053, -0.0874880999326706, -0.08355722576379776, -0.1900865137577057, -0.036469195038080215, -0.2252715677022934, 0.13883385062217712, 0.032147087156772614, 0.25464046001434326, 0.24447786808013916, -0.006011147052049637, -0.11923779547214508, 0.11886216700077057, 0.018925480544567108, -0.016026170924305916, -0.1549525260925293, -0.12532208859920502, -0.06455130875110626, 0.09900514781475067, -0.29407334327697754, -0.2503398060798645, -0.15421068668365479, -0.09010300040245056, 0.12427117675542831, -0.005166223272681236, 0.22960582375526428, 0.19757987558841705, 0.058117903769016266, 0.19117820262908936, 0.036106884479522705, -0.1276877224445343, -0.18878859281539917, 0.2352365255355835, -0.25953710079193115, -0.11379532516002655, -0.1239272877573967, -0.0654439926147461, -0.08496610820293427, -0.012095600366592407, 0.1334189772605896, 0.038525186479091644, -0.04730734974145889, 0.04944980889558792, -0.01099294051527977, 4.6441189835945016e-32, 0.055506303906440735, 0.024021338671445847, 0.2479764074087143, -0.04462640732526779, 0.07103974372148514, 0.02112678810954094, 0.050344422459602356, -0.13236628472805023, -0.20264936983585358, 0.07853361964225769, -0.022278133779764175, 0.08693435043096542, -0.37120184302330017, 0.038609884679317474, 0.28540483117103577, 0.09175832569599152, 0.16317147016525269, 0.05068545788526535, -0.01778217777609825, 0.11460234224796295, 0.1900557279586792, 0.33671635389328003, 0.028397679328918457, 0.34308409690856934, 0.23117269575595856, 0.11175156384706497, 0.18833869695663452, 0.2419086992740631, -0.20307022333145142, -0.3370298743247986, -0.015534371137619019, -0.0408150777220726, -0.35170620679855347, -0.23021486401557922, -0.39594757556915283, 0.06068352982401848, 0.07677731662988663, 0.016173793002963066, 0.2531817853450775, -0.1139281690120697, 0.4492536783218384, 0.10393714904785156, -0.05699499696493149, 0.308718740940094, 0.07890329509973526, 0.21224600076675415, 0.2180844396352768, 0.010030297562479973, 0.0409015528857708, 0.3548755943775177, 0.03327856585383415, 0.03512464463710785, 0.018123190850019455, 0.2346351444721222, 0.04931548982858658, -0.1989213079214096, 0.14749377965927124, -0.23484909534454346, -0.0821264386177063, -0.10344969481229782, -0.167648583650589, 0.32926297187805176, -0.35715311765670776, 0.11668714135885239, -0.01603059098124504, -0.4044418931007385, 0.17545108497142792, -0.11237780004739761, 0.02403387241065502, -0.2267187088727951, -0.20912806689739227, -0.07422037422657013, -0.09344952553510666, 0.5627049207687378, 0.003939544316381216, -0.08660615235567093, -0.42163360118865967, -0.10434221476316452, -0.11998622119426727, -0.20498770475387573, 0.16103801131248474, -0.07284621149301529, 0.06870599091053009, 0.1274675577878952, 0.14186349511146545, 0.015797672793269157, 0.01789390668272972, 0.20616625249385834, 0.24143974483013153, 0.29176363348960876, -0.13484257459640503, -0.08003593981266022, -0.01929517462849617, 0.06613905727863312, 0.07450656592845917, -8.820597230396743e-08, 0.40744155645370483, -0.17289391160011292, 0.045450977981090546, -0.15289734303951263, -0.1761147379875183, 0.04270870238542557, -0.1799905002117157, 0.008137362077832222, 0.14555643498897552, 0.08919433504343033, -0.26028358936309814, 0.10764525830745697, -0.0022328756749629974, -0.015943175181746483, -0.0034852176904678345, -0.23228511214256287, -0.2140829712152481, -0.026024416089057922, 0.15316365659236908, 0.00597924180328846, -0.1457209289073944, 0.30040234327316284, 0.015989499166607857, -0.14159230887889862, 0.18606124818325043, -0.20877768099308014, 0.4118037521839142, -0.3716232180595398, 0.006309758871793747, -0.09479881078004837, 0.01690743677318096, 0.016123542562127113, -0.05542498826980591, 0.23789970576763153, -0.29007232189178467, -0.2978960871696472, 0.28037405014038086, -0.03851928561925888, 0.17236220836639404, 0.03049348294734955, -0.08947335928678513, 0.09057143330574036, -0.09272469580173492, -0.25407683849334717, -0.14570629596710205, -0.04105522111058235, 0.1506534218788147, 0.1690008044242859, 0.2628076374530792, -0.23938129842281342, 0.1374189555644989, 0.1777539849281311, -0.06909900158643723, 0.136434867978096, -0.06256479769945145, 0.04741290956735611, -0.2227395623922348, -0.20091308653354645, 0.012229019775986671, -0.12800638377666473, 0.19709499180316925, -0.18990837037563324, -0.11800914257764816, -0.32527387142181396], [0.10449525713920593, -0.21008794009685516, -0.16945454478263855, -0.19627927243709564, -0.05777290090918541, -0.07461915910243988, -0.0007404610514640808, 0.3686971068382263, 0.198482483625412, -0.1315540224313736, -0.0673786848783493, -0.005144249647855759, -0.23886369168758392, -0.13763494789600372, -0.09233582019805908, -0.2919641137123108, 0.3628627359867096, -0.16207091510295868, 0.0497191846370697, 0.3191815912723541, 0.36726638674736023, 0.023095009848475456, -0.02126280590891838, 0.125494122505188, 0.21528775990009308, 0.2469441145658493, 0.05241866409778595, -0.10059097409248352, 0.25512251257896423, -1.0466349124908447, 0.18073570728302002, -0.10177592188119888, 0.12252549827098846, -0.14284221827983856, -0.03446425125002861, 0.052940383553504944, -0.1895684152841568, 0.1656200885772705, -0.2117740958929062, 0.04664810746908188, 0.30635568499565125, -0.20602813363075256, -0.16032591462135315, 0.2909497022628784, 0.0174794252961874, -0.178583562374115, 0.018773995339870453, 0.009309731423854828, -0.10038961470127106, 0.10624279826879501, -0.324348509311676, -0.16832268238067627, -0.1579660028219223, 0.28444844484329224, 0.006609889212995768, -0.18425211310386658, -0.11764979362487793, -0.027113771066069603, 0.05566687881946564, 0.08120749890804291, -0.12196160107851028, 0.23609700798988342, -0.24869248270988464, -0.3283178210258484, 0.04961881414055824, 0.05296153202652931, -0.03010883927345276, -0.28883442282676697, -0.21027830243110657, 0.03603152558207512, 0.004295676946640015, 0.17144817113876343, 0.11781984567642212, 0.12332098186016083, -0.13033027946949005, 0.3162442445755005, 0.11651007831096649, 0.09981118887662888, 0.007619611918926239, 0.11521652340888977, -0.1191578358411789, 0.22738169133663177, 0.15392014384269714, 0.18956901133060455, -0.054630592465400696, 0.11050307750701904, -0.21987122297286987, 0.12051524221897125, 0.07419091463088989, -0.1495981216430664, 0.18732406198978424, 0.27830666303634644, -0.0008586323820054531, -0.03800565376877785, -0.4344079792499542, -0.23599988222122192, -0.05860315263271332, -0.34043988585472107, 0.050057098269462585, 5.6565656661987305, -0.08635792881250381, 0.5111672878265381, -0.029077745974063873, 0.06589770317077637, -0.011894980445504189, -0.22533759474754333, 0.13589611649513245, -0.0071532242000103, -0.02608172781765461, -0.09139272570610046, -0.2631015181541443, 0.053671978414058685, 0.2731420695781708, 0.19858169555664062, -0.09720544517040253, 0.24993020296096802, 0.05790817737579346, -0.08474918454885483, 0.19823670387268066, 0.1330546885728836, 0.09391550719738007, -0.040963225066661835, -0.10229674726724625, 0.026117121800780296, 0.2765246033668518, -1.078173279762268, 0.08584543317556381, -5.263628604112039e-32, -0.09612193703651428, -0.22393368184566498, 0.22989708185195923, 0.12925325334072113, 0.05667264759540558, 0.17744900286197662, -0.01755807176232338, -0.2916027009487152, 0.001736421138048172, -0.424317330121994, -0.055738769471645355, -0.1957322508096695, -0.09044976532459259, 0.06127500534057617, -0.055381640791893005, 0.03957715258002281, -0.02600570023059845, 0.2923884391784668, 0.062340252101421356, 0.09256307780742645, 0.2557160556316376, -0.045304812490940094, -0.10393628478050232, -0.00863543152809143, -0.04614625126123428, 0.1737097054719925, -0.33257484436035156, -0.0381128154695034, 0.23247793316841125, -0.3715868592262268, -0.027579156681895256, 0.34047839045524597, -0.23098982870578766, -0.24973076581954956, -0.279234379529953, -0.2589089870452881, -0.33661672472953796, -0.0659046322107315, -0.2570875585079193, 0.18472668528556824, -0.13822342455387115, 0.09637504816055298, -0.1423932909965515, -0.12611670792102814, 0.13199107348918915, -0.2601296901702881, -0.0911688506603241, -0.08523069322109222, 0.0021375752985477448, -0.1273880898952484, 0.08814550936222076, -0.10057144612073898, 0.022108055651187897, 0.03994216397404671, -0.19966700673103333, 0.027989719063043594, -0.2125748097896576, 0.15523557364940643, 0.10602504760026932, 0.19819031655788422, 0.14879614114761353, 0.04518897458910942, -0.14471638202667236, -0.04042761027812958, -0.023990198969841003, -0.07502035051584244, -0.24712398648262024, -0.007855681702494621, -0.23942899703979492, 0.21216484904289246, -0.4045202136039734, -0.26355794072151184, -0.07930657267570496, 0.08324147760868073, -0.05848543345928192, -0.1067517027258873, 0.09322473406791687, 0.07287461310625076, 0.05424921214580536, -0.048086367547512054, -0.01549006998538971, -0.16323751211166382, -0.18831419944763184, 0.2949775755405426, -0.149673193693161, -0.12394978106021881, 0.12079520523548126, -0.21398869156837463, -0.34974563121795654, -0.03805870935320854, 0.19847872853279114, -0.10470074415206909, -0.2213757038116455, 0.030556822195649147, -0.05577261000871658, 4.683892422701749e-32, 0.0377415232360363, -0.08042475581169128, 0.11756137758493423, 0.15965425968170166, 0.1128954365849495, -0.034822218120098114, 0.25740545988082886, 0.009861411526799202, -0.1299891471862793, 0.22219248116016388, 0.03870837762951851, 0.18126419186592102, -0.2509021759033203, 0.12159420549869537, 0.23886457085609436, -0.21819907426834106, 0.21324653923511505, -0.13526323437690735, 0.05819639563560486, 0.05761013925075531, 0.14969021081924438, 0.17048430442810059, 0.1278715431690216, 0.24887603521347046, -0.11063461005687714, 0.14651481807231903, 0.15608985722064972, 0.10160984843969345, -0.010194994509220123, -0.29106903076171875, -0.12665586173534393, 0.06988116353750229, -0.08949502557516098, -0.12430369108915329, -0.14858679473400116, 0.2720673978328705, -0.06254503130912781, -0.06135333329439163, 0.08681698888540268, -0.07748955488204956, 0.32326459884643555, 0.0003100559115409851, -0.24452164769172668, 0.15994083881378174, 0.06495004892349243, 0.2687142491340637, 0.2222316861152649, 0.027798134833574295, 0.16944432258605957, 0.22673027217388153, 0.07865619659423828, 0.08119489252567291, 0.18454959988594055, 0.23132863640785217, 0.25348278880119324, -0.2870520353317261, 0.04420258104801178, -0.20189885795116425, -0.2953522801399231, 0.2287389189004898, -0.05767375975847244, 0.48596855998039246, -0.12845738232135773, -0.15916664898395538, 0.04738571494817734, -0.28241753578186035, 0.07444745302200317, 0.24967147409915924, 0.15087753534317017, 0.21125832200050354, -0.058238912373781204, -0.18206645548343658, 0.11623350530862808, 0.3367041051387787, 0.1632055789232254, -0.2666626572608948, -0.3303583562374115, -0.05856756120920181, -0.014911085367202759, -0.15393000841140747, 0.17998743057250977, -0.0513082854449749, 0.1108611524105072, 0.07892641425132751, 0.4256260395050049, 0.2211330384016037, 0.0005640927702188492, 0.2244040071964264, 0.037350110709667206, 0.13106781244277954, -0.053351692855358124, -0.033163025975227356, -0.07479064166545868, 0.2491002082824707, 0.03988541662693024, -8.635472426021806e-08, 0.29508739709854126, -0.19225962460041046, 0.027560623362660408, -0.14174005389213562, -0.12135632336139679, -0.1883985698223114, -0.28067103028297424, 0.15940137207508087, -0.15841732919216156, 0.1114802360534668, 0.06317265331745148, -0.024274973198771477, 0.004357144236564636, -0.007310824003070593, 0.14830151200294495, -0.23317214846611023, -0.1266123354434967, 0.05575825273990631, 0.21702654659748077, -0.23610074818134308, -0.33887961506843567, 0.08214367926120758, 0.029366042464971542, -0.10905469954013824, 0.3243602216243744, -0.010646503418684006, 0.20119132101535797, -0.557325541973114, -0.11842425912618637, 0.07637441903352737, 0.14826330542564392, -0.035742051899433136, 0.14086706936359406, 0.2567049562931061, -0.28748151659965515, -0.09760106354951859, 0.19666209816932678, 0.01891114003956318, 0.14651930332183838, -0.1877862513065338, -0.14206577837467194, 0.003212403506040573, 0.007904394529759884, -0.1772112399339676, 0.025201551616191864, 0.13545243442058563, 0.0407901369035244, 0.08887042105197906, 0.14572833478450775, -0.41403812170028687, -0.02254830114543438, 0.2092151939868927, -0.10275045782327652, 0.25568073987960815, 0.02939632721245289, -0.06449301540851593, -0.29283490777015686, -0.1941240280866623, 0.2938179075717926, -0.20411324501037598, 0.17812637984752655, -0.09630079567432404, -0.23097506165504456, -0.20522761344909668]])\n"
     ]
    },
    {
     "name": "stderr",
     "output_type": "stream",
     "text": [
      "\u001b[32m2024-11-17 03:28:33.733\u001b[0m | \u001b[1mINFO    \u001b[0m | \u001b[36mstreaming_pipeline.models\u001b[0m:\u001b[36mto_payloads\u001b[0m:\u001b[36m132\u001b[0m - \u001b[1mTotal chunks: 4\u001b[0m\n",
      "\u001b[32m2024-11-17 03:28:33.733\u001b[0m | \u001b[1mINFO    \u001b[0m | \u001b[36mstreaming_pipeline.models\u001b[0m:\u001b[36mto_payloads\u001b[0m:\u001b[36m133\u001b[0m - \u001b[1mUnique chunk IDs: 4\u001b[0m\n",
      "\u001b[32m2024-11-17 03:28:33.737\u001b[0m | \u001b[1mINFO    \u001b[0m | \u001b[36mstreaming_pipeline.models\u001b[0m:\u001b[36mto_payloads\u001b[0m:\u001b[36m134\u001b[0m - \u001b[1mTotal payloads: 4\u001b[0m\n"
     ]
    },
    {
     "name": "stdout",
     "output_type": "stream",
     "text": [
      "Writing 1 embeddings to Qdrant...\n",
      "The Payloads in Qdrant &&&######### : [{'headline': 'Sangamo Therapeutics Receives U.S. FDA Fast Track Designation For Isaralgagene Civaparvovec For The Treatment Of Fabry Disease', 'summary': 'Sangamo Therapeutics, Inc. (NASDAQ:SGMO), a genomic medicine company, today announced that the U.S. Food and Drug Administration (FDA) has granted Fast Track Designation to isaralgagene civaparvovec, or ST-920, a wholly', 'url': 'https://www.benzinga.com/general/biotech/23/05/32505835/sangamo-therapeutics-receives-u-s-fda-fast-track-designation-for-isaralgagene-civaparvovec-for-th', 'symbols': ['SGMO'], 'author': 'Benzinga Newsdesk', 'created_at': datetime.datetime(2023, 5, 22, 12, 6, 20, tzinfo=TzInfo(UTC)), 'text': 'Sangamo Therapeutics Receives U.S. FDA Fast Track Designation For Isaralgagene Civaparvovec For The Treatment Of Fabry Disease'}, {'headline': 'Sangamo Therapeutics Receives U.S. FDA Fast Track Designation For Isaralgagene Civaparvovec For The Treatment Of Fabry Disease', 'summary': 'Sangamo Therapeutics, Inc. (NASDAQ:SGMO), a genomic medicine company, today announced that the U.S. Food and Drug Administration (FDA) has granted Fast Track Designation to isaralgagene civaparvovec, or ST-920, a wholly', 'url': 'https://www.benzinga.com/general/biotech/23/05/32505835/sangamo-therapeutics-receives-u-s-fda-fast-track-designation-for-isaralgagene-civaparvovec-for-th', 'symbols': ['SGMO'], 'author': 'Benzinga Newsdesk', 'created_at': datetime.datetime(2023, 5, 22, 12, 6, 20, tzinfo=TzInfo(UTC)), 'text': 'Sangamo Therapeutics, Inc. (NASDAQ:SGMO), a genomic medicine company, today announced that the U.S. Food and Drug Administration (FDA) has granted Fast Track Designation to isaralgagene civaparvovec, or ST-920, a wholly'}, {'headline': 'Sangamo Therapeutics Receives U.S. FDA Fast Track Designation For Isaralgagene Civaparvovec For The Treatment Of Fabry Disease', 'summary': 'Sangamo Therapeutics, Inc. (NASDAQ:SGMO), a genomic medicine company, today announced that the U.S. Food and Drug Administration (FDA) has granted Fast Track Designation to isaralgagene civaparvovec, or ST-920, a wholly', 'url': 'https://www.benzinga.com/general/biotech/23/05/32505835/sangamo-therapeutics-receives-u-s-fda-fast-track-designation-for-isaralgagene-civaparvovec-for-th', 'symbols': ['SGMO'], 'author': 'Benzinga Newsdesk', 'created_at': datetime.datetime(2023, 5, 22, 12, 6, 20, tzinfo=TzInfo(UTC)), 'text': 'Sangamo Therapeutics, Inc. (NASDAQ:SGMO), a genomic medicine company, today announced that the U.S. Food and Drug Administration (FDA) has granted Fast Track Designation to isaralgagene civaparvovec, or ST-920, a wholly owned gene therapy product candidate for the treatment of Fabry disease. Fast Track designation aims to facilitate the development and expedite the review of new therapeutics that are intended to treat serious or life-threatening conditions and that demonstrate the potential to address unmet medical needs. Companies granted this designation are given the opportunity for more frequent interactions with the FDA. These clinical programs may also be eligible to apply for Accelerated Approval and Priority Review if relevant criteria are met. The FDA has previously granted ST-920 Orphan Drug Designation. \"We are thrilled with the FDA\\'s decision to grant Fast Track Designation for ST-920. Fabry is a debilitating disease with life-long impact,\" said Nathalie Dubois-Stringfellow, Ph.D, Sangamo\\'s Senior Vice President, Chief Development Officer. \"This decision from the FDA underscores the potential for ST-920 to address a serious unmet need and serve as a meaningful therapeutic option for patients with Fabry disease. We are highly encouraged by this promising development and look forward to our expected meeting with the FDA on Phase 3 trial design in the summer.\" ST-920 is currently being evaluated in the Phase 1/2 STAAR study, with a total of 20 patients dosed to date. In February 2023, Sangamo announced promising results from the STAAR study via an oral presentation at the 19th Annual WORLDSymposium, showing sustained, elevated expression of alpha-galactosidase A (-Gal A) activity in the 13 dosed patients as of the data'}, {'headline': 'Sangamo Therapeutics Receives U.S. FDA Fast Track Designation For Isaralgagene Civaparvovec For The Treatment Of Fabry Disease', 'summary': 'Sangamo Therapeutics, Inc. (NASDAQ:SGMO), a genomic medicine company, today announced that the U.S. Food and Drug Administration (FDA) has granted Fast Track Designation to isaralgagene civaparvovec, or ST-920, a wholly', 'url': 'https://www.benzinga.com/general/biotech/23/05/32505835/sangamo-therapeutics-receives-u-s-fda-fast-track-designation-for-isaralgagene-civaparvovec-for-th', 'symbols': ['SGMO'], 'author': 'Benzinga Newsdesk', 'created_at': datetime.datetime(2023, 5, 22, 12, 6, 20, tzinfo=TzInfo(UTC)), 'text': 'cutoff, 78% globotriaosylceramide (Gb3) substrate clearance at 6-months and 77% reduction in urine podocyte loss in one of the first kidney biopsies, and a clinically meaningful and statistically significant increase in mean general health scores, as measured by the SF-36 General Health survey. A copy of the presentation is available in the Presentations section of the Sangamo website. Sangamo is currently preparing for a potential Phase 3 trial and plans to meet with the FDA on the proposed Phase 3 study design in the summer, with a trial start anticipated by the end of 2023, depending on regulatory interactions. About the STAAR Study The Phase 1/2 STAAR study is a global open-label, single-dose, dose-ranging, multicenter clinical study designed to evaluate the safety and tolerability of isaralgagene civaparvovec, or ST-920, a gene therapy product candidate in patients with Fabry disease. Isaralgagene civaparvovec requires a one-time infusion without preconditioning. The STAAR study is enrolling patients who are on ERT, are ERT pseudo-nave (defined as having been off ERT for six or more months), or who are ERT-nave. The U.S. Food and Drug Administration has granted Orphan Drug and Fast Track designation to isaralgagene civaparvovec, which has also received Orphan Medicinal Product designation from the European Medicines Agency.'}]\n",
      "alpaca_news_input.articles: NewsArticle(id=32052192, headline='What&#39;s Going On With ContraFecta Stock Today', summary='\\n\\tContraFect Corporation (NASDAQ: CFRX) shares are trading higher Thursday morning. However, there is no specific news to justify the move.\\n', author='Vandana Singh', created_at=datetime.datetime(2023, 4, 27, 18, 24, 49, tzinfo=TzInfo(UTC)), updated_at=datetime.datetime(2023, 4, 27, 18, 24, 49, tzinfo=TzInfo(UTC)), url='https://www.benzinga.com/general/biotech/23/04/32052192/whats-going-on-with-contrafecta-stock-today', content='<ul>\\r\\n\\t<li><strong>ContraFect Corporation&nbsp;</strong>(NASDAQ:<a class=\"ticker\" href=\"https://www.benzinga.com/stock/CFRX#NASDAQ\">CFRX</a>) shares are trading higher Thursday morning. However, there is no specific news to justify the move.</li>\\r\\n\\t<li>Wednesday morning, ContraFect&nbsp;<a class=\"editor-rtfLink\" href=\"https://www.benzinga.com/pressreleases/23/04/g32009856/contrafect-announces-first-patient-dosed-in-the-phase-1b2-study-of-exebacase-in-patients-with-chro\" style=\"color:#4a6ee0; background:transparent; margin-top:0pt; margin-bottom:0pt\" target=\"_blank\">announced the dosing</a>&nbsp;of the first patient in Phase 1b/2 of exebacase in the setting of an arthroscopic debridement, antibiotics, irrigation, and retention procedure in patients with chronic prosthetic joint infections of the knee due to&nbsp;<em>Staphylococcus aureus</em>&nbsp;or Coagulase-Negative Staphylococci.</li>\\r\\n\\t<li>The study was initiated&nbsp;<a class=\"editor-rtfLink\" href=\"https://www.benzinga.com/pressreleases/23/04/g31631700/contrafect-announces-initiation-of-a-phase-1b2-study-of-exebacase-in-patients-with-chronic-prosthe\" style=\"color:#4a6ee0; background:transparent; margin-top:0pt; margin-bottom:0pt\" target=\"_blank\">earlier this month</a>.</li>\\r\\n\\t<li>ContraFect stock is gaining on heavy volume, with a session volume of 55 million shares traded, compared to the trailing 100-day volume of 3.08 million shares.</li>\\r\\n\\t<li>According to data from&nbsp;<a class=\"editor-rtfLink\" href=\"https://benzinga.grsm.io/register174\" style=\"color:#4a6ee0; background:transparent; margin-top:0pt; margin-bottom:0pt\" target=\"_blank\">Benzinga Pro</a>, CFRX has a 52-week high of $362.4 and a 52-week low of $0.90.</li>\\r\\n\\t<li><strong>Price Action:</strong>&nbsp;CFRX shares are up 68.20% at $2.22 on the last check Thursday.</li>\\r\\n</ul>\\r\\n ', symbols=['CFRX'], source='benzinga')\n"
     ]
    },
    {
     "name": "stderr",
     "output_type": "stream",
     "text": [
      "\u001b[32m2024-11-17 03:28:36.382\u001b[0m | \u001b[1mINFO    \u001b[0m | \u001b[36mstreaming_pipeline.models\u001b[0m:\u001b[36mto_document\u001b[0m:\u001b[36m57\u001b[0m - \u001b[1mDocument ID: ae376f968b4fe036a8209a9495301d81\u001b[0m\n",
      "\u001b[32m2024-11-17 03:28:36.390\u001b[0m | \u001b[1mINFO    \u001b[0m | \u001b[36mstreaming_pipeline.models\u001b[0m:\u001b[36mto_document\u001b[0m:\u001b[36m62\u001b[0m - \u001b[1mNumber of article elements: 6\u001b[0m\n",
      "\u001b[32m2024-11-17 03:28:36.391\u001b[0m | \u001b[1mINFO    \u001b[0m | \u001b[36mstreaming_pipeline.models\u001b[0m:\u001b[36mto_document\u001b[0m:\u001b[36m67\u001b[0m - \u001b[1mCleaned content: ContraFect Corporation (NASDAQ:CFRX) shares are trading higher Thursday morning. However, there is no specific news to justify the move. Wednesday morning, ContraFect announced the dosing of the first patient in Phase 1b/2 of exebacase in the setting of an arthroscopic debridement, antibiotics, irrigation, and retention procedure in patients with chronic prosthetic joint infections of the knee due to Staphylococcus aureus or Coagulase-Negative Staphylococci. The study was initiated earlier this month. ContraFect stock is gaining on heavy volume, with a session volume of 55 million shares traded, compared to the trailing 100-day volume of 3.08 million shares. According to data from Benzinga Pro, CFRX has a 52-week high of $362.4 and a 52-week low of $0.90. Price Action: CFRX shares are up 68.20% at $2.22 on the last check Thursday.\u001b[0m\n",
      "\u001b[32m2024-11-17 03:28:36.392\u001b[0m | \u001b[1mINFO    \u001b[0m | \u001b[36mstreaming_pipeline.models\u001b[0m:\u001b[36mto_document\u001b[0m:\u001b[36m72\u001b[0m - \u001b[1mCleaned headline: What&#39;s Going On With ContraFecta Stock Today\u001b[0m\n"
     ]
    },
    {
     "name": "stdout",
     "output_type": "stream",
     "text": [
      "alpaca_news_input.inspect_document: Document(id='ae376f968b4fe036a8209a9495301d81', group_key=None, metadata={'headline': 'What&#39;s Going On With ContraFecta Stock Today', 'summary': 'ContraFect Corporation (NASDAQ: CFRX) shares are trading higher Thursday morning. However, there is no specific news to justify the move.', 'url': 'https://www.benzinga.com/general/biotech/23/04/32052192/whats-going-on-with-contrafecta-stock-today', 'symbols': ['CFRX'], 'author': 'Vandana Singh', 'created_at': datetime.datetime(2023, 4, 27, 18, 24, 49, tzinfo=TzInfo(UTC))}, text=['What&#39;s Going On With ContraFecta Stock Today', 'ContraFect Corporation (NASDAQ: CFRX) shares are trading higher Thursday morning. However, there is no specific news to justify the move.', 'ContraFect Corporation (NASDAQ:CFRX) shares are trading higher Thursday morning. However, there is no specific news to justify the move. Wednesday morning, ContraFect announced the dosing of the first patient in Phase 1b/2 of exebacase in the setting of an arthroscopic debridement, antibiotics, irrigation, and retention procedure in patients with chronic prosthetic joint infections of the knee due to Staphylococcus aureus or Coagulase-Negative Staphylococci. The study was initiated earlier this month. ContraFect stock is gaining on heavy volume, with a session volume of 55 million shares traded, compared to the trailing 100-day volume of 3.08 million shares. According to data from Benzinga Pro, CFRX has a 52-week high of $362.4 and a 52-week low of $0.90. Price Action: CFRX shares are up 68.20% at $2.22 on the last check Thursday.'], chunks=[], embeddings=[])\n",
      "alpaca_news_input.inspect_chunks: Document(id='ae376f968b4fe036a8209a9495301d81', group_key=None, metadata={'headline': 'What&#39;s Going On With ContraFecta Stock Today', 'summary': 'ContraFect Corporation (NASDAQ: CFRX) shares are trading higher Thursday morning. However, there is no specific news to justify the move.', 'url': 'https://www.benzinga.com/general/biotech/23/04/32052192/whats-going-on-with-contrafecta-stock-today', 'symbols': ['CFRX'], 'author': 'Vandana Singh', 'created_at': datetime.datetime(2023, 4, 27, 18, 24, 49, tzinfo=TzInfo(UTC))}, text=['What&#39;s Going On With ContraFecta Stock Today', 'ContraFect Corporation (NASDAQ: CFRX) shares are trading higher Thursday morning. However, there is no specific news to justify the move.', 'ContraFect Corporation (NASDAQ:CFRX) shares are trading higher Thursday morning. However, there is no specific news to justify the move. Wednesday morning, ContraFect announced the dosing of the first patient in Phase 1b/2 of exebacase in the setting of an arthroscopic debridement, antibiotics, irrigation, and retention procedure in patients with chronic prosthetic joint infections of the knee due to Staphylococcus aureus or Coagulase-Negative Staphylococci. The study was initiated earlier this month. ContraFect stock is gaining on heavy volume, with a session volume of 55 million shares traded, compared to the trailing 100-day volume of 3.08 million shares. According to data from Benzinga Pro, CFRX has a 52-week high of $362.4 and a 52-week low of $0.90. Price Action: CFRX shares are up 68.20% at $2.22 on the last check Thursday.'], chunks=['What&#39;s Going On With ContraFecta Stock Today', 'ContraFect Corporation (NASDAQ: CFRX) shares are trading higher Thursday morning. However, there is no specific news to justify the move.', 'ContraFect Corporation (NASDAQ:CFRX) shares are trading higher Thursday morning. However, there is no specific news to justify the move. Wednesday morning, ContraFect announced the dosing of the first patient in Phase 1b/2 of exebacase in the setting of an arthroscopic debridement, antibiotics, irrigation, and retention procedure in patients with chronic prosthetic joint infections of the knee due to Staphylococcus aureus or Coagulase-Negative Staphylococci. The study was initiated earlier this month. ContraFect stock is gaining on heavy volume, with a session volume of 55 million shares traded, compared to the trailing 100-day volume of 3.08 million shares. According to data from Benzinga Pro, CFRX has a 52-week high of $362.4 and a 52-week low of $0.90. Price Action: CFRX shares are up 68.20% at $2.22 on the last check Thursday.'], embeddings=[])\n",
      "alpaca_news_input.inspect_embeddings: Document(id='ae376f968b4fe036a8209a9495301d81', group_key=None, metadata={'headline': 'What&#39;s Going On With ContraFecta Stock Today', 'summary': 'ContraFect Corporation (NASDAQ: CFRX) shares are trading higher Thursday morning. However, there is no specific news to justify the move.', 'url': 'https://www.benzinga.com/general/biotech/23/04/32052192/whats-going-on-with-contrafecta-stock-today', 'symbols': ['CFRX'], 'author': 'Vandana Singh', 'created_at': datetime.datetime(2023, 4, 27, 18, 24, 49, tzinfo=TzInfo(UTC))}, text=['What&#39;s Going On With ContraFecta Stock Today', 'ContraFect Corporation (NASDAQ: CFRX) shares are trading higher Thursday morning. However, there is no specific news to justify the move.', 'ContraFect Corporation (NASDAQ:CFRX) shares are trading higher Thursday morning. However, there is no specific news to justify the move. Wednesday morning, ContraFect announced the dosing of the first patient in Phase 1b/2 of exebacase in the setting of an arthroscopic debridement, antibiotics, irrigation, and retention procedure in patients with chronic prosthetic joint infections of the knee due to Staphylococcus aureus or Coagulase-Negative Staphylococci. The study was initiated earlier this month. ContraFect stock is gaining on heavy volume, with a session volume of 55 million shares traded, compared to the trailing 100-day volume of 3.08 million shares. According to data from Benzinga Pro, CFRX has a 52-week high of $362.4 and a 52-week low of $0.90. Price Action: CFRX shares are up 68.20% at $2.22 on the last check Thursday.'], chunks=['What&#39;s Going On With ContraFecta Stock Today', 'ContraFect Corporation (NASDAQ: CFRX) shares are trading higher Thursday morning. However, there is no specific news to justify the move.', 'ContraFect Corporation (NASDAQ:CFRX) shares are trading higher Thursday morning. However, there is no specific news to justify the move. Wednesday morning, ContraFect announced the dosing of the first patient in Phase 1b/2 of exebacase in the setting of an arthroscopic debridement, antibiotics, irrigation, and retention procedure in patients with chronic prosthetic joint infections of the knee due to Staphylococcus aureus or Coagulase-Negative Staphylococci. The study was initiated earlier this month. ContraFect stock is gaining on heavy volume, with a session volume of 55 million shares traded, compared to the trailing 100-day volume of 3.08 million shares. According to data from Benzinga Pro, CFRX has a 52-week high of $362.4 and a 52-week low of $0.90. Price Action: CFRX shares are up 68.20% at $2.22 on the last check Thursday.'], embeddings=[[-0.24233707785606384, 0.21955065429210663, -0.15086019039154053, -0.1989612728357315, -0.16644461452960968, 0.34172356128692627, 0.07155486196279526, 0.6050711274147034, 0.000622134655714035, 0.3844493329524994, 0.04710415378212929, 0.22610090672969818, -0.14923478662967682, 0.02513604797422886, 0.3419530987739563, 0.025022776797413826, 0.42805519700050354, -0.16065646708011627, 0.20420803129673004, 0.08852127194404602, -0.026138611137866974, 0.005441769957542419, -0.07814697921276093, 0.23195591568946838, -0.11711709201335907, 0.2657797634601593, -0.17552895843982697, 0.25299638509750366, 0.1361059695482254, -1.063248872756958, -0.3398905098438263, 0.06189480423927307, 0.1856296956539154, -0.27630048990249634, -0.08838316798210144, -0.6128742694854736, -0.5398581027984619, -0.09665258973836899, 0.4714067876338959, 0.16089875996112823, 0.5238468647003174, -0.22703588008880615, -0.46728092432022095, 0.09655461460351944, 0.32080191373825073, -0.2549014687538147, -0.0823199674487114, 0.5053035020828247, 0.44037237763404846, -0.001192830502986908, -0.4672340452671051, -0.5621151328086853, -0.09358376264572144, 0.021836450323462486, -0.08010999858379364, -0.09130757302045822, -0.010501988232135773, -0.30543720722198486, -0.03639456629753113, 0.0597001314163208, 0.001135706901550293, 0.17125804722309113, 0.002354126423597336, -0.0014108037576079369, -0.13609740138053894, -0.0667315274477005, -0.028858788311481476, 0.2123279720544815, 0.1918792724609375, 0.08723524212837219, 0.10706569254398346, 0.11415781825780869, 0.18782305717468262, 0.3467983901500702, 0.029559770599007607, -0.19187484681606293, 0.29184654355049133, -0.0906222015619278, 0.46200236678123474, -0.1805674135684967, -0.159267395734787, -0.016685757786035538, 0.12533821165561676, -0.0926034152507782, -0.16468659043312073, -0.1545228362083435, 0.3457830846309662, -0.15184028446674347, 0.5041847229003906, -0.18068154156208038, -0.06933269649744034, -0.23478807508945465, 0.15000362694263458, 0.11085308343172073, -0.36157459020614624, 0.025624455884099007, -0.21632015705108643, -0.4211518466472626, -0.11807835847139359, 5.459480285644531, -0.15403272211551666, 0.3719785809516907, -0.013602342456579208, 0.023174939677119255, -0.0939248651266098, -0.17420697212219238, 0.17931927740573883, -0.012344738468527794, 0.3042162358760834, -0.044675517827272415, 0.0006840256974101067, 0.34871983528137207, 0.34507545828819275, -0.1885133534669876, -0.1960221827030182, -0.00448441319167614, 0.2549669146537781, 0.14936663210391998, -0.04927806928753853, -0.18902342021465302, 0.2936350405216217, 0.11352743208408356, 0.18282319605350494, -0.2558785676956177, -0.02450299821794033, -1.3008819818496704, -0.019798213616013527, -5.371844026301563e-32, 0.3379644751548767, -0.34266626834869385, 0.34527093172073364, 0.14746172726154327, -0.07385863363742828, 0.08424241095781326, 0.11382026970386505, -0.4236755967140198, -0.23214946687221527, 0.0782463550567627, -0.04822053760290146, -0.35094135999679565, -0.10458432137966156, -0.14102652668952942, 0.01864493265748024, -0.2193441540002823, 0.008947957307100296, -0.0569520965218544, -0.12265107035636902, 0.16137585043907166, -0.26806771755218506, 0.05435506999492645, 0.01083018071949482, -0.12335127592086792, 0.09328668564558029, 0.3536216914653778, -0.5045092701911926, 0.18894413113594055, 0.0806020125746727, -0.3180620074272156, 0.11463328450918198, 0.19032801687717438, -0.034797798842191696, -0.14748579263687134, 0.29868143796920776, -0.541472315788269, -0.4102742075920105, -0.42109063267707825, 0.12271317839622498, 0.1842246949672699, 0.19378764927387238, -0.1095309928059578, 0.08585221320390701, -0.12514802813529968, 0.28108128905296326, 0.08676456660032272, 0.04053249955177307, 0.12353543192148209, -0.007722232490777969, 0.05837104842066765, 0.0023208209313452244, 0.28134143352508545, -0.3255848288536072, -0.07236959040164948, -0.30344417691230774, 0.2698870897293091, -0.08679546415805817, 0.0948285162448883, 0.022097619250416756, 0.15150393545627594, 0.18028418719768524, -0.1181347519159317, 0.03293099254369736, -0.007999055087566376, -0.4159412086009979, -0.17615804076194763, -0.48687395453453064, -0.44097110629081726, -0.4471001625061035, 0.6176432371139526, -0.17440752685070038, 0.2562496066093445, -0.2766600251197815, -0.014488661661744118, 0.1192154586315155, -0.49569323658943176, -0.20997878909111023, -0.24037210643291473, 0.31854331493377686, 0.011409229598939419, 0.48988640308380127, -0.16931995749473572, -0.2076546549797058, 0.21160459518432617, -0.16366881132125854, -0.11929839849472046, -0.015408914536237717, 0.2720230221748352, 0.07559847831726074, 0.08179651200771332, -0.20457309484481812, 0.033469438552856445, 0.4873410761356354, -0.07767795771360397, 0.033596932888031006, 4.2134407755930565e-32, -0.16398213803768158, -0.10527738928794861, -0.06936895102262497, 0.056297194212675095, -0.26845043897628784, -0.061892375349998474, 0.5357853174209595, -0.21586064994335175, -0.19158446788787842, 0.37957608699798584, 0.3807361125946045, 0.276507705450058, -0.020117491483688354, -0.04372420907020569, 0.3371720314025879, 0.2210937738418579, 0.140387162566185, -0.01818859577178955, -0.09698610007762909, -0.19928953051567078, -0.17340818047523499, 0.03922984376549721, -0.038364652544260025, 0.12064041942358017, 0.348798930644989, 0.13213716447353363, 0.07637283205986023, 0.1873784065246582, -0.06312684714794159, 0.04210185632109642, -0.08693510293960571, 0.16246788203716278, -0.015395455062389374, 0.25577712059020996, -0.19609494507312775, 0.08083361387252808, -0.0968455970287323, -0.33543989062309265, 0.4723595976829529, -0.5644856691360474, 0.08710072189569473, -0.09619669616222382, -0.2212713360786438, 0.366983026266098, 0.17543718218803406, 0.23838387429714203, 0.058667197823524475, 0.09170186519622803, 0.5056876540184021, 0.14599795639514923, -0.10088279843330383, -0.04337560012936592, -0.10159604251384735, -0.04798442870378494, -0.3480057120323181, -0.3868793845176697, -0.24875065684318542, -0.2663485109806061, 0.2802278697490692, -0.10458213090896606, -0.12990276515483856, 0.04636062681674957, -0.12173808366060257, -0.0026551447808742523, -0.2722548842430115, -0.462086021900177, -0.2113294005393982, -0.08040545135736465, 0.2980729341506958, -0.43272581696510315, 0.2894499897956848, 0.1560833603143692, 0.028382839635014534, -0.1637047380208969, -0.13794521987438202, -0.011757371947169304, -0.09441423416137695, -0.04974702000617981, 0.11407439410686493, 0.05422074720263481, -0.13852915167808533, -0.3586840331554413, 0.2031417191028595, 0.28629690408706665, -0.22027096152305603, 0.20767594873905182, -0.10805439949035645, -0.3801957964897156, -0.009192138910293579, 0.24618995189666748, -0.2114216834306717, -0.1568785458803177, 0.2621122896671295, 0.057893164455890656, 0.0021321382373571396, -8.825732322748081e-08, 0.09660537540912628, -0.3677239716053009, 0.07567375153303146, -0.1692616492509842, 0.36558306217193604, 0.0826522707939148, -0.46202003955841064, -0.37074726819992065, 0.6351761221885681, 0.4138112962245941, 0.10909264534711838, 0.4192250669002533, -0.008761346340179443, 0.016438864171504974, 0.07986727356910706, 0.059118397533893585, -0.3925471007823944, 0.4766400158405304, -0.003395896404981613, -0.42797401547431946, 0.14943766593933105, 0.19768787920475006, -0.04913536459207535, -0.047830987721681595, 0.1663665622472763, 0.12290985137224197, 0.18898186087608337, -0.897696852684021, 0.18024110794067383, -0.20864690840244293, 0.3340148329734802, -0.11830881237983704, 0.12813153862953186, 0.27883240580558777, -0.17606927454471588, -0.14227259159088135, 0.39993876218795776, 0.32539108395576477, 0.36523282527923584, -0.00553295761346817, 0.0661439597606659, -0.17614826560020447, -0.16342760622501373, -0.20703616738319397, -0.28050851821899414, -0.1756211370229721, -0.09606219083070755, 0.04195212200284004, -0.20265473425388336, -0.30757859349250793, 0.3312917947769165, -0.14588326215744019, -0.03439681977033615, 0.20530657470226288, 0.16304542124271393, -0.2857646942138672, -0.2753748297691345, -0.29861998558044434, 0.1741572469472885, -0.21705292165279388, -0.19249936938285828, -0.3214970827102661, 0.029610931873321533, -0.12193632125854492], [-0.18739095330238342, -0.1868051439523697, -0.1590716391801834, -0.021281249821186066, 0.014593299478292465, -0.03333223611116409, -0.012194415554404259, 0.3504711389541626, 0.24541811645030975, 0.05528411269187927, 0.17281314730644226, 0.011425957083702087, 0.056828707456588745, 0.214339479804039, 0.18610946834087372, -0.14091508090496063, 0.277266263961792, -0.17709212005138397, 0.13741041719913483, -0.12816151976585388, -0.3536817133426666, -0.12420634925365448, -0.1329244077205658, -0.005170296877622604, 0.22040989995002747, 0.22214153409004211, -0.05081672966480255, 0.0780995562672615, 0.2551388442516327, -0.8111647963523865, -0.18855279684066772, 0.11216440796852112, 0.11102114617824554, -0.352954238653183, 0.08094409108161926, -0.4097019135951996, -0.1840813159942627, 0.07410269230604172, 0.2859862744808197, -0.1271885335445404, 0.3886428475379944, -0.2034716159105301, 0.03271660581231117, 0.2442580610513687, 0.06675664335489273, -0.30401158332824707, 0.13983017206192017, 0.6246540546417236, 0.4336341321468353, 0.22485703229904175, -0.4938536286354065, -0.4483366012573242, 0.06862157583236694, -0.0349317342042923, 0.13125933706760406, 0.42889124155044556, -0.20108437538146973, -0.252826064825058, 0.26569440960884094, -0.056578606367111206, 0.005889375694096088, -0.008699389174580574, 0.044437944889068604, -0.11380581557750702, -0.008432812988758087, -0.0003407280892133713, 0.16150937974452972, 0.17474406957626343, -0.27171218395233154, 0.006237988360226154, -0.17171025276184082, 0.029314551502466202, -0.007489322684705257, 0.30258411169052124, -0.023006852716207504, 0.0769682377576828, -0.04304082691669464, -0.12332567572593689, 0.43314817547798157, 0.11137577891349792, 0.04461193084716797, -0.12439568340778351, 0.055539362132549286, 0.0020472826436161995, -0.16997933387756348, -0.02042384073138237, 0.3820762038230896, -0.10215108096599579, 0.18508371710777283, 0.11769377440214157, -0.065143883228302, -0.05471181124448776, 0.09593988209962845, 0.1674259752035141, -0.7629427909851074, -0.14946512877941132, -0.6813778281211853, -0.03562895208597183, 0.022466812282800674, 5.712738990783691, -0.22736646234989166, 0.464097797870636, 0.10342369228601456, 0.03273094445466995, -0.2420768439769745, -0.13188837468624115, 0.2566181719303131, 0.13626351952552795, 0.14320209622383118, -0.22870656847953796, -0.05028977245092392, 0.7667272686958313, 0.16510778665542603, -0.6273103952407837, -0.02996159717440605, 0.31550589203834534, 0.3292143642902374, 0.14820070564746857, -0.2363443821668625, -0.19262224435806274, 0.14193938672542572, -0.053339604288339615, -0.022058134898543358, -0.18731486797332764, 0.07929793745279312, -1.248893141746521, -0.3062800168991089, -4.388071922477628e-32, -0.11762718111276627, -0.26524609327316284, 0.6352884769439697, 0.010173533111810684, 0.23445431888103485, 0.022412048652768135, 0.18453119695186615, -0.16433116793632507, -0.5161755084991455, 0.15381455421447754, -0.05488178879022598, -0.3004748523235321, -0.08099353313446045, 0.18263199925422668, 0.2780303955078125, -0.5278899073600769, -0.0036236271262168884, -0.1125488206744194, -0.22996880114078522, -0.30551278591156006, -0.09059152007102966, 0.16603708267211914, 0.1257578730583191, -0.2340160608291626, 0.4844397008419037, 0.16686156392097473, -0.40229272842407227, 0.0976223349571228, 0.4352867007255554, -0.5029027462005615, 0.11928392201662064, 0.06508906185626984, -0.23634609580039978, 0.24379020929336548, 0.3573097884654999, -0.2845078706741333, -0.29285192489624023, -0.4455505907535553, 0.054636791348457336, 0.07690109312534332, -0.1028839498758316, -0.15686658024787903, -0.11368260532617569, -0.24245266616344452, 0.4056626260280609, 0.04588339477777481, 0.03275377303361893, -0.5757500529289246, -0.16853560507297516, -0.24171161651611328, 0.4808862805366516, 0.2667425572872162, -0.897259533405304, -0.29057055711746216, -0.007926106452941895, 0.33426541090011597, -0.12000760436058044, 0.25165867805480957, 0.07574822008609772, 0.3095097541809082, 0.006206486374139786, 0.0025158263742923737, -0.31847304105758667, -0.17551296949386597, -0.37943828105926514, 0.2358454018831253, -0.23802107572555542, -0.5795713663101196, -0.3330662250518799, 0.6943374276161194, -0.12967422604560852, 0.3958528935909271, -0.2548140585422516, 0.018956949934363365, 0.3477393388748169, -0.10266207903623581, -0.3836471140384674, -0.11850929260253906, 0.4518498182296753, -0.08686962723731995, 0.09869414567947388, -0.02505214884877205, 0.11275042593479156, 0.5674663782119751, -0.515773355960846, -0.10521334409713745, -0.3289962112903595, 0.34734559059143066, 0.06236806511878967, 0.049569956958293915, 0.11063066124916077, 0.007103798910975456, 0.3197334110736847, 0.06198670342564583, -0.27332717180252075, 3.5210634357623964e-32, 0.06395001709461212, -0.00013184547424316406, -0.13465027511119843, 0.003927145153284073, -0.6005769968032837, -0.2098674476146698, 0.44649776816368103, -0.17201080918312073, -0.13600529730319977, -0.07626603543758392, 0.31290262937545776, 0.41502904891967773, -0.12322138249874115, 0.041735339909791946, 0.19185355305671692, 0.15846557915210724, 0.2250354140996933, -0.09093774855136871, -0.40883129835128784, -0.5336863994598389, 0.09591008722782135, 0.16608229279518127, 0.08332163840532303, 0.16794368624687195, -0.05632235109806061, 0.10209590196609497, 0.36814525723457336, 0.19564113020896912, -0.05867791175842285, 0.22367827594280243, -0.36352232098579407, 0.16821038722991943, 0.023455344140529633, -0.05911511182785034, -0.07578468322753906, -0.09111940115690231, -0.07061596214771271, -0.20867633819580078, 0.3855137526988983, -0.30497512221336365, -0.20354092121124268, 0.22160665690898895, -0.33541008830070496, 0.3785316050052643, -0.0423584021627903, 0.415738582611084, -0.00796867161989212, -0.3120819330215454, 0.3371632397174835, -0.11701352149248123, -0.155058354139328, -0.043254975229501724, 0.34788182377815247, 0.1616823673248291, -0.055001407861709595, -0.1720760315656662, -0.0534009113907814, -0.7281931638717651, 0.7367770075798035, -0.14937549829483032, 0.055981509387493134, 0.19775059819221497, -0.08636463433504105, -0.06820693612098694, 0.0726347267627716, -0.5034672617912292, -0.6001753807067871, -0.0445307232439518, 0.12333690375089645, 0.0020195990800857544, 0.2314334213733673, -0.1947174072265625, -0.020444020628929138, 0.06843729317188263, -0.1306772381067276, 0.18189167976379395, -0.0304400697350502, -0.004083804786205292, 0.013700618408620358, 0.2123536616563797, -0.2243068814277649, -0.1889563947916031, 0.16199371218681335, 0.4698089063167572, -0.16705691814422607, -0.005047701299190521, 0.06970886886119843, -0.47663456201553345, 0.38992437720298767, 0.05681503564119339, -0.19705243408679962, -0.3282824158668518, 0.5101376175880432, 0.005159743130207062, -0.07948003709316254, -8.960974895444451e-08, -0.22846737504005432, -0.4095703661441803, 0.07385578751564026, -0.10684123635292053, 0.14515408873558044, 0.20375709235668182, -0.46934032440185547, -0.19205303490161896, 0.3308352530002594, 0.5211747884750366, 0.0005930615589022636, 0.2942068576812744, -0.1124638170003891, -0.24454165995121002, 0.261159211397171, 0.021537750959396362, -0.20940667390823364, -0.08360038697719574, 0.21823866665363312, -0.7592790126800537, -0.1069348007440567, 0.519473671913147, 0.00473220506682992, 0.15587392449378967, 0.18711408972740173, -0.09855019301176071, -0.07856688648462296, -0.7032760381698608, 0.12597379088401794, 0.010737942531704903, -0.04177321493625641, -0.0793473944067955, 0.07663217186927795, 0.04600988328456879, -0.3244345486164093, 0.03480742499232292, 0.38807594776153564, 0.0011712070554494858, 0.3247675895690918, 0.0064022839069366455, 0.16365469992160797, -0.0969478115439415, -0.207223579287529, -0.30213165283203125, -0.104885995388031, 0.009620820172131062, 0.037998344749212265, 0.19227024912834167, -0.1442853808403015, -0.526008129119873, 0.8492598533630371, -0.29618752002716064, -0.13445203006267548, 0.487997829914093, 0.23940397799015045, -0.15778137743473053, -0.6394056081771851, 0.2602633535861969, 0.023569628596305847, -0.23375733196735382, -0.4165480136871338, 0.013732120394706726, -0.27064090967178345, -0.1703617125749588], [-0.15387257933616638, -0.051562659442424774, -0.030283557251095772, -0.043221257627010345, -0.032612938433885574, -0.01584213227033615, -0.00025960616767406464, 0.5637795329093933, 0.2264464646577835, -0.006793111562728882, 0.06309624761343002, -0.029408391565084457, 0.094474196434021, 0.32769280672073364, -0.07217537611722946, -0.1472705751657486, 0.3405216336250305, -0.2643641531467438, 0.22258110344409943, 0.11058023571968079, -0.13257259130477905, 0.09071657061576843, -0.0525750108063221, -0.2028169482946396, 0.052230313420295715, 0.18376629054546356, -0.27132976055145264, 0.03759394586086273, 0.29331183433532715, -0.7495887875556946, -0.027059610933065414, 0.042004846036434174, 0.09810877591371536, -0.40876251459121704, -0.025539565831422806, -0.38059863448143005, -0.25947272777557373, 0.11086618900299072, 0.38246557116508484, 0.18103066086769104, 0.2973201870918274, -0.06144338473677635, -0.16553238034248352, 0.2074163258075714, 0.2233055830001831, -0.11424524337053299, 0.23229072988033295, 0.5339453220367432, 0.28605616092681885, 0.296494722366333, -0.30998605489730835, -0.3765677511692047, -0.018058214336633682, 0.26901859045028687, 0.03434762731194496, 0.14346550405025482, -0.22116076946258545, -0.34328693151474, -0.05526132881641388, 0.2578428089618683, -0.09385820478200912, 0.28481927514076233, -0.11727854609489441, -0.0827334001660347, -0.13614849746227264, 0.07972601056098938, 0.06350790709257126, 0.0918564423918724, -0.10228793323040009, 0.06613191217184067, -0.26280590891838074, 0.31043362617492676, 0.13113056123256683, 0.3341861665248871, -0.0566423274576664, -0.058740947395563126, 0.11797419935464859, -0.09906366467475891, 0.20498919486999512, -0.22934076189994812, -0.12264278531074524, 0.04689235985279083, 0.17290803790092468, 0.25342434644699097, -0.06350233405828476, -0.04000584036111832, 0.37782931327819824, -0.08417302370071411, 0.1767076849937439, 0.04863212630152702, -0.08017224818468094, -0.1526768058538437, 0.01135698426514864, -0.04342978447675705, -0.6871827244758606, -0.019215039908885956, -0.49538326263427734, -0.037408433854579926, 0.06305119395256042, 5.523486137390137, -0.279677152633667, 0.23410601913928986, 0.2128983438014984, -0.059132933616638184, -0.053340502083301544, -0.2923456132411957, 0.20433251559734344, -0.013470979407429695, 0.16706912219524384, -0.09774339199066162, 0.09346640110015869, 0.3103736937046051, 0.2635883688926697, -0.40546131134033203, -0.05016510188579559, 0.11989080160856247, 0.11957605183124542, -0.03564523160457611, -0.15203441679477692, -0.017549660056829453, 0.08080469071865082, -0.17503395676612854, -0.12262733280658722, -0.23100212216377258, -0.01837802864611149, -1.3462454080581665, -0.09659857302904129, -5.315842887681214e-32, 0.05676894634962082, -0.35295307636260986, 0.6189131736755371, 0.07634565979242325, 0.16249175369739532, 0.11567002534866333, 0.037747811526060104, -0.11524627357721329, -0.1810501664876938, -0.008541278541088104, 0.04305623844265938, -0.2656500041484833, -0.023356163874268532, 0.012403372675180435, 0.2758311629295349, -0.22431063652038574, 0.05899188667535782, 0.030993221327662468, -0.28931355476379395, 0.06542502343654633, 0.015550353564321995, -0.01776968687772751, 0.06793491542339325, -0.20119094848632812, 0.2964496910572052, 0.14048096537590027, -0.4207995533943176, 0.3078067898750305, 0.25840383768081665, -0.46533873677253723, -0.16828863322734833, 0.19588199257850647, -0.16971804201602936, -0.03535056114196777, 0.054251767694950104, -0.3632178008556366, -0.22846300899982452, -0.26938626170158386, 0.007577206939458847, -0.05084484815597534, 0.01751844771206379, 0.09309203177690506, -0.1672877073287964, 0.01874355599284172, 0.11374594271183014, -0.16648945212364197, 0.0028591006994247437, -0.20376591384410858, 0.08248250186443329, -0.3568393588066101, 0.36309579014778137, 0.22685419023036957, -0.398226261138916, -0.14825306832790375, -0.2175825834274292, 0.3681821823120117, -0.006506609730422497, 0.31968626379966736, 0.1554141342639923, 0.1524507850408554, 0.09405830502510071, 0.05553382635116577, -0.19950686395168304, -0.0314730629324913, -0.355027437210083, -0.08582004904747009, -0.11882704496383667, -0.33449986577033997, -0.3018321692943573, 0.3642764985561371, -0.35275784134864807, 0.2501446008682251, -0.22771935164928436, 0.06203427165746689, 0.08388382941484451, -0.0490168035030365, -0.18996435403823853, -0.07280387729406357, 0.34212058782577515, -0.08388056606054306, -0.017363548278808594, -0.21286621689796448, 0.04189234972000122, 0.35904422402381897, -0.43232300877571106, -0.03562859818339348, -0.07765325158834457, 0.3307873010635376, -0.13587690889835358, 0.05478937178850174, 0.20543159544467926, 0.04237355664372444, 0.1601950228214264, -0.014900277368724346, -0.19830411672592163, 4.644412857182207e-32, -0.00285441055893898, 0.09822265803813934, -0.17249639332294464, -0.20896244049072266, -0.285480797290802, 0.16564232110977173, 0.49350789189338684, -0.03920138627290726, -0.20950038731098175, 0.19942913949489594, 0.20936428010463715, 0.45931369066238403, -0.13480040431022644, 0.35823726654052734, 0.3292548358440399, 0.15410158038139343, 0.08594291657209396, -0.08667374402284622, -0.2428407222032547, -0.28279703855514526, 0.03268945962190628, 0.24892215430736542, 0.08927389234304428, 0.11787018924951553, -0.05590713769197464, 0.3034985661506653, 0.15754424035549164, 0.34593573212623596, -0.18797814846038818, 0.18948251008987427, -0.32256004214286804, 0.14910268783569336, 0.0073716118931770325, -0.09199845045804977, -0.1116780936717987, 0.035621389746665955, -0.07673567533493042, -0.32983627915382385, 0.28759536147117615, -0.28927862644195557, -0.03298855200409889, -0.05949701741337776, -0.2454148232936859, 0.3695542812347412, 0.11108385026454926, 0.20012526214122772, 0.05861601233482361, -0.2504625618457794, 0.38621219992637634, 0.0016605984419584274, -0.17972923815250397, -0.03819485381245613, 0.026908623054623604, -0.0025905370712280273, -0.0984266996383667, -0.3961797058582306, -0.13930603861808777, -0.5302074551582336, 0.22322387993335724, -0.047992903739213943, -0.11413182318210602, 0.20557895302772522, -0.16635580360889435, 0.046205826103687286, -0.07917293906211853, -0.2251494973897934, -0.2691289186477661, -0.022860873490571976, 0.13066010177135468, -0.13322816789150238, 0.05233031511306763, -0.047088660299777985, 0.0392904095351696, -0.05418124794960022, 0.05898057669401169, 0.044805850833654404, 0.030854642391204834, -0.09010560810565948, 0.028209486976265907, 0.08401308208703995, -0.0505216121673584, -0.31259047985076904, 0.05683508142828941, 0.23313356935977936, -0.17286062240600586, -0.032107993960380554, 0.027419373393058777, -0.23366378247737885, 0.06001601368188858, 0.13513459265232086, -0.12909111380577087, -0.19105775654315948, 0.28826120495796204, -0.13202130794525146, -0.009075278416275978, -8.706506804401215e-08, -0.09419187903404236, -0.2148301601409912, 0.25666528940200806, -0.06747625768184662, 0.07411792874336243, -0.04140221327543259, -0.38815125823020935, -0.10943599045276642, 0.17047134041786194, 0.43057388067245483, 0.11257684975862503, 0.1965538114309311, 0.11329679191112518, -0.03278403729200363, 0.1677628457546234, 0.07330115139484406, -0.24756379425525665, 0.07136231660842896, 0.11091020703315735, -0.6016268730163574, -0.02457001805305481, 0.2632221281528473, -0.14802521467208862, 0.032221969217061996, 0.3431229293346405, -0.06043936312198639, 0.0075856526382267475, -0.7742188572883606, -0.08897553384304047, 0.010266298428177834, -0.014677273109555244, -0.08965471386909485, -0.06696123629808426, 0.2629013657569885, -0.26703640818595886, -0.12985071539878845, 0.2866900861263275, -0.0012537464499473572, 0.2453162670135498, -0.0025533586740493774, 0.31164833903312683, 0.04413417726755142, -0.2664434015750885, -0.18904241919517517, -0.046716608107089996, 0.11581416428089142, 0.07604800909757614, 0.1654166579246521, -0.09699650853872299, -0.44356968998908997, 0.5023348927497864, 0.04666552692651749, -0.09248021990060806, 0.41452792286872864, -0.011735627427697182, -0.03355894610285759, -0.2906298041343689, 0.09240549802780151, 0.14544612169265747, 0.07549024373292923, -0.3022701144218445, -0.06715168058872223, -0.15720447897911072, -0.08908966183662415]])\n"
     ]
    },
    {
     "name": "stderr",
     "output_type": "stream",
     "text": [
      "\u001b[32m2024-11-17 03:28:36.553\u001b[0m | \u001b[1mINFO    \u001b[0m | \u001b[36mstreaming_pipeline.models\u001b[0m:\u001b[36mto_payloads\u001b[0m:\u001b[36m132\u001b[0m - \u001b[1mTotal chunks: 3\u001b[0m\n",
      "\u001b[32m2024-11-17 03:28:36.553\u001b[0m | \u001b[1mINFO    \u001b[0m | \u001b[36mstreaming_pipeline.models\u001b[0m:\u001b[36mto_payloads\u001b[0m:\u001b[36m133\u001b[0m - \u001b[1mUnique chunk IDs: 3\u001b[0m\n",
      "\u001b[32m2024-11-17 03:28:36.553\u001b[0m | \u001b[1mINFO    \u001b[0m | \u001b[36mstreaming_pipeline.models\u001b[0m:\u001b[36mto_payloads\u001b[0m:\u001b[36m134\u001b[0m - \u001b[1mTotal payloads: 3\u001b[0m\n"
     ]
    },
    {
     "name": "stdout",
     "output_type": "stream",
     "text": [
      "Writing 1 embeddings to Qdrant...\n",
      "The Payloads in Qdrant &&&######### : [{'headline': 'What&#39;s Going On With ContraFecta Stock Today', 'summary': 'ContraFect Corporation (NASDAQ: CFRX) shares are trading higher Thursday morning. However, there is no specific news to justify the move.', 'url': 'https://www.benzinga.com/general/biotech/23/04/32052192/whats-going-on-with-contrafecta-stock-today', 'symbols': ['CFRX'], 'author': 'Vandana Singh', 'created_at': datetime.datetime(2023, 4, 27, 18, 24, 49, tzinfo=TzInfo(UTC)), 'text': 'What&#39;s Going On With ContraFecta Stock Today'}, {'headline': 'What&#39;s Going On With ContraFecta Stock Today', 'summary': 'ContraFect Corporation (NASDAQ: CFRX) shares are trading higher Thursday morning. However, there is no specific news to justify the move.', 'url': 'https://www.benzinga.com/general/biotech/23/04/32052192/whats-going-on-with-contrafecta-stock-today', 'symbols': ['CFRX'], 'author': 'Vandana Singh', 'created_at': datetime.datetime(2023, 4, 27, 18, 24, 49, tzinfo=TzInfo(UTC)), 'text': 'ContraFect Corporation (NASDAQ: CFRX) shares are trading higher Thursday morning. However, there is no specific news to justify the move.'}, {'headline': 'What&#39;s Going On With ContraFecta Stock Today', 'summary': 'ContraFect Corporation (NASDAQ: CFRX) shares are trading higher Thursday morning. However, there is no specific news to justify the move.', 'url': 'https://www.benzinga.com/general/biotech/23/04/32052192/whats-going-on-with-contrafecta-stock-today', 'symbols': ['CFRX'], 'author': 'Vandana Singh', 'created_at': datetime.datetime(2023, 4, 27, 18, 24, 49, tzinfo=TzInfo(UTC)), 'text': 'ContraFect Corporation (NASDAQ:CFRX) shares are trading higher Thursday morning. However, there is no specific news to justify the move. Wednesday morning, ContraFect announced the dosing of the first patient in Phase 1b/2 of exebacase in the setting of an arthroscopic debridement, antibiotics, irrigation, and retention procedure in patients with chronic prosthetic joint infections of the knee due to Staphylococcus aureus or Coagulase-Negative Staphylococci. The study was initiated earlier this month. ContraFect stock is gaining on heavy volume, with a session volume of 55 million shares traded, compared to the trailing 100-day volume of 3.08 million shares. According to data from Benzinga Pro, CFRX has a 52-week high of $362.4 and a 52-week low of $0.90. Price Action: CFRX shares are up 68.20% at $2.22 on the last check Thursday.'}]\n"
     ]
    }
   ],
   "source": [
    "from bytewax.testing import run_main\n",
    "\n",
    "run_main(flow)"
   ]
  },
  {
   "cell_type": "code",
   "execution_count": 12,
   "metadata": {},
   "outputs": [],
   "source": [
    "from typing import List\n",
    "from pathlib import Path\n",
    "from langchain_core.embeddings import Embeddings\n",
    "\n",
    "class CustomEmbeddings(Embeddings):\n",
    "    \"\"\"\n",
    "    Wrapper for the custom embedding model to make it compatible with LangChain.\n",
    "    \"\"\"\n",
    "    \n",
    "    def __init__(self):\n",
    "        \"\"\"\n",
    "        Initialize the custom embeddings wrapper.\n",
    "        \n",
    "        Args:\n",
    "            model_id: The identifier of the pre-trained transformer model\n",
    "            max_input_length: Maximum length of input text to tokenize\n",
    "            device: Device to use for running the model\n",
    "            cache_dir: Directory to cache the pre-trained model files\n",
    "        \"\"\"\n",
    "        \n",
    "        self.embedding_model = EmbeddingModelSingleton()\n",
    "\n",
    "    def embed_documents(self, texts: List[str]) -> List[List[float]]:\n",
    "        \"\"\"\n",
    "        Generate embeddings for a list of documents.\n",
    "        \n",
    "        Args:\n",
    "            texts: List of text strings to embed\n",
    "            \n",
    "        Returns:\n",
    "            List of embeddings, one per text\n",
    "        \"\"\"\n",
    "        embeddings = []\n",
    "        for text in texts:\n",
    "            embedding = self.embedding_model(text, to_list=True)\n",
    "            embeddings.append(embedding)\n",
    "        return embeddings\n",
    "\n",
    "    def embed_query(self, text: str) -> List[float]:\n",
    "        \"\"\"\n",
    "        Generate embedding for a single query text.\n",
    "        \n",
    "        Args:\n",
    "            text: Text string to embed\n",
    "            \n",
    "        Returns:\n",
    "            Query embedding\n",
    "        \"\"\"\n",
    "        return self.embedding_model(text, to_list=True)"
   ]
  },
  {
   "cell_type": "code",
   "execution_count": 44,
   "metadata": {},
   "outputs": [],
   "source": [
    "from langchain_openai import ChatOpenAI\n",
    "from langchain_core.prompts import ChatPromptTemplate\n",
    "from langchain_core.output_parsers import StrOutputParser\n",
    "from langchain_core.runnables import RunnableParallel, RunnablePassthrough\n",
    "from langchain_qdrant import QdrantVectorStore, RetrievalMode\n",
    "from typing import List, Dict\n",
    "from langchain_core.documents import Document as LangChainDocument\n",
    "\n",
    "class NewsRAGSystem:\n",
    "    def __init__(\n",
    "        self,\n",
    "        qdrant_url: Optional[str] = None,\n",
    "        qdrant_api_key: Optional[str] = None,\n",
    "        openai_api_key: str = \"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\",\n",
    "        retrieval_mode: RetrievalMode = RetrievalMode.DENSE,\n",
    "        content_payload_key: str = \"text\",\n",
    "        metadata_payload_key: str = \"payload\",\n",
    "    ):\n",
    "        \"\"\"\n",
    "        Initialize the RAG system with Qdrant and OpenAI credentials.\n",
    "        \n",
    "        Args:\n",
    "            qdrant_url: Qdrant Cloud URL\n",
    "            qdrant_api_key: Qdrant Cloud API key\n",
    "            collection_name: Name of the collection in Qdrant\n",
    "            openai_api_key: OpenAI API key\n",
    "        \"\"\"\n",
    "        # Initialize Qdrant client\n",
    "        self.client = build_qdrant_client(api_key=qdrant_api_key, url=qdrant_url)\n",
    "        \n",
    "        # Initialize embeddings\n",
    "        self.embeddings = CustomEmbeddings()\n",
    "        \n",
    "        # Initialize vector store\n",
    "        self.vectorstore = QdrantVectorStore(\n",
    "            client=self.client,\n",
    "            collection_name=constants.VECTOR_DB_OUTPUT_COLLECTION_NAME,\n",
    "            embedding=self.embeddings,\n",
    "            content_payload_key=content_payload_key,\n",
    "            metadata_payload_key=metadata_payload_key,\n",
    "            retrieval_mode=retrieval_mode\n",
    "        )\n",
    "        \n",
    "        # Initialize retriever\n",
    "        self.retriever = self.vectorstore.as_retriever(\n",
    "            search_type=\"mmr\",  # Using MMR for better diversity in results\n",
    "            search_kwargs={\"k\": 3}\n",
    "        )\n",
    "        \n",
    "        # Initialize LLM\n",
    "        self.llm = ChatOpenAI(\n",
    "            model_name=\"gpt-4o\",\n",
    "            openai_api_key=openai_api_key,\n",
    "            base_url=\"https://openrouter.ai/api/v1\"\n",
    "        )\n",
    "        \n",
    "        # Create prompt template\n",
    "        self.prompt = ChatPromptTemplate.from_template(\"\"\"You are a helpful assistant that answers questions about financial news articles.\n",
    "        Use the following pieces of context to answer the question at the end.\n",
    "        If you don't know the answer, just say that you don't know. Don't try to make up an answer.\n",
    "        \n",
    "        Context:\n",
    "        {context}\n",
    "        \n",
    "        Question: {question}\n",
    "        \n",
    "        Helpful Answer:\"\"\")\n",
    "        \n",
    "        # Initialize RAG chain\n",
    "        self.chain = self._create_rag_chain()\n",
    "    \n",
    "    def _format_docs(self, docs: List[LangChainDocument]) -> str:\n",
    "        \"\"\"Format documents into a string.\"\"\"\n",
    "        print(\"########### The Documents ########### :: \", docs)\n",
    "        return \"\\n\\n\".join(f'Content {i}:\\n{doc.page_content}' for i, doc in enumerate(docs))\n",
    "    \n",
    "    def _create_rag_chain(self):\n",
    "        \"\"\"\n",
    "        Create the RAG chain using the latest LangChain syntax.\n",
    "        \"\"\"\n",
    "        # Define the RAG chain\n",
    "        chain = (\n",
    "            RunnableParallel(\n",
    "                {\"context\": self.retriever | self._format_docs, \"question\": RunnablePassthrough()}\n",
    "            )\n",
    "            | self.prompt\n",
    "            | self.llm\n",
    "            | StrOutputParser()\n",
    "        )\n",
    "        \n",
    "        return chain\n",
    "    \n",
    "    def query(self, question: str) -> Dict:\n",
    "        \"\"\"\n",
    "        Query the RAG system with a question.\n",
    "        \n",
    "        Args:\n",
    "            question: The question to ask\n",
    "            \n",
    "        Returns:\n",
    "            Dict containing the answer and source documents\n",
    "        \"\"\"\n",
    "        # Get the answer\n",
    "        answer = self.chain.invoke(question)\n",
    "        \n",
    "        # Get source documents\n",
    "        docs = self.retriever.invoke(question)\n",
    "        \n",
    "        # Format source documents\n",
    "        sources = []\n",
    "        for doc in docs:\n",
    "            source = {\n",
    "                \"headline\": doc.metadata.get(\"headline\", \"N/A\"),\n",
    "                \"url\": doc.metadata.get(\"url\", \"N/A\"),\n",
    "                \"created_at\": doc.metadata.get(\"created_at\", \"N/A\"),\n",
    "                \"symbols\": doc.metadata.get(\"symbols\", []),\n",
    "                \"author\": doc.metadata.get(\"author\", \"N/A\")\n",
    "            }\n",
    "            sources.append(source)\n",
    "        \n",
    "        return {\n",
    "            \"answer\": answer,\n",
    "            \"sources\": sources\n",
    "        }\n",
    "    \n",
    "    def query_by_filters(\n",
    "        self,\n",
    "        question: str,\n",
    "        symbols: List[str] = None,\n",
    "        date_from: str = None,\n",
    "        date_to: str = None\n",
    "    ) -> Dict:\n",
    "        \"\"\"\n",
    "        Query with additional filters for symbols and date range.\n",
    "        \n",
    "        Args:\n",
    "            question: The question to ask\n",
    "            symbols: List of stock symbols to filter by\n",
    "            date_from: Start date in ISO format\n",
    "            date_to: End date in ISO format\n",
    "            \n",
    "        Returns:\n",
    "            Dict containing the answer and filtered source documents\n",
    "        \"\"\"\n",
    "        # Build filter conditions\n",
    "        filter_conditions = {}\n",
    "        \n",
    "        if symbols:\n",
    "            filter_conditions[\"symbols\"] = {\"$in\": symbols}\n",
    "            \n",
    "        if date_from or date_to:\n",
    "            filter_conditions[\"created_at\"] = {}\n",
    "            if date_from:\n",
    "                filter_conditions[\"created_at\"][\"$gte\"] = date_from\n",
    "            if date_to:\n",
    "                filter_conditions[\"created_at\"][\"$lte\"] = date_to\n",
    "        \n",
    "        # Update retriever search parameters\n",
    "        self.retriever.search_kwargs[\"filter\"] = filter_conditions\n",
    "        \n",
    "        # Get results\n",
    "        result = self.query(question)\n",
    "        \n",
    "        # Reset retriever search parameters\n",
    "        self.retriever.search_kwargs.pop(\"filter\", None)\n",
    "        \n",
    "        return result"
   ]
  },
  {
   "cell_type": "code",
   "execution_count": 45,
   "metadata": {},
   "outputs": [
    {
     "name": "stderr",
     "output_type": "stream",
     "text": [
      "INFO:httpx:HTTP Request: GET https://73bdd42b-86a7-49fc-bcf4-e6bf85cfca17.us-east4-0.gcp.cloud.qdrant.io:6333/collections/alpaca_financial_news \"HTTP/1.1 200 OK\"\n"
     ]
    }
   ],
   "source": [
    "\n",
    "# Initialize the RAG system\n",
    "rag_system = NewsRAGSystem()\n"
   ]
  },
  {
   "cell_type": "code",
   "execution_count": 46,
   "metadata": {},
   "outputs": [
    {
     "name": "stderr",
     "output_type": "stream",
     "text": [
      "INFO:httpx:HTTP Request: GET https://73bdd42b-86a7-49fc-bcf4-e6bf85cfca17.us-east4-0.gcp.cloud.qdrant.io:6333/collections/alpaca_financial_news \"HTTP/1.1 200 OK\"\n",
      "INFO:httpx:HTTP Request: POST https://73bdd42b-86a7-49fc-bcf4-e6bf85cfca17.us-east4-0.gcp.cloud.qdrant.io:6333/collections/alpaca_financial_news/points/query \"HTTP/1.1 200 OK\"\n"
     ]
    },
    {
     "name": "stdout",
     "output_type": "stream",
     "text": [
      "########### The Documents ########### ::  [Document(metadata={'_id': '40f5b90c-e31b-0e9d-feb5-04fcc98c331f', '_collection_name': 'alpaca_financial_news'}, page_content='Sangamo Therapeutics Receives U.S. FDA Fast Track Designation For Isaralgagene Civaparvovec For The Treatment Of Fabry Disease'), Document(metadata={'_id': '77970f5e-c01e-e1e3-8427-d97c0958d405', '_collection_name': 'alpaca_financial_news'}, page_content='Sangamo Therapeutics, Inc. (NASDAQ:SGMO), a genomic medicine company, today announced that the U.S. Food and Drug Administration (FDA) has granted Fast Track Designation to isaralgagene civaparvovec, or ST-920, a wholly owned gene therapy product candidate for the treatment of Fabry disease. Fast Track designation aims to facilitate the development and expedite the review of new therapeutics that are intended to treat serious or life-threatening conditions and that demonstrate the potential to address unmet medical needs. Companies granted this designation are given the opportunity for more frequent interactions with the FDA. These clinical programs may also be eligible to apply for Accelerated Approval and Priority Review if relevant criteria are met. The FDA has previously granted ST-920 Orphan Drug Designation. \"We are thrilled with the FDA\\'s decision to grant Fast Track Designation for ST-920. Fabry is a debilitating disease with life-long impact,\" said Nathalie Dubois-Stringfellow, Ph.D, Sangamo\\'s Senior Vice President, Chief Development Officer. \"This decision from the FDA underscores the potential for ST-920 to address a serious unmet need and serve as a meaningful therapeutic option for patients with Fabry disease. We are highly encouraged by this promising development and look forward to our expected meeting with the FDA on Phase 3 trial design in the summer.\" ST-920 is currently being evaluated in the Phase 1/2 STAAR study, with a total of 20 patients dosed to date. In February 2023, Sangamo announced promising results from the STAAR study via an oral presentation at the 19th Annual WORLDSymposium, showing sustained, elevated expression of alpha-galactosidase A (-Gal A) activity in the 13 dosed patients as of the data'), Document(metadata={'_id': 'bf1b51d4-2187-6cbc-9217-e66e3555e459', '_collection_name': 'alpaca_financial_news'}, page_content='Sangamo Therapeutics, Inc. (NASDAQ:SGMO), a genomic medicine company, today announced that the U.S. Food and Drug Administration (FDA) has granted Fast Track Designation to isaralgagene civaparvovec, or ST-920, a wholly')]\n"
     ]
    },
    {
     "name": "stderr",
     "output_type": "stream",
     "text": [
      "INFO:httpx:HTTP Request: POST https://openrouter.ai/api/v1/chat/completions \"HTTP/1.1 200 OK\"\n",
      "INFO:httpx:HTTP Request: GET https://73bdd42b-86a7-49fc-bcf4-e6bf85cfca17.us-east4-0.gcp.cloud.qdrant.io:6333/collections/alpaca_financial_news \"HTTP/1.1 200 OK\"\n",
      "INFO:httpx:HTTP Request: POST https://73bdd42b-86a7-49fc-bcf4-e6bf85cfca17.us-east4-0.gcp.cloud.qdrant.io:6333/collections/alpaca_financial_news/points/query \"HTTP/1.1 200 OK\"\n"
     ]
    }
   ],
   "source": [
    "\n",
    "# Basic query\n",
    "question = \"What was the FDA designation given to Sangamo Therapeutics for their Fabry Disease treatment?\"\n",
    "result = rag_system.query(question)\n"
   ]
  },
  {
   "cell_type": "code",
   "execution_count": 47,
   "metadata": {},
   "outputs": [
    {
     "data": {
      "text/plain": [
       "{'answer': 'The FDA granted Fast Track Designation to Sangamo Therapeutics for their Fabry Disease treatment, isaralgagene civaparvovec (ST-920).',\n",
       " 'sources': [{'headline': 'N/A',\n",
       "   'url': 'N/A',\n",
       "   'created_at': 'N/A',\n",
       "   'symbols': [],\n",
       "   'author': 'N/A'},\n",
       "  {'headline': 'N/A',\n",
       "   'url': 'N/A',\n",
       "   'created_at': 'N/A',\n",
       "   'symbols': [],\n",
       "   'author': 'N/A'},\n",
       "  {'headline': 'N/A',\n",
       "   'url': 'N/A',\n",
       "   'created_at': 'N/A',\n",
       "   'symbols': [],\n",
       "   'author': 'N/A'}]}"
      ]
     },
     "execution_count": 47,
     "metadata": {},
     "output_type": "execute_result"
    }
   ],
   "source": [
    "result"
   ]
  },
  {
   "cell_type": "code",
   "execution_count": 42,
   "metadata": {},
   "outputs": [
    {
     "name": "stderr",
     "output_type": "stream",
     "text": [
      "INFO:httpx:HTTP Request: POST https://73bdd42b-86a7-49fc-bcf4-e6bf85cfca17.us-east4-0.gcp.cloud.qdrant.io:6333/collections/alpaca_financial_news/points/query \"HTTP/1.1 200 OK\"\n"
     ]
    },
    {
     "data": {
      "text/plain": [
       "[Document(metadata={'_id': '40f5b90c-e31b-0e9d-feb5-04fcc98c331f', '_collection_name': 'alpaca_financial_news'}, page_content='Sangamo Therapeutics Receives U.S. FDA Fast Track Designation For Isaralgagene Civaparvovec For The Treatment Of Fabry Disease'),\n",
       " Document(metadata={'_id': '77970f5e-c01e-e1e3-8427-d97c0958d405', '_collection_name': 'alpaca_financial_news'}, page_content='Sangamo Therapeutics, Inc. (NASDAQ:SGMO), a genomic medicine company, today announced that the U.S. Food and Drug Administration (FDA) has granted Fast Track Designation to isaralgagene civaparvovec, or ST-920, a wholly owned gene therapy product candidate for the treatment of Fabry disease. Fast Track designation aims to facilitate the development and expedite the review of new therapeutics that are intended to treat serious or life-threatening conditions and that demonstrate the potential to address unmet medical needs. Companies granted this designation are given the opportunity for more frequent interactions with the FDA. These clinical programs may also be eligible to apply for Accelerated Approval and Priority Review if relevant criteria are met. The FDA has previously granted ST-920 Orphan Drug Designation. \"We are thrilled with the FDA\\'s decision to grant Fast Track Designation for ST-920. Fabry is a debilitating disease with life-long impact,\" said Nathalie Dubois-Stringfellow, Ph.D, Sangamo\\'s Senior Vice President, Chief Development Officer. \"This decision from the FDA underscores the potential for ST-920 to address a serious unmet need and serve as a meaningful therapeutic option for patients with Fabry disease. We are highly encouraged by this promising development and look forward to our expected meeting with the FDA on Phase 3 trial design in the summer.\" ST-920 is currently being evaluated in the Phase 1/2 STAAR study, with a total of 20 patients dosed to date. In February 2023, Sangamo announced promising results from the STAAR study via an oral presentation at the 19th Annual WORLDSymposium, showing sustained, elevated expression of alpha-galactosidase A (-Gal A) activity in the 13 dosed patients as of the data')]"
      ]
     },
     "execution_count": 42,
     "metadata": {},
     "output_type": "execute_result"
    }
   ],
   "source": [
    "rag_system.vectorstore.similarity_search(\n",
    "    \"What was the FDA designation given to Sangamo Therapeutics for their Fabry Disease treatment?\", k=2\n",
    ")"
   ]
  }
 ],
 "metadata": {
  "kernelspec": {
   "display_name": "Venev_realtimeRag",
   "language": "python",
   "name": "python3"
  },
  "language_info": {
   "codemirror_mode": {
    "name": "ipython",
    "version": 3
   },
   "file_extension": ".py",
   "mimetype": "text/x-python",
   "name": "python",
   "nbconvert_exporter": "python",
   "pygments_lexer": "ipython3",
   "version": "3.11.9"
  }
 },
 "nbformat": 4,
 "nbformat_minor": 2
}
