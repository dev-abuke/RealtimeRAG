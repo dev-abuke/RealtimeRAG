{
 "cells": [
  {
   "cell_type": "code",
   "execution_count": 1,
   "metadata": {},
   "outputs": [],
   "source": [
    "import logging\n",
    "from datetime import timedelta\n",
    "from typing import Optional, Tuple\n",
    "import os\n",
    "import json\n",
    "\n",
    "import requests\n",
    "from bytewax import operators as op\n",
    "from bytewax.dataflow import Dataflow\n",
    "from bytewax.inputs import SimplePollingSource\n",
    "\n",
    "# from proton import ProtonSink\n",
    "\n",
    "logging.basicConfig(level=logging.INFO)\n",
    "logger = logging.getLogger(__name__)"
   ]
  },
  {
   "cell_type": "code",
   "execution_count": 6,
   "metadata": {},
   "outputs": [
    {
     "data": {
      "text/plain": [
       "('GLOBAL_ID', 42154914)"
      ]
     },
     "execution_count": 6,
     "metadata": {},
     "output_type": "execute_result"
    }
   ],
   "source": [
    "(\"GLOBAL_ID\", requests.get(\"https://hacker-news.firebaseio.com/v0/maxitem.json\").json(),)"
   ]
  },
  {
   "cell_type": "code",
   "execution_count": 10,
   "metadata": {},
   "outputs": [
    {
     "data": {
      "text/plain": [
       "{'by': 'titzer',\n",
       " 'id': 42154910,\n",
       " 'parent': 42150550,\n",
       " 'text': '&gt; We’ve begun by enabling hardened libc++, which adds bounds checking to standard C++ data structures, eliminating a significant class of spatial safety bugs.<p>Well, it&#x27;s 2024 and remember arguing this 20+ years ago. Programs have bugs that bounds checking catches. And making it a language built-in exposes it to compiler optimizations specifically targeting bounds checks, eliminating many and bringing the dynamic cost down immensely. Just turning them on in libraries doesn&#x27;t necessarily expose all the compiler optimizations, but it&#x27;s a start. Safety checks should really be built into the language.',\n",
       " 'time': 1731739897,\n",
       " 'type': 'comment'}"
      ]
     },
     "execution_count": 10,
     "metadata": {},
     "output_type": "execute_result"
    }
   ],
   "source": [
    "requests.get(\n",
    "        f\"https://hacker-news.firebaseio.com/v0/item/42154910.json\"\n",
    "    ).json()"
   ]
  },
  {
   "cell_type": "code",
   "execution_count": null,
   "metadata": {},
   "outputs": [
    {
     "data": {
      "text/plain": [
       "{'by': 'jandeboevrie',\n",
       " 'descendants': 16,\n",
       " 'id': 42150550,\n",
       " 'kids': [42154910,\n",
       "  42154518,\n",
       "  42154598,\n",
       "  42153813,\n",
       "  42153898,\n",
       "  42154658,\n",
       "  42151587,\n",
       "  42153459],\n",
       " 'score': 50,\n",
       " 'time': 1731702319,\n",
       " 'title': 'Retrofitting spatial safety to lines of C++',\n",
       " 'type': 'story',\n",
       " 'url': 'https://security.googleblog.com/2024/11/retrofitting-spatial-safety-to-hundreds.html'}"
      ]
     },
     "execution_count": 9,
     "metadata": {},
     "output_type": "execute_result"
    }
   ],
   "source": [
    "requests.get(\n",
    "        f\"https://hacker-news.firebaseio.com/v0/item/42150550.json\"\n",
    "    ).json()"
   ]
  },
  {
   "cell_type": "code",
   "execution_count": 2,
   "metadata": {},
   "outputs": [],
   "source": [
    "class HNSource(SimplePollingSource):\n",
    "    def next_item(self):\n",
    "        return (\n",
    "            \"GLOBAL_ID\",\n",
    "            requests.get(\"https://hacker-news.firebaseio.com/v0/maxitem.json\").json(),\n",
    "        )\n",
    "\n",
    "\n",
    "def get_id_stream(old_max_id, new_max_id) -> Tuple[str,list]:\n",
    "    if old_max_id is None:\n",
    "        # Get the last 150 items on the first run.\n",
    "        old_max_id = new_max_id - 150\n",
    "    return (new_max_id, range(old_max_id, new_max_id))\n",
    "\n",
    "\n",
    "def download_metadata(hn_id) -> Optional[Tuple[str, dict]]:\n",
    "    # Given an hacker news id returned from the api, fetch metadata\n",
    "    # Try 3 times, waiting more and more, or give up\n",
    "    data = requests.get(\n",
    "        f\"https://hacker-news.firebaseio.com/v0/item/{hn_id}.json\"\n",
    "    ).json()\n",
    "\n",
    "    if data is None:\n",
    "        logger.warning(f\"Couldn't fetch item {hn_id}, skipping\")\n",
    "        return None\n",
    "    return (str(hn_id), data)\n",
    "\n",
    "\n",
    "def recurse_tree(metadata, og_metadata=None) -> any:\n",
    "    if not og_metadata:\n",
    "        og_metadata = metadata\n",
    "    try:\n",
    "        parent_id = metadata[\"parent\"]\n",
    "        parent_metadata = download_metadata(parent_id)\n",
    "        return recurse_tree(parent_metadata[1], og_metadata)\n",
    "    except KeyError:\n",
    "        return (metadata[\"id\"], \n",
    "                {\n",
    "                    **og_metadata, \n",
    "                    \"root_id\":metadata[\"id\"]\n",
    "                }\n",
    "                )\n",
    "\n",
    "\n",
    "def key_on_parent(key__metadata) -> tuple:\n",
    "    key, metadata = recurse_tree(key__metadata[1])\n",
    "    return (str(key), metadata)\n",
    "\n",
    "\n",
    "def format(id__metadata):\n",
    "    id, metadata = id__metadata\n",
    "    return json.dumps(metadata)"
   ]
  },
  {
   "cell_type": "code",
   "execution_count": 4,
   "metadata": {},
   "outputs": [
    {
     "ename": "TypeError",
     "evalue": "operator 'stateful_map' called incorrectly; see cause above",
     "output_type": "error",
     "traceback": [
      "\u001b[1;31m---------------------------------------------------------------------------\u001b[0m",
      "\u001b[1;31mTypeError\u001b[0m                                 Traceback (most recent call last)",
      "File \u001b[1;32mc:\\Users\\ajcon\\Realtime_RAG\\realtime_rag\\Lib\\site-packages\\bytewax\\dataflow.py:532\u001b[0m, in \u001b[0;36m_gen_op_fn.<locals>.fn\u001b[1;34m(*args, **kwargs)\u001b[0m\n\u001b[0;32m    531\u001b[0m \u001b[38;5;28;01mtry\u001b[39;00m:\n\u001b[1;32m--> 532\u001b[0m     bound \u001b[38;5;241m=\u001b[39m \u001b[43msig\u001b[49m\u001b[38;5;241;43m.\u001b[39;49m\u001b[43mbind\u001b[49m\u001b[43m(\u001b[49m\u001b[38;5;241;43m*\u001b[39;49m\u001b[43margs\u001b[49m\u001b[43m,\u001b[49m\u001b[43m \u001b[49m\u001b[38;5;241;43m*\u001b[39;49m\u001b[38;5;241;43m*\u001b[39;49m\u001b[43mkwargs\u001b[49m\u001b[43m)\u001b[49m\n\u001b[0;32m    533\u001b[0m \u001b[38;5;28;01mexcept\u001b[39;00m \u001b[38;5;167;01mTypeError\u001b[39;00m \u001b[38;5;28;01mas\u001b[39;00m ex:\n",
      "File \u001b[1;32mC:\\Program Files\\WindowsApps\\PythonSoftwareFoundation.Python.3.11_3.11.2544.0_x64__qbz5n2kfra8p0\\Lib\\inspect.py:3195\u001b[0m, in \u001b[0;36mSignature.bind\u001b[1;34m(self, *args, **kwargs)\u001b[0m\n\u001b[0;32m   3191\u001b[0m \u001b[38;5;250m\u001b[39m\u001b[38;5;124;03m\"\"\"Get a BoundArguments object, that maps the passed `args`\u001b[39;00m\n\u001b[0;32m   3192\u001b[0m \u001b[38;5;124;03mand `kwargs` to the function's signature.  Raises `TypeError`\u001b[39;00m\n\u001b[0;32m   3193\u001b[0m \u001b[38;5;124;03mif the passed arguments can not be bound.\u001b[39;00m\n\u001b[0;32m   3194\u001b[0m \u001b[38;5;124;03m\"\"\"\u001b[39;00m\n\u001b[1;32m-> 3195\u001b[0m \u001b[38;5;28;01mreturn\u001b[39;00m \u001b[38;5;28;43mself\u001b[39;49m\u001b[38;5;241;43m.\u001b[39;49m\u001b[43m_bind\u001b[49m\u001b[43m(\u001b[49m\u001b[43margs\u001b[49m\u001b[43m,\u001b[49m\u001b[43m \u001b[49m\u001b[43mkwargs\u001b[49m\u001b[43m)\u001b[49m\n",
      "File \u001b[1;32mC:\\Program Files\\WindowsApps\\PythonSoftwareFoundation.Python.3.11_3.11.2544.0_x64__qbz5n2kfra8p0\\Lib\\inspect.py:3116\u001b[0m, in \u001b[0;36mSignature._bind\u001b[1;34m(self, args, kwargs, partial)\u001b[0m\n\u001b[0;32m   3115\u001b[0m \u001b[38;5;28;01mexcept\u001b[39;00m \u001b[38;5;167;01mStopIteration\u001b[39;00m:\n\u001b[1;32m-> 3116\u001b[0m     \u001b[38;5;28;01mraise\u001b[39;00m \u001b[38;5;167;01mTypeError\u001b[39;00m(\u001b[38;5;124m'\u001b[39m\u001b[38;5;124mtoo many positional arguments\u001b[39m\u001b[38;5;124m'\u001b[39m) \u001b[38;5;28;01mfrom\u001b[39;00m \u001b[38;5;28;01mNone\u001b[39;00m\n\u001b[0;32m   3117\u001b[0m \u001b[38;5;28;01melse\u001b[39;00m:\n",
      "\u001b[1;31mTypeError\u001b[0m: too many positional arguments",
      "\nThe above exception was the direct cause of the following exception:\n",
      "\u001b[1;31mTypeError\u001b[0m                                 Traceback (most recent call last)",
      "Cell \u001b[1;32mIn[4], line 5\u001b[0m\n\u001b[0;32m      1\u001b[0m flow \u001b[38;5;241m=\u001b[39m Dataflow(\u001b[38;5;124m\"\u001b[39m\u001b[38;5;124mhn_scraper\u001b[39m\u001b[38;5;124m\"\u001b[39m)\n\u001b[0;32m      3\u001b[0m max_id \u001b[38;5;241m=\u001b[39m op\u001b[38;5;241m.\u001b[39minput(\u001b[38;5;124m\"\u001b[39m\u001b[38;5;124min\u001b[39m\u001b[38;5;124m\"\u001b[39m, flow, HNSource(timedelta(seconds\u001b[38;5;241m=\u001b[39m\u001b[38;5;241m15\u001b[39m)))\n\u001b[1;32m----> 5\u001b[0m id_stream \u001b[38;5;241m=\u001b[39m \u001b[43mop\u001b[49m\u001b[38;5;241;43m.\u001b[39;49m\u001b[43mstateful_map\u001b[49m\u001b[43m(\u001b[49m\u001b[38;5;124;43m\"\u001b[39;49m\u001b[38;5;124;43mrange\u001b[39;49m\u001b[38;5;124;43m\"\u001b[39;49m\u001b[43m,\u001b[49m\u001b[43m \u001b[49m\u001b[43mmax_id\u001b[49m\u001b[43m,\u001b[49m\u001b[43m \u001b[49m\u001b[38;5;28;43;01mlambda\u001b[39;49;00m\u001b[43m:\u001b[49m\u001b[43m \u001b[49m\u001b[38;5;28;43;01mNone\u001b[39;49;00m\u001b[43m,\u001b[49m\u001b[43m \u001b[49m\u001b[43mget_id_stream\u001b[49m\u001b[43m)\u001b[49m\u001b[38;5;241m.\u001b[39mthen(\n\u001b[0;32m      6\u001b[0m     op\u001b[38;5;241m.\u001b[39mflat_map, \u001b[38;5;124m\"\u001b[39m\u001b[38;5;124mstrip_key_flatten\u001b[39m\u001b[38;5;124m\"\u001b[39m, \u001b[38;5;28;01mlambda\u001b[39;00m key_ids: key_ids[\u001b[38;5;241m1\u001b[39m])\u001b[38;5;241m.\u001b[39mthen(\n\u001b[0;32m      7\u001b[0m     op\u001b[38;5;241m.\u001b[39mredistribute, \u001b[38;5;124m\"\u001b[39m\u001b[38;5;124mredist\u001b[39m\u001b[38;5;124m\"\u001b[39m)\n\u001b[0;32m      9\u001b[0m id_stream \u001b[38;5;241m=\u001b[39m op\u001b[38;5;241m.\u001b[39mfilter_map(\u001b[38;5;124m\"\u001b[39m\u001b[38;5;124mmeta_download\u001b[39m\u001b[38;5;124m\"\u001b[39m, id_stream, download_metadata)\n\u001b[0;32m     11\u001b[0m split_stream \u001b[38;5;241m=\u001b[39m op\u001b[38;5;241m.\u001b[39mbranch(\u001b[38;5;124m\"\u001b[39m\u001b[38;5;124msplit_comments\u001b[39m\u001b[38;5;124m\"\u001b[39m, id_stream, \u001b[38;5;28;01mlambda\u001b[39;00m item: item[\u001b[38;5;241m1\u001b[39m][\u001b[38;5;124m\"\u001b[39m\u001b[38;5;124mtype\u001b[39m\u001b[38;5;124m\"\u001b[39m] \u001b[38;5;241m==\u001b[39m \u001b[38;5;124m\"\u001b[39m\u001b[38;5;124mstory\u001b[39m\u001b[38;5;124m\"\u001b[39m)\n",
      "File \u001b[1;32mc:\\Users\\ajcon\\Realtime_RAG\\realtime_rag\\Lib\\site-packages\\bytewax\\dataflow.py:535\u001b[0m, in \u001b[0;36m_gen_op_fn.<locals>.fn\u001b[1;34m(*args, **kwargs)\u001b[0m\n\u001b[0;32m    533\u001b[0m \u001b[38;5;28;01mexcept\u001b[39;00m \u001b[38;5;167;01mTypeError\u001b[39;00m \u001b[38;5;28;01mas\u001b[39;00m ex:\n\u001b[0;32m    534\u001b[0m     msg \u001b[38;5;241m=\u001b[39m \u001b[38;5;124mf\u001b[39m\u001b[38;5;124m\"\u001b[39m\u001b[38;5;124moperator \u001b[39m\u001b[38;5;132;01m{\u001b[39;00m\u001b[38;5;28mcls\u001b[39m\u001b[38;5;241m.\u001b[39m\u001b[38;5;18m__name__\u001b[39m\u001b[38;5;132;01m!r}\u001b[39;00m\u001b[38;5;124m called incorrectly; see cause above\u001b[39m\u001b[38;5;124m\"\u001b[39m\n\u001b[1;32m--> 535\u001b[0m     \u001b[38;5;28;01mraise\u001b[39;00m \u001b[38;5;167;01mTypeError\u001b[39;00m(msg) \u001b[38;5;28;01mfrom\u001b[39;00m \u001b[38;5;21;01mex\u001b[39;00m\n\u001b[0;32m    536\u001b[0m bound\u001b[38;5;241m.\u001b[39mapply_defaults()\n\u001b[0;32m    538\u001b[0m \u001b[38;5;28;01mfor\u001b[39;00m name \u001b[38;5;129;01min\u001b[39;00m \u001b[38;5;28mcls\u001b[39m\u001b[38;5;241m.\u001b[39mups_names:\n",
      "\u001b[1;31mTypeError\u001b[0m: operator 'stateful_map' called incorrectly; see cause above"
     ]
    }
   ],
   "source": [
    "\n",
    "flow = Dataflow(\"hn_scraper\")\n",
    "\n",
    "max_id = op.input(\"in\", flow, HNSource(timedelta(seconds=15)))\n",
    "\n",
    "id_stream = op.stateful_map(\"range\", max_id, lambda: None, get_id_stream).then(\n",
    "    op.flat_map, \"strip_key_flatten\", lambda key_ids: key_ids[1]).then(\n",
    "    op.redistribute, \"redist\")\n",
    "\n",
    "id_stream = op.filter_map(\"meta_download\", id_stream, download_metadata)\n",
    "\n",
    "split_stream = op.branch(\"split_comments\", id_stream, lambda item: item[1][\"type\"] == \"story\")\n",
    "\n",
    "story_stream = split_stream.trues\n",
    "\n",
    "story_stream = op.map(\"format_stories\", story_stream, format)\n",
    "\n",
    "comment_stream = split_stream.falses\n",
    "\n",
    "comment_stream = op.map(\"key_on_parent\", comment_stream, key_on_parent)\n",
    "\n",
    "comment_stream = op.map(\"format_comments\", comment_stream, format)\n",
    "\n",
    "op.inspect(\"stories\", story_stream)\n",
    "op.inspect(\"comments\", comment_stream)"
   ]
  }
 ],
 "metadata": {
  "kernelspec": {
   "display_name": "realtime_rag",
   "language": "python",
   "name": "python3"
  },
  "language_info": {
   "codemirror_mode": {
    "name": "ipython",
    "version": 3
   },
   "file_extension": ".py",
   "mimetype": "text/x-python",
   "name": "python",
   "nbconvert_exporter": "python",
   "pygments_lexer": "ipython3",
   "version": "3.11.9"
  }
 },
 "nbformat": 4,
 "nbformat_minor": 2
}
