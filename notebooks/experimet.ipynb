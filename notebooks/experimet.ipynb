{
 "cells": [
  {
   "cell_type": "code",
   "execution_count": null,
   "metadata": {},
   "outputs": [],
   "source": [
    "import logging\n",
    "from datetime import timedelta\n",
    "import re\n",
    "import xml.etree.ElementTree as ET\n",
    "import json\n",
    "from typing import Dict\n",
    "\n",
    "from pandas import read_json\n",
    "import requests\n",
    "from bytewax import operators as op\n",
    "from bytewax.connectors.files import FileSink\n",
    "from bytewax.dataflow import Dataflow\n",
    "from bytewax.inputs import SimplePollingSource\n",
    "# from bytewax.connectors.kafka import operators as kop\n",
    "# from bytewax.connectors.kafka import KafkaSinkMessage\n",
    "\n"
   ]
  },
  {
   "cell_type": "code",
   "execution_count": null,
   "metadata": {},
   "outputs": [],
   "source": [
    "class SECSource(SimplePollingSource):\n",
    "    def next_item(self):\n",
    "        # Base URL for SEC Edgar\n",
    "        base_url = \"https://www.sec.gov/cgi-bin/browse-edgar\"\n",
    "\n",
    "        # User agent header to mimic a browser (SEC requires this to allow access)\n",
    "        headers = {\n",
    "            'User-Agent': 'Bytewax, Inc. contact@bytewax.io',\n",
    "            'Accept': 'text/html,application/xhtml+xml,application/xml;q=0.9,image/avif,image/webp,*/*;q=0.8',\n",
    "            'Accept-Encoding': 'gzip, deflate, br',\n",
    "            'Accept-Language': 'en-US,en;q=0.5',\n",
    "            'Cache-Control':'no-cache',\n",
    "            'Host': 'www.sec.gov'\n",
    "        }\n",
    "\n",
    "        # https://www.sec.gov/cgi-bin/browse-edgar?action=getcurrent&CIK=0000070858&type=&company=&dateb=&owner=include&start=0&count=40&output=atom\n",
    "        params = {\n",
    "            'action':'getcurrent',\n",
    "            'CIK': '',\n",
    "            'type':'',\n",
    "            'dateb':'',\n",
    "            'owner':'include',\n",
    "            'start':'0',\n",
    "            'count':'200',\n",
    "            'output':'atom'    # Number of results to return\n",
    "        }\n",
    "\n",
    "        # Making the GET request\n",
    "        response = requests.get(base_url, headers=headers, params=params)\n",
    "        \n",
    "        if response.status_code == 200:\n",
    "            logger.info(f\"Successfully retrieved filings :: {response.text}\")\n",
    "            return response.text\n",
    "        else:\n",
    "            logger.info(f\"Failed to retrieve filings. Status code: {response.status_code}\")\n",
    "            return None\n",
    "\n"
   ]
  },
  {
   "cell_type": "code",
   "execution_count": null,
   "metadata": {},
   "outputs": [],
   "source": [
    "flow = Dataflow(\"edgar_scraper\")\n",
    "filings_stream = op.input(\"in\", flow, SECSource(timedelta(seconds=10)))"
   ]
  },
  {
   "cell_type": "code",
   "execution_count": 6,
   "metadata": {},
   "outputs": [],
   "source": [
    "def parse_atom(xml_data):\n",
    "    # Parse the XML data\n",
    "    # Set up the namespace map\n",
    "    namespace = {\"atom\": \"http://www.w3.org/2005/Atom\"}\n",
    "\n",
    "    # Parse the XML\n",
    "    root = ET.fromstring(xml_data)\n",
    "    data = []\n",
    "    # Iterate over each entry and extract the desired information\n",
    "    for entry in root.findall(\"atom:entry\", namespace):\n",
    "        id = entry.find(\"atom:id\", namespace).text.split(\"=\")[-1].replace(\"-\", \"\")\n",
    "        title = entry.find(\"atom:title\", namespace).text\n",
    "        link = entry.find(\"atom:link[@type='text/html']\", namespace).get(\"href\")\n",
    "        cik_match = re.search(r'\\((\\d+)\\)', title)\n",
    "        cik = cik_match.group(1) if cik_match else \"No CIK found\"\n",
    "        form_type = entry.find('atom:category', namespace).attrib['term']\n",
    "\n",
    "        data.append(\n",
    "            (\"All\",\n",
    "            {\n",
    "                \"id\":id,\n",
    "                \"title\":title,\n",
    "                \"link\":link,\n",
    "                \"cik\":cik,\n",
    "                \"form_type\":form_type\n",
    "\n",
    "            })\n",
    "        )\n",
    "    return data"
   ]
  },
  {
   "cell_type": "code",
   "execution_count": 7,
   "metadata": {},
   "outputs": [],
   "source": [
    "processed_stream = op.flat_map(\"parse_atom\", filings_stream, parse_atom)"
   ]
  },
  {
   "cell_type": "code",
   "execution_count": 8,
   "metadata": {},
   "outputs": [],
   "source": [
    "\n",
    "op.output(\"output\", processed_stream, FileSink('sec_out2.jsonl'))"
   ]
  },
  {
   "cell_type": "code",
   "execution_count": 7,
   "metadata": {},
   "outputs": [
    {
     "name": "stdout",
     "output_type": "stream",
     "text": [
      "flat_map_eg.outinp: 'hello world'\n",
      "Processing sentence: hello world\n",
      "Split into words: ['hello', 'world']\n",
      "flat_map_eg.out: 'h'\n",
      "flat_map_eg.out: 'e'\n",
      "flat_map_eg.out: 'l'\n",
      "flat_map_eg.out: 'l'\n",
      "flat_map_eg.out: 'o'\n",
      "flat_map_eg.out: ' '\n",
      "flat_map_eg.out: 'w'\n",
      "flat_map_eg.out: 'o'\n",
      "flat_map_eg.out: 'r'\n",
      "flat_map_eg.out: 'l'\n",
      "flat_map_eg.out: 'd'\n",
      "flat_map_eg.outinp: 'BYE CAPTAIN'\n",
      "Processing sentence: BYE CAPTAIN\n",
      "Split into words: ['BYE', 'CAPTAIN']\n",
      "flat_map_eg.out: 'B'\n",
      "flat_map_eg.out: 'Y'\n",
      "flat_map_eg.out: 'E'\n",
      "flat_map_eg.out: ' '\n",
      "flat_map_eg.out: 'C'\n",
      "flat_map_eg.out: 'A'\n",
      "flat_map_eg.out: 'P'\n",
      "flat_map_eg.out: 'T'\n",
      "flat_map_eg.out: 'A'\n",
      "flat_map_eg.out: 'I'\n",
      "flat_map_eg.out: 'N'\n"
     ]
    }
   ],
   "source": [
    "import bytewax.operators as op\n",
    "from bytewax.testing import TestingSource\n",
    "from bytewax.dataflow import Dataflow\n",
    "\n",
    "flow = Dataflow(\"flat_map_eg\")\n",
    "\n",
    "inp = [\"hello world\", \"BYE CAPTAIN\"]\n",
    "\n",
    "s = op.input(\"inp\", flow, TestingSource(inp))\n",
    "\n",
    "_ = op.inspect(\"outinp\", s)\n",
    "\n",
    "def split_into_words(sentence: str):\n",
    "    print(f\"Processing sentence: {sentence}\")\n",
    "    split = sentence.split()\n",
    "    print(f\"Split into words: {split}\")\n",
    "    return sentence\n",
    "\n",
    "\n",
    "spliter = op.flat_map(\"split_words\", s, split_into_words)\n",
    "\n",
    "_ = op.inspect(\"out\", spliter)\n",
    "\n",
    "from bytewax.testing import run_main\n",
    "\n",
    "run_main(flow)\n",
    "# {testoutput}\n",
    "# flat_map_eg.out: 'hello'\n",
    "# flat_map_eg.out: 'world'"
   ]
  },
  {
   "cell_type": "code",
   "execution_count": null,
   "metadata": {},
   "outputs": [
    {
     "name": "stdout",
     "output_type": "stream",
     "text": [
      "stateful_map_eg.hello: ('axx', 'a')\n",
      "stateful_map_eg.out: ('axx', 1)\n",
      "stateful_map_eg.hello: ('axx', 'a')\n",
      "stateful_map_eg.out: ('axx', 2)\n",
      "stateful_map_eg.hello: ('axx', 'a')\n",
      "stateful_map_eg.out: ('axx', 3)\n",
      "stateful_map_eg.hello: ('bxx', 'b')\n",
      "stateful_map_eg.out: ('bxx', 1)\n",
      "stateful_map_eg.hello: ('axx', 'a')\n",
      "stateful_map_eg.out: ('axx', 4)\n"
     ]
    }
   ],
   "source": [
    "import bytewax.operators as op\n",
    "from bytewax.testing import TestingSource, run_main\n",
    "from bytewax.dataflow import Dataflow\n",
    "\n",
    "flow = Dataflow(\"stateful_map_eg\")\n",
    "\n",
    "inp = [\n",
    "    \"a\",\n",
    "    \"a\",\n",
    "    \"a\",\n",
    "    \"b\",\n",
    "    \"a\",\n",
    "]\n",
    "s = op.input(\"inp\", flow, TestingSource(inp))\n",
    "\n",
    "s = op.key_on(\"self_as_key\", s, lambda x: x + 'xx')\n",
    "\n",
    "_ = op.inspect(\"hello\", s)\n",
    "\n",
    "def check(running_count, _item):\n",
    "    # print(f\"Processing item: {_item}\")\n",
    "    if running_count is None:\n",
    "        running_count = 0\n",
    "        # print(\"Initializing running count to 0\")\n",
    "    running_count += 1\n",
    "    # print(f\"Running increment: {running_count}\")\n",
    "    return (running_count, running_count)\n",
    "\n",
    "s = op.stateful_map(\"running_count\", s, check)\n",
    "_ = op.inspect(\"out\", s)\n",
    "\n",
    "from bytewax.testing import run_main\n",
    "\n",
    "run_main(flow)"
   ]
  },
  {
   "cell_type": "code",
   "execution_count": 43,
   "metadata": {},
   "outputs": [],
   "source": [
    "from pandas import read_json\n",
    "cik_to_ticker = read_json(\"../company_tickers.json\", orient='index')"
   ]
  },
  {
   "cell_type": "code",
   "execution_count": 44,
   "metadata": {},
   "outputs": [
    {
     "data": {
      "text/html": [
       "<div>\n",
       "<style scoped>\n",
       "    .dataframe tbody tr th:only-of-type {\n",
       "        vertical-align: middle;\n",
       "    }\n",
       "\n",
       "    .dataframe tbody tr th {\n",
       "        vertical-align: top;\n",
       "    }\n",
       "\n",
       "    .dataframe thead th {\n",
       "        text-align: right;\n",
       "    }\n",
       "</style>\n",
       "<table border=\"1\" class=\"dataframe\">\n",
       "  <thead>\n",
       "    <tr style=\"text-align: right;\">\n",
       "      <th></th>\n",
       "      <th>cik_str</th>\n",
       "      <th>ticker</th>\n",
       "      <th>title</th>\n",
       "    </tr>\n",
       "  </thead>\n",
       "  <tbody>\n",
       "    <tr>\n",
       "      <th>0</th>\n",
       "      <td>789019</td>\n",
       "      <td>MSFT</td>\n",
       "      <td>MICROSOFT CORP</td>\n",
       "    </tr>\n",
       "    <tr>\n",
       "      <th>1</th>\n",
       "      <td>320193</td>\n",
       "      <td>AAPL</td>\n",
       "      <td>Apple Inc.</td>\n",
       "    </tr>\n",
       "    <tr>\n",
       "      <th>2</th>\n",
       "      <td>1045810</td>\n",
       "      <td>NVDA</td>\n",
       "      <td>NVIDIA CORP</td>\n",
       "    </tr>\n",
       "    <tr>\n",
       "      <th>3</th>\n",
       "      <td>1652044</td>\n",
       "      <td>GOOGL</td>\n",
       "      <td>Alphabet Inc.</td>\n",
       "    </tr>\n",
       "    <tr>\n",
       "      <th>4</th>\n",
       "      <td>1018724</td>\n",
       "      <td>AMZN</td>\n",
       "      <td>AMAZON COM INC</td>\n",
       "    </tr>\n",
       "  </tbody>\n",
       "</table>\n",
       "</div>"
      ],
      "text/plain": [
       "   cik_str ticker           title\n",
       "0   789019   MSFT  MICROSOFT CORP\n",
       "1   320193   AAPL      Apple Inc.\n",
       "2  1045810   NVDA     NVIDIA CORP\n",
       "3  1652044  GOOGL   Alphabet Inc.\n",
       "4  1018724   AMZN  AMAZON COM INC"
      ]
     },
     "execution_count": 44,
     "metadata": {},
     "output_type": "execute_result"
    }
   ],
   "source": [
    "cik_to_ticker.head()"
   ]
  },
  {
   "cell_type": "code",
   "execution_count": 45,
   "metadata": {},
   "outputs": [],
   "source": [
    "cik_to_ticker.set_index(cik_to_ticker['cik_str'], inplace=True)"
   ]
  },
  {
   "cell_type": "code",
   "execution_count": 62,
   "metadata": {},
   "outputs": [
    {
     "name": "stdout",
     "output_type": "stream",
     "text": [
      "<class 'pandas.core.frame.DataFrame'>\n",
      "Index: 10379 entries, 789019 to 1921158\n",
      "Data columns (total 3 columns):\n",
      " #   Column   Non-Null Count  Dtype \n",
      "---  ------   --------------  ----- \n",
      " 0   cik_str  10379 non-null  int64 \n",
      " 1   ticker   10379 non-null  object\n",
      " 2   title    10379 non-null  object\n",
      "dtypes: int64(1), object(2)\n",
      "memory usage: 582.4+ KB\n"
     ]
    }
   ],
   "source": [
    "cik_to_ticker.info()"
   ]
  },
  {
   "cell_type": "code",
   "execution_count": 56,
   "metadata": {},
   "outputs": [
    {
     "data": {
      "text/html": [
       "<div>\n",
       "<style scoped>\n",
       "    .dataframe tbody tr th:only-of-type {\n",
       "        vertical-align: middle;\n",
       "    }\n",
       "\n",
       "    .dataframe tbody tr th {\n",
       "        vertical-align: top;\n",
       "    }\n",
       "\n",
       "    .dataframe thead th {\n",
       "        text-align: right;\n",
       "    }\n",
       "</style>\n",
       "<table border=\"1\" class=\"dataframe\">\n",
       "  <thead>\n",
       "    <tr style=\"text-align: right;\">\n",
       "      <th></th>\n",
       "      <th>cik_str</th>\n",
       "      <th>ticker</th>\n",
       "      <th>title</th>\n",
       "    </tr>\n",
       "    <tr>\n",
       "      <th>cik_str</th>\n",
       "      <th></th>\n",
       "      <th></th>\n",
       "      <th></th>\n",
       "    </tr>\n",
       "  </thead>\n",
       "  <tbody>\n",
       "    <tr>\n",
       "      <th>789019</th>\n",
       "      <td>789019</td>\n",
       "      <td>MSFT</td>\n",
       "      <td>MICROSOFT CORP</td>\n",
       "    </tr>\n",
       "    <tr>\n",
       "      <th>320193</th>\n",
       "      <td>320193</td>\n",
       "      <td>AAPL</td>\n",
       "      <td>Apple Inc.</td>\n",
       "    </tr>\n",
       "    <tr>\n",
       "      <th>1045810</th>\n",
       "      <td>1045810</td>\n",
       "      <td>NVDA</td>\n",
       "      <td>NVIDIA CORP</td>\n",
       "    </tr>\n",
       "    <tr>\n",
       "      <th>1652044</th>\n",
       "      <td>1652044</td>\n",
       "      <td>GOOGL</td>\n",
       "      <td>Alphabet Inc.</td>\n",
       "    </tr>\n",
       "    <tr>\n",
       "      <th>1018724</th>\n",
       "      <td>1018724</td>\n",
       "      <td>AMZN</td>\n",
       "      <td>AMAZON COM INC</td>\n",
       "    </tr>\n",
       "  </tbody>\n",
       "</table>\n",
       "</div>"
      ],
      "text/plain": [
       "         cik_str ticker           title\n",
       "cik_str                                \n",
       "789019    789019   MSFT  MICROSOFT CORP\n",
       "320193    320193   AAPL      Apple Inc.\n",
       "1045810  1045810   NVDA     NVIDIA CORP\n",
       "1652044  1652044  GOOGL   Alphabet Inc.\n",
       "1018724  1018724   AMZN  AMAZON COM INC"
      ]
     },
     "execution_count": 56,
     "metadata": {},
     "output_type": "execute_result"
    }
   ],
   "source": [
    "cik_to_ticker.head()"
   ]
  },
  {
   "cell_type": "code",
   "execution_count": 51,
   "metadata": {},
   "outputs": [
    {
     "data": {
      "text/plain": [
       "1173313"
      ]
     },
     "execution_count": 51,
     "metadata": {},
     "output_type": "execute_result"
    }
   ],
   "source": [
    "cik = int('0001173313')\n",
    "cik"
   ]
  },
  {
   "cell_type": "code",
   "execution_count": 53,
   "metadata": {},
   "outputs": [
    {
     "data": {
      "text/plain": [
       "'ABVC'"
      ]
     },
     "execution_count": 53,
     "metadata": {},
     "output_type": "execute_result"
    }
   ],
   "source": [
    "ticker = cik_to_ticker['ticker'].loc[cik]\n",
    "ticker"
   ]
  },
  {
   "cell_type": "code",
   "execution_count": 57,
   "metadata": {},
   "outputs": [],
   "source": [
    "if not isinstance(ticker, str):\n",
    "    ticker.iloc[0]"
   ]
  },
  {
   "cell_type": "code",
   "execution_count": 61,
   "metadata": {},
   "outputs": [
    {
     "data": {
      "text/plain": [
       "'ABVC'"
      ]
     },
     "execution_count": 61,
     "metadata": {},
     "output_type": "execute_result"
    }
   ],
   "source": [
    "ticker = cik_to_ticker['ticker'].loc[1173313]\n",
    "ticker"
   ]
  },
  {
   "cell_type": "code",
   "execution_count": 8,
   "metadata": {},
   "outputs": [],
   "source": [
    "import json\n",
    "import logging\n",
    "import os\n",
    "from typing import List, Optional, Union\n",
    "\n",
    "from bytewax.inputs import DynamicInput, StatelessSource\n",
    "from websocket import create_connection\n",
    "\n",
    "logging.basicConfig(level=logging.INFO)\n",
    "logger = logging.getLogger(__name__)"
   ]
  },
  {
   "cell_type": "code",
   "execution_count": 9,
   "metadata": {},
   "outputs": [],
   "source": [
    "class AlpacaNewsStreamClient:\n",
    "    \"\"\"\n",
    "    Alpaca News Stream Client that uses a web socket to stream news data.\n",
    "\n",
    "    References used to implement this class:\n",
    "    * Alpaca Docs: https://alpaca.markets/docs/api-references/market-data-api/news-data/realtime/\n",
    "    * Source of implementation inspiration: https://github.com/alpacahq/alpaca-py/blob/master/alpaca/common/websocket.py\n",
    "    \"\"\"\n",
    "\n",
    "    NEWS_URL = \"wss://stream.data.alpaca.markets/v1beta1/news\"\n",
    "\n",
    "    def __init__(self, api_key: str, api_secret: str, tickers: List[str]):\n",
    "        \"\"\"\n",
    "        Initializes the AlpacaNewsStreamClient.\n",
    "\n",
    "        Args:\n",
    "            api_key (str): The Alpaca API key.\n",
    "            api_secret (str): The Alpaca API secret.\n",
    "            tickers (List[str]): A list of tickers to subscribe to.\n",
    "        \"\"\"\n",
    "\n",
    "        self._api_key = api_key\n",
    "        self._api_secret = api_secret\n",
    "        self._tickers = tickers\n",
    "        self._ws = None\n",
    "\n",
    "    def start(self):\n",
    "        \"\"\"\n",
    "        Starts the AlpacaNewsStreamClient.\n",
    "        \"\"\"\n",
    "\n",
    "        self._connect()\n",
    "        self._auth()\n",
    "\n",
    "    def _connect(self):\n",
    "        \"\"\"\n",
    "        Connects to the Alpaca News Stream.\n",
    "        \"\"\"\n",
    "\n",
    "        self._ws = create_connection(self.NEWS_URL)\n",
    "\n",
    "        msg = self.recv()\n",
    "\n",
    "        if msg[0][\"T\"] != \"success\" or msg[0][\"msg\"] != \"connected\":\n",
    "            raise ValueError(\"connected message not received\")\n",
    "        else:\n",
    "            logger.info(\"[AlpacaNewsStream]: Connected to Alpaca News Stream.\")\n",
    "\n",
    "    def _auth(self):\n",
    "        \"\"\"\n",
    "        Authenticates with the Alpaca News Stream.\n",
    "        \"\"\"\n",
    "\n",
    "        self._ws.send(\n",
    "            self._build_message(\n",
    "                {\n",
    "                    \"action\": \"auth\",\n",
    "                    \"key\": self._api_key,\n",
    "                    \"secret\": self._api_secret,\n",
    "                }\n",
    "            )\n",
    "        )\n",
    "\n",
    "        msg = self.recv()\n",
    "        if msg[0][\"T\"] == \"error\":\n",
    "            raise ValueError(msg[0].get(\"msg\", \"auth failed\"))\n",
    "        elif msg[0][\"T\"] != \"success\" or msg[0][\"msg\"] != \"authenticated\":\n",
    "            raise ValueError(\"failed to authenticate\")\n",
    "        else:\n",
    "            logger.info(\"[AlpacaNewsStream]: Authenticated with Alpaca News Stream.\")\n",
    "\n",
    "    def subscribe(self):\n",
    "        \"\"\"\n",
    "        Subscribes to the Alpaca News Stream.\n",
    "        \"\"\"\n",
    "\n",
    "        self._ws.send(\n",
    "            self._build_message({\"action\": \"subscribe\", \"news\": self._tickers})\n",
    "        )\n",
    "\n",
    "        msg = self.recv()\n",
    "        if msg[0][\"T\"] != \"subscription\":\n",
    "            raise ValueError(\"failed to subscribe\")\n",
    "        else:\n",
    "            logger.info(\"[AlpacaNewsStream]: Subscribed to Alpaca News Stream.\")\n",
    "\n",
    "    def ubsubscribe(self):\n",
    "        \"\"\"\n",
    "        Unsubscribes from the Alpaca News Stream.\n",
    "        \"\"\"\n",
    "\n",
    "        self._ws.send(\n",
    "            self._build_message({\"action\": \"unsubscribe\", \"news\": self._tickers})\n",
    "        )\n",
    "\n",
    "        msg = self.recv()\n",
    "        if msg[0][\"T\"] != \"subscription\":\n",
    "            raise ValueError(\"failed to unsubscribe\")\n",
    "        else:\n",
    "            logger.info(\"[AlpacaNewsStream]: Unsubscribed from Alpaca News Stream.\")\n",
    "\n",
    "    def _build_message(self, message: dict) -> str:\n",
    "        \"\"\"\n",
    "        Builds a message to send to the Alpaca News Stream.\n",
    "\n",
    "        Args:\n",
    "            message (dict): The message to build.\n",
    "\n",
    "        Returns:\n",
    "            str: The built message.\n",
    "        \"\"\"\n",
    "\n",
    "        return json.dumps(message)\n",
    "\n",
    "    def recv(self) -> Union[dict, List[dict]]:\n",
    "        \"\"\"\n",
    "        Receives a message from the Alpaca News Stream.\n",
    "\n",
    "        Returns:\n",
    "            Union[dict, List[dict]]: The received message.\n",
    "        \"\"\"\n",
    "\n",
    "        if self._ws:\n",
    "            message = self._ws.recv()\n",
    "            logger.info(f\"[AlpacaNewsStream]: Received message: {message}\")\n",
    "            message = json.loads(message)\n",
    "\n",
    "            return message\n",
    "        else:\n",
    "            raise RuntimeError(\"Websocket not initialized. Call start() first.\")\n",
    "\n",
    "    def close(self) -> None:\n",
    "        \"\"\"\n",
    "        Closes the Alpaca News Stream connection.\n",
    "        \"\"\"\n",
    "\n",
    "        if self._ws:\n",
    "            self._ws.close()\n",
    "            self._ws = None\n"
   ]
  },
  {
   "cell_type": "code",
   "execution_count": 10,
   "metadata": {},
   "outputs": [],
   "source": [
    "alpaca = AlpacaNewsStreamClient(api_key=\"PKM19APHZSD7EDUI20D6\", api_secret=\"GifphcRRfVCyc4VTfaTBg9z4MZT5nP3rdZVgkq0x\", tickers=['*'])"
   ]
  },
  {
   "cell_type": "code",
   "execution_count": 11,
   "metadata": {},
   "outputs": [
    {
     "name": "stderr",
     "output_type": "stream",
     "text": [
      "INFO:__main__:[AlpacaNewsStream]: Received message: [{\"T\":\"success\",\"msg\":\"connected\"}]\n",
      "INFO:__main__:[AlpacaNewsStream]: Connected to Alpaca News Stream.\n"
     ]
    }
   ],
   "source": [
    "alpaca._connect()"
   ]
  },
  {
   "cell_type": "code",
   "execution_count": 12,
   "metadata": {},
   "outputs": [
    {
     "name": "stderr",
     "output_type": "stream",
     "text": [
      "INFO:__main__:[AlpacaNewsStream]: Received message: [{\"T\":\"success\",\"msg\":\"connected\"}]\n",
      "INFO:__main__:[AlpacaNewsStream]: Connected to Alpaca News Stream.\n",
      "INFO:__main__:[AlpacaNewsStream]: Received message: [{\"T\":\"success\",\"msg\":\"authenticated\"}]\n",
      "INFO:__main__:[AlpacaNewsStream]: Authenticated with Alpaca News Stream.\n",
      "INFO:__main__:[AlpacaNewsStream]: Received message: [{\"T\":\"subscription\",\"news\":[\"*\"]}]\n",
      "INFO:__main__:[AlpacaNewsStream]: Subscribed to Alpaca News Stream.\n"
     ]
    }
   ],
   "source": [
    "alpaca.start()\n",
    "alpaca.subscribe()"
   ]
  },
  {
   "cell_type": "code",
   "execution_count": null,
   "metadata": {},
   "outputs": [],
   "source": [
    "alpaca.recv()"
   ]
  },
  {
   "cell_type": "code",
   "execution_count": 25,
   "metadata": {},
   "outputs": [],
   "source": [
    "api_key=\"PKM19APHZSD7EDUI20D6\"\n",
    "api_secret=\"GifphcRRfVCyc4VTfaTBg9z4MZT5nP3rdZVgkq0x\""
   ]
  },
  {
   "cell_type": "code",
   "execution_count": 32,
   "metadata": {},
   "outputs": [],
   "source": [
    "from typing import List, Optional\n",
    "import datetime\n",
    "\n",
    "class AlpacaNewsBatchClient:\n",
    "    \"\"\"\n",
    "    Alpaca News API Client that uses a RESTful API to fetch news data.\n",
    "\n",
    "    Attributes:\n",
    "        NEWS_URL (str): The URL for the Alpaca News API.\n",
    "        _from_datetime (datetime.datetime): The start datetime for the news data.\n",
    "        _to_datetime (datetime.datetime): The end datetime for the news data.\n",
    "        _api_key (str): The API key for the Alpaca News API.\n",
    "        _api_secret (str): The API secret for the Alpaca News API.\n",
    "        _tickers (List[str]): A list of tickers to filter the news data.\n",
    "        _page_token (str): The page token for the next page of news data.\n",
    "        _first_request (bool): A flag indicating whether this is the first request for news data.\n",
    "    \"\"\"\n",
    "\n",
    "    NEWS_URL = \"https://data.alpaca.markets/v1beta1/news\"\n",
    "\n",
    "    def __init__(\n",
    "        self,\n",
    "        from_datetime: datetime.datetime,\n",
    "        to_datetime: datetime.datetime,\n",
    "        api_key: str,\n",
    "        api_secret: str,\n",
    "        tickers: List[str],\n",
    "    ):\n",
    "        \"\"\"\n",
    "        Initializes a new instance of the AlpacaNewsBatchClient class.\n",
    "\n",
    "        Args:\n",
    "            from_datetime (datetime.datetime): The start datetime for the news data.\n",
    "            to_datetime (datetime.datetime): The end datetime for the news data.\n",
    "            api_key (str): The API key for the Alpaca News API.\n",
    "            api_secret (str): The API secret for the Alpaca News API.\n",
    "            tickers (List[str]): A list of tickers to filter the news data.\n",
    "        \"\"\"\n",
    "\n",
    "        self._from_datetime = from_datetime\n",
    "        self._to_datetime = to_datetime\n",
    "        self._api_key = api_key\n",
    "        self._api_secret = api_secret\n",
    "        self._tickers = tickers\n",
    "\n",
    "        self._page_token = None\n",
    "        self._first_request = True\n",
    "\n",
    "    @property\n",
    "    def try_request(self) -> bool:\n",
    "        \"\"\"\n",
    "        A property indicating whether a request should be attempted.\n",
    "\n",
    "        Returns:\n",
    "            bool: True if a request should be attempted, False otherwise.\n",
    "        \"\"\"\n",
    "\n",
    "        return self._first_request or self._page_token is not None\n",
    "\n",
    "    def list(self):\n",
    "        \"\"\"\n",
    "        Convenience function to fetch a batch of news from Alpaca API\n",
    "\n",
    "        Returns:\n",
    "            List[Dict]: A list of news items.\n",
    "        \"\"\"\n",
    "\n",
    "        if not self.try_request:\n",
    "            return None\n",
    "\n",
    "        self._first_request = False\n",
    "\n",
    "        # prepare the request URL\n",
    "        headers = {\n",
    "            \"Apca-Api-Key-Id\": self._api_key,\n",
    "            \"Apca-Api-Secret-Key\": self._api_secret,\n",
    "        }\n",
    "\n",
    "        # Look at all the parameters here: https://alpaca.markets/docs/api-references/market-data-api/news-data/historical/\n",
    "        # or here: https://github.com/alpacahq/alpaca-py/blob/master/alpaca/data/requests.py#L357\n",
    "        params = {\n",
    "            \"start\": self._from_datetime.strftime(\"%Y-%m-%dT%H:%M:%SZ\"),\n",
    "            \"end\": self._to_datetime.strftime(\"%Y-%m-%dT%H:%M:%SZ\"),\n",
    "            \"limit\": 10,\n",
    "            \"include_content\": True,\n",
    "            \"sort\": \"ASC\",\n",
    "        }\n",
    "        if self._page_token is not None:\n",
    "            params[\"page_token\"] = self._page_token\n",
    "\n",
    "        response = requests.get(self.NEWS_URL, headers=headers, params=params)\n",
    "\n",
    "        # parse output\n",
    "        next_page_token = None\n",
    "        if response.status_code == 200:  # Check if the request was successful\n",
    "            # parse response into json\n",
    "            news_json = response.json()\n",
    "\n",
    "            # extract next page token (if any)\n",
    "            next_page_token = news_json.get(\"next_page_token\", None)\n",
    "\n",
    "        else:\n",
    "            print(\"Request failed with status code:\", response.status_code)\n",
    "            return None\n",
    "\n",
    "        self._page_token = next_page_token\n",
    "\n",
    "        return news_json[\"news\"]\n"
   ]
  },
  {
   "cell_type": "code",
   "execution_count": 33,
   "metadata": {},
   "outputs": [],
   "source": [
    "batch = AlpacaNewsBatchClient(\n",
    "    from_datetime=datetime.datetime.now() - datetime.timedelta(days=1),\n",
    "    to_datetime=datetime.datetime.now(),\n",
    "    api_key=api_key,\n",
    "    api_secret=api_secret,\n",
    "    tickers=[\"AAPL\"],)"
   ]
  },
  {
   "cell_type": "code",
   "execution_count": 34,
   "metadata": {},
   "outputs": [
    {
     "data": {
      "text/plain": [
       "True"
      ]
     },
     "execution_count": 34,
     "metadata": {},
     "output_type": "execute_result"
    }
   ],
   "source": [
    "batch.try_request"
   ]
  },
  {
   "cell_type": "code",
   "execution_count": 35,
   "metadata": {},
   "outputs": [],
   "source": [
    "news = batch.list()"
   ]
  },
  {
   "cell_type": "code",
   "execution_count": 36,
   "metadata": {},
   "outputs": [
    {
     "data": {
      "text/plain": [
       "10"
      ]
     },
     "execution_count": 36,
     "metadata": {},
     "output_type": "execute_result"
    }
   ],
   "source": [
    "len(news)"
   ]
  },
  {
   "cell_type": "code",
   "execution_count": 42,
   "metadata": {},
   "outputs": [
    {
     "name": "stdout",
     "output_type": "stream",
     "text": [
      "[\n",
      "  {\n",
      "    \"author\": \"Benzinga Newsdesk\",\n",
      "    \"content\": \"\",\n",
      "    \"created_at\": \"2024-11-15T14:54:32Z\",\n",
      "    \"headline\": \"B of A Securities Upgrades Rocket Companies to Neutral, Maintains Price Target to $15\",\n",
      "    \"id\": 42010207,\n",
      "    \"images\": [],\n",
      "    \"source\": \"benzinga\",\n",
      "    \"summary\": \"\",\n",
      "    \"symbols\": [\n",
      "      \"RKT\"\n",
      "    ],\n",
      "    \"updated_at\": \"2024-11-15T14:54:33Z\",\n",
      "    \"url\": \"https://www.benzinga.com/news/24/11/42010207/b-of-a-securities-upgrades-rocket-companies-to-neutral-maintains-price-target-to-15\"\n",
      "  },\n",
      "  {\n",
      "    \"author\": \"Benzinga Newsdesk\",\n",
      "    \"content\": \"\",\n",
      "    \"created_at\": \"2024-11-15T14:54:55Z\",\n",
      "    \"headline\": \"The Arena Group Shares Resume Trade Then Again Halt On Circuit Breaker To The Downside, Stock Now Up 215.8%\",\n",
      "    \"id\": 42010210,\n",
      "    \"images\": [],\n",
      "    \"source\": \"benzinga\",\n",
      "    \"summary\": \"\",\n",
      "    \"symbols\": [\n",
      "      \"AREN\"\n",
      "    ],\n",
      "    \"updated_at\": \"2024-11-15T14:54:56Z\",\n",
      "    \"url\": \"https://www.benzinga.com/trading-ideas/24/11/42010210/the-arena-group-shares-resume-trade-then-again-halt-on-circuit-breaker-to-the-downside-stock-now-up\"\n",
      "  }\n",
      "]\n"
     ]
    }
   ],
   "source": [
    "import json\n",
    "print(json.dumps(news[4:6], indent=2))\n",
    "# news[4:6]"
   ]
  }
 ],
 "metadata": {
  "kernelspec": {
   "display_name": "realtime_rag",
   "language": "python",
   "name": "python3"
  },
  "language_info": {
   "codemirror_mode": {
    "name": "ipython",
    "version": 3
   },
   "file_extension": ".py",
   "mimetype": "text/x-python",
   "name": "python",
   "nbconvert_exporter": "python",
   "pygments_lexer": "ipython3",
   "version": "3.11.9"
  }
 },
 "nbformat": 4,
 "nbformat_minor": 2
}
