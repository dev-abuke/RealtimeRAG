{
 "cells": [
  {
   "cell_type": "code",
   "execution_count": null,
   "metadata": {},
   "outputs": [],
   "source": [
    "import json\n",
    "import logging\n",
    "import os\n",
    "from typing import List, Optional, Union\n",
    "from websocket import create_connection\n",
    "\n",
    "from datetime import timedelta\n",
    "import json\n",
    "from typing import Dict\n",
    "\n",
    "from pandas import read_json\n",
    "import requests\n",
    "from bytewax import operators as op\n",
    "from bytewax.connectors.stdio import StdOutSink\n",
    "from bytewax.connectors.files import FileSink\n",
    "from bytewax.dataflow import Dataflow\n",
    "from bytewax.inputs import SimplePollingSource, DynamicSource\n",
    "# from bytewax.connectors.kafka import operators as kop\n",
    "# from bytewax.connectors.kafka import KafkaSinkMessage\n",
    "\n",
    "logging.basicConfig(level=logging.INFO)\n",
    "logger = logging.getLogger(__name__)"
   ]
  },
  {
   "cell_type": "code",
   "execution_count": 2,
   "metadata": {},
   "outputs": [],
   "source": [
    "api_key=\"PKM19APHZSD7EDUI20D6\"\n",
    "api_secret=\"GifphcRRfVCyc4VTfaTBg9z4MZT5nP3rdZVgkq0x\""
   ]
  },
  {
   "cell_type": "code",
   "execution_count": 95,
   "metadata": {},
   "outputs": [],
   "source": [
    "from typing import List, Optional\n",
    "import datetime\n",
    "\n",
    "class AlpacaNewsBatchClient:\n",
    "    \"\"\"\n",
    "    Alpaca News API Client that uses a RESTful API to fetch news data.\n",
    "\n",
    "    Attributes:\n",
    "        NEWS_URL (str): The URL for the Alpaca News API.\n",
    "        _from_datetime (datetime.datetime): The start datetime for the news data.\n",
    "        _to_datetime (datetime.datetime): The end datetime for the news data.\n",
    "        _api_key (str): The API key for the Alpaca News API.\n",
    "        _api_secret (str): The API secret for the Alpaca News API.\n",
    "        _tickers (List[str]): A list of tickers to filter the news data.\n",
    "        _page_token (str): The page token for the next page of news data.\n",
    "        _first_request (bool): A flag indicating whether this is the first request for news data.\n",
    "    \"\"\"\n",
    "\n",
    "    NEWS_URL = \"https://data.alpaca.markets/v1beta1/news\"\n",
    "\n",
    "    def __init__(\n",
    "        self,\n",
    "        from_datetime: datetime.datetime,\n",
    "        to_datetime: datetime.datetime,\n",
    "        api_key: str,\n",
    "        api_secret: str,\n",
    "        tickers: List[str],\n",
    "    ):\n",
    "        \"\"\"\n",
    "        Initializes a new instance of the AlpacaNewsBatchClient class.\n",
    "\n",
    "        Args:\n",
    "            from_datetime (datetime.datetime): The start datetime for the news data.\n",
    "            to_datetime (datetime.datetime): The end datetime for the news data.\n",
    "            api_key (str): The API key for the Alpaca News API.\n",
    "            api_secret (str): The API secret for the Alpaca News API.\n",
    "            tickers (List[str]): A list of tickers to filter the news data.\n",
    "        \"\"\"\n",
    "\n",
    "        self._from_datetime = from_datetime\n",
    "        self._to_datetime = to_datetime\n",
    "        self._api_key = api_key\n",
    "        self._api_secret = api_secret\n",
    "        self._tickers = tickers\n",
    "\n",
    "        self._page_token = None\n",
    "        self._first_request = True\n",
    "\n",
    "    @property\n",
    "    def try_request(self) -> bool:\n",
    "        \"\"\"\n",
    "        A property indicating whether a request should be attempted.\n",
    "\n",
    "        Returns:\n",
    "            bool: True if a request should be attempted, False otherwise.\n",
    "        \"\"\"\n",
    "\n",
    "        return self._first_request or self._page_token is not None\n",
    "\n",
    "    def list(self):\n",
    "        \"\"\"\n",
    "        Convenience function to fetch a batch of news from Alpaca API\n",
    "\n",
    "        Returns:\n",
    "            List[Dict]: A list of news items.\n",
    "        \"\"\"\n",
    "\n",
    "        if not self.try_request:\n",
    "            return None\n",
    "\n",
    "        self._first_request = False\n",
    "\n",
    "        # prepare the request URL\n",
    "        headers = {\n",
    "            \"Apca-Api-Key-Id\": self._api_key,\n",
    "            \"Apca-Api-Secret-Key\": self._api_secret,\n",
    "        }\n",
    "\n",
    "        # Look at all the parameters here: https://alpaca.markets/docs/api-references/market-data-api/news-data/historical/\n",
    "        # or here: https://github.com/alpacahq/alpaca-py/blob/master/alpaca/data/requests.py#L357\n",
    "        params = {\n",
    "            \"start\": self._from_datetime.strftime(\"%Y-%m-%dT%H:%M:%SZ\"),\n",
    "            \"end\": self._to_datetime.strftime(\"%Y-%m-%dT%H:%M:%SZ\"),\n",
    "            \"limit\": 5,\n",
    "            \"include_content\": True,\n",
    "            \"sort\": \"ASC\",\n",
    "            # \"symbols\": self._tickers\n",
    "        }\n",
    "        if self._page_token is not None:\n",
    "            params[\"page_token\"] = self._page_token\n",
    "\n",
    "        response = requests.get(self.NEWS_URL, headers=headers, params=params)\n",
    "\n",
    "        # parse output\n",
    "        next_page_token = None\n",
    "        if response.status_code == 200:  # Check if the request was successful\n",
    "            # parse response into json\n",
    "            news_json = response.json()\n",
    "\n",
    "            # extract next page token (if any)\n",
    "            next_page_token = news_json.get(\"next_page_token\", None)\n",
    "\n",
    "        else:\n",
    "            print(\"Request failed with status code:\", response.status_code)\n",
    "            return None\n",
    "\n",
    "        self._page_token = next_page_token\n",
    "\n",
    "        return news_json[\"news\"]\n"
   ]
  },
  {
   "cell_type": "code",
   "execution_count": 96,
   "metadata": {},
   "outputs": [],
   "source": [
    "batch = AlpacaNewsBatchClient(\n",
    "    from_datetime=datetime.datetime.now() - datetime.timedelta(days=1),\n",
    "    to_datetime=datetime.datetime.now(),\n",
    "    api_key=api_key,\n",
    "    api_secret=api_secret,\n",
    "    tickers=[\"*\"],)"
   ]
  },
  {
   "cell_type": "code",
   "execution_count": 97,
   "metadata": {},
   "outputs": [],
   "source": [
    "news_list = batch.list()"
   ]
  },
  {
   "cell_type": "code",
   "execution_count": null,
   "metadata": {},
   "outputs": [
    {
     "data": {
      "text/plain": [
       "5"
      ]
     },
     "execution_count": 99,
     "metadata": {},
     "output_type": "execute_result"
    }
   ],
   "source": [
    "len(news_list)"
   ]
  },
  {
   "cell_type": "code",
   "execution_count": 110,
   "metadata": {},
   "outputs": [],
   "source": [
    "flow = Dataflow(\"alpaca_news\")"
   ]
  },
  {
   "cell_type": "code",
   "execution_count": 111,
   "metadata": {},
   "outputs": [],
   "source": [
    "from bytewax.testing import TestingSource\n",
    "stream = op.input(\"inp1\", flow, TestingSource(news_list))"
   ]
  },
  {
   "cell_type": "code",
   "execution_count": 112,
   "metadata": {},
   "outputs": [
    {
     "data": {
      "text/plain": [
       "Stream(stream_id='alpaca_news.stream.inspect_debug.down', _scope=_Scope(parent_id='alpaca_news'))"
      ]
     },
     "execution_count": 112,
     "metadata": {},
     "output_type": "execute_result"
    }
   ],
   "source": [
    "op.inspect(\"stream\", stream)"
   ]
  },
  {
   "cell_type": "code",
   "execution_count": 113,
   "metadata": {},
   "outputs": [],
   "source": [
    "def times_two(inp):\n",
    "    return inp['created_at']\n",
    "\n",
    "\n",
    "double = op.map(\"double\", stream, times_two)"
   ]
  },
  {
   "cell_type": "code",
   "execution_count": 114,
   "metadata": {},
   "outputs": [],
   "source": [
    "op.output(\"out\", double, StdOutSink())"
   ]
  },
  {
   "cell_type": "code",
   "execution_count": 115,
   "metadata": {},
   "outputs": [
    {
     "name": "stdout",
     "output_type": "stream",
     "text": [
      "alpaca_news.stream: {'author': 'Benzinga Newsdesk', 'content': '', 'created_at': '2024-11-15T16:01:47Z', 'headline': 'Altimmune Presents New Data On The Effect Of Pemvidutide On Inflammatory Lipids In Subjects With Metabolic Dysfunction-Associated Steatotic Liver Disease At The Liver Meeting 2024', 'id': 42012472, 'images': [], 'source': 'benzinga', 'summary': '', 'symbols': ['ALT'], 'updated_at': '2024-11-15T16:01:48Z', 'url': 'https://www.benzinga.com/general/biotech/24/11/42012472/altimmune-presents-new-data-on-the-effect-of-pemvidutide-on-inflammatory-lipids-in-subjects-with-'}\n",
      "2024-11-15T16:01:47Z\n",
      "alpaca_news.stream: {'author': 'Benzinga Newsdesk', 'content': '', 'created_at': '2024-11-15T16:02:12Z', 'headline': \"Atea Pharmaceuticals Unveils New Data Supporting Bemnifosbuvir And Ruzasvir Combination For Hepatitis C Treatment At AASLD's Liver Meeting 2024; Phase 2 Findings Highlight Potential Efficacy\", 'id': 42012515, 'images': [], 'source': 'benzinga', 'summary': '', 'symbols': ['AVIR'], 'updated_at': '2024-11-15T16:02:12Z', 'url': 'https://www.benzinga.com/news/24/11/42012515/atea-pharmaceuticals-unveils-new-data-supporting-bemnifosbuvir-and-ruzasvir-combination-for-hepatiti'}\n",
      "2024-11-15T16:02:12Z\n",
      "alpaca_news.stream: {'author': 'Benzinga Newsdesk', 'content': '', 'created_at': '2024-11-15T16:02:26Z', 'headline': 'Vir Biotechnology Announces End-Of-Treatment Results For Tobevibart And Elebsiran Combinations In Chronic Hepatitis B From The MARCH Study At AASLD The Liver Meeting', 'id': 42012574, 'images': [], 'source': 'benzinga', 'summary': '', 'symbols': ['VIR'], 'updated_at': '2024-11-15T16:02:27Z', 'url': 'https://www.benzinga.com/general/biotech/24/11/42012574/vir-biotechnology-announces-end-of-treatment-results-for-tobevibart-and-elebsiran-combinations-in'}\n",
      "2024-11-15T16:02:26Z\n",
      "alpaca_news.stream: {'author': 'Benzinga Newsdesk', 'content': '', 'created_at': '2024-11-15T16:02:46Z', 'headline': 'UBS Maintains Neutral on Apollo Comml Real Est, Lowers Price Target to $9.5', 'id': 42012592, 'images': [], 'source': 'benzinga', 'summary': '', 'symbols': ['ARI'], 'updated_at': '2024-11-15T16:02:46Z', 'url': 'https://www.benzinga.com/news/24/11/42012592/ubs-maintains-neutral-on-apollo-comml-real-est-lowers-price-target-to-9-5'}\n",
      "2024-11-15T16:02:46Z\n",
      "alpaca_news.stream: {'author': 'Benzinga Newsdesk', 'content': '', 'created_at': '2024-11-15T16:02:56Z', 'headline': 'Arbutus And Barinthus Bio Report IM-PROVE II Trial Data Showing Nivolumab Boosts HBsAg Loss Rates In Chronic Hepatitis B Patients; 23% Achieve HBsAg Loss By Week 48 With Imdusiran, VTP-300, And Low-Dose Nivolumab', 'id': 42012596, 'images': [], 'source': 'benzinga', 'summary': '', 'symbols': ['ABUS', 'BRNS'], 'updated_at': '2024-11-15T16:02:57Z', 'url': 'https://www.benzinga.com/general/biotech/24/11/42012596/arbutus-and-barinthus-bio-report-im-prove-ii-trial-data-showing-nivolumab-boosts-hbsag-loss-rates'}\n",
      "2024-11-15T16:02:56Z\n"
     ]
    }
   ],
   "source": [
    "from bytewax.testing import run_main\n",
    "\n",
    "run_main(flow)"
   ]
  },
  {
   "cell_type": "code",
   "execution_count": null,
   "metadata": {},
   "outputs": [],
   "source": []
  },
  {
   "cell_type": "code",
   "execution_count": null,
   "metadata": {},
   "outputs": [],
   "source": [
    "processed_stream = op.flat_map(\"parse_atom\", filings_stream, parse_atom)\n",
    "op.inspect(\"processed_stream\", processed_stream)"
   ]
  }
 ],
 "metadata": {
  "kernelspec": {
   "display_name": "realtime_rag",
   "language": "python",
   "name": "python3"
  },
  "language_info": {
   "codemirror_mode": {
    "name": "ipython",
    "version": 3
   },
   "file_extension": ".py",
   "mimetype": "text/x-python",
   "name": "python",
   "nbconvert_exporter": "python",
   "pygments_lexer": "ipython3",
   "version": "3.11.9"
  }
 },
 "nbformat": 4,
 "nbformat_minor": 2
}
